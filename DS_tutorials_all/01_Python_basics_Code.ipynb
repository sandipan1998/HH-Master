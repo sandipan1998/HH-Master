{
  "nbformat": 4,
  "nbformat_minor": 0,
  "metadata": {
    "kernelspec": {
      "display_name": "Python 3",
      "language": "python",
      "name": "python3"
    },
    "language_info": {
      "codemirror_mode": {
        "name": "ipython",
        "version": 3
      },
      "file_extension": ".py",
      "mimetype": "text/x-python",
      "name": "python",
      "nbconvert_exporter": "python",
      "pygments_lexer": "ipython3",
      "version": "3.8.8"
    },
    "colab": {
      "name": "01. Python basics Code.ipynb",
      "provenance": []
    }
  },
  "cells": [
    {
      "cell_type": "markdown",
      "metadata": {
        "id": "bEqHbzBGoOuI"
      },
      "source": [
        "# Introduction To Python   "
      ]
    },
    {
      "cell_type": "markdown",
      "metadata": {
        "id": "EnzCljLhoOuN"
      },
      "source": [
        "## Why python? \n",
        "\n",
        "* Written by Guido van Rossum in 1990.\n",
        "\n",
        "* Was named after BBC Show **Monty Python's Flying Circus**\n",
        "\n",
        "* Practical uses of python."
      ]
    },
    {
      "cell_type": "markdown",
      "metadata": {
        "id": "yh7C-JMJoOuO"
      },
      "source": [
        "## Advantages of Python\n",
        "\n",
        "* **The Code looks similar to how Humans think.****\n",
        "\n",
        "\n",
        "* **Python is free and open-source** - open source means that's it's source code is available to public . we can download it , change it ,use it and distribute it. This feature is called FLOSS (Free and open source software.)\n",
        "\n",
        "\n",
        "* **Portable** - we does not need to change the code that's written in windows operating system to run it on mac or any other operating system.\n",
        "\n",
        "\n",
        "* **It is well supoorted and has numerous online content.**\n",
        "\n",
        "\n",
        "* **It is Dynamically typed**  - meand the type of value is decided at runtime , this is why de don't need to specify the data type while decalaring it.\n",
        "\n",
        "\n",
        "* **It has many powerfull libraries for data manipulation and analysis , data visulatization.**\n",
        "\n",
        "\n",
        "* **Python has Machine Learning.**\n"
      ]
    },
    {
      "cell_type": "markdown",
      "metadata": {
        "id": "mTADkXwqoOuQ"
      },
      "source": [
        "## Downloading and Installing\n",
        "\n",
        "* It can be downloaded from Python official website download section. - **https://www.python.org/downloads**\n",
        "\n",
        "* A executable file (.exe) will be download and upon running it python will be installed in machine.\n",
        "\n",
        "## File Extension  - \n",
        "   **.py**"
      ]
    },
    {
      "cell_type": "markdown",
      "metadata": {
        "id": "5eZfMU--oOuR"
      },
      "source": [
        "### IDE (Integrated Development Environment) - Is a the Text Editior for writing the Program ( Code )."
      ]
    },
    {
      "cell_type": "markdown",
      "metadata": {
        "id": "cotpNxcgoOuS"
      },
      "source": [
        "## Python Distributions\n",
        "\n",
        "- Python software foundation does regular releases of python on its offical webstie . we call them standard distribution.\n",
        "\n",
        "- Other python distribution are downloaded as per person's convenience , they also have many 3^rd party libraries pre installed.\n",
        "\n",
        "Examples of python distribution - \n",
        "\n",
        "* Anaconda from continuum analytics\n",
        "* Pocket python\n",
        "* Portable Python - run python from USB device.\n",
        "* Active python from active state."
      ]
    },
    {
      "cell_type": "markdown",
      "metadata": {
        "id": "tIMXqeLBoOuT"
      },
      "source": [
        "## Anaconda Python Distribution\n",
        "\n",
        "- We can download it from  - https://www.anaconda.com/distribution/  , use graphical installer\n",
        "- A .exe file will be downloaded ,run it and Anaconda will be installed. \n",
        "- Run anaconda distribution.\n",
        "\n",
        "### Lets have a brief introduction to Anaconda navigator and Jupyter notebook."
      ]
    },
    {
      "cell_type": "markdown",
      "metadata": {
        "id": "WHBvExDDoOuX"
      },
      "source": [
        "# Operators - \n",
        "\n",
        "**Arithmetic Operators**\n",
        "\n",
        "**Assignment  Operators**\n",
        "\n",
        "**Comparsion Operators**\n",
        "\n",
        "**Logical  Operators**\n",
        "\n",
        "**Identity Operators**\n",
        "\n",
        "**Membership Operators**\n"
      ]
    },
    {
      "cell_type": "markdown",
      "metadata": {
        "id": "B_s9HO-eoOuY"
      },
      "source": [
        "# Operators\n",
        "They help us in performing operations\n",
        "\n",
        "## Arithmetic Operators\n",
        "\n",
        "- **+**  : addition\n",
        "\n",
        "- **-**  : subtraction\n",
        "\n",
        "- [ * ] : multiplication\n",
        "\n",
        "- **/**  : division\n",
        "\n",
        "- **%**  : modulus  - gives remainder\n",
        "\n",
        "-   **   : Exponentiation\n",
        "\n",
        "- **//** : Floor division - gives quoitent\n"
      ]
    },
    {
      "cell_type": "markdown",
      "metadata": {
        "id": "eCrXF0tNoOuZ"
      },
      "source": [
        "## Data types\n",
        "\n",
        "* Integers\n",
        "\n",
        "* float\n",
        "\n",
        "* string\n",
        "\n",
        "* boolean"
      ]
    },
    {
      "cell_type": "markdown",
      "metadata": {
        "id": "2hxbtmvDoOua"
      },
      "source": [
        "### Intergers"
      ]
    },
    {
      "cell_type": "code",
      "metadata": {
        "id": "fWcuy_g8oOub",
        "outputId": "bdaece85-e205-4520-b161-0ff7ffc439f4"
      },
      "source": [
        "1+1"
      ],
      "execution_count": null,
      "outputs": [
        {
          "output_type": "execute_result",
          "data": {
            "text/plain": [
              "2"
            ]
          },
          "metadata": {
            "tags": []
          },
          "execution_count": 2
        }
      ]
    },
    {
      "cell_type": "code",
      "metadata": {
        "id": "PZMDOrtyoOuf",
        "outputId": "5bc5a391-49af-4843-ce40-9fed79d7eb62"
      },
      "source": [
        "1 * 3"
      ],
      "execution_count": null,
      "outputs": [
        {
          "output_type": "execute_result",
          "data": {
            "text/plain": [
              "3"
            ]
          },
          "metadata": {
            "tags": []
          },
          "execution_count": 3
        }
      ]
    },
    {
      "cell_type": "code",
      "metadata": {
        "id": "Gg_Fk5UmoOug",
        "outputId": "4b5ce3f9-857e-4040-860e-7788a5e292a8"
      },
      "source": [
        "1 / 2"
      ],
      "execution_count": null,
      "outputs": [
        {
          "output_type": "execute_result",
          "data": {
            "text/plain": [
              "0.5"
            ]
          },
          "metadata": {
            "tags": []
          },
          "execution_count": 4
        }
      ]
    },
    {
      "cell_type": "code",
      "metadata": {
        "ExecuteTime": {
          "end_time": "2021-02-28T04:51:18.738010Z",
          "start_time": "2021-02-28T04:51:18.730519Z"
        },
        "id": "SqCsXfCHoOuh",
        "outputId": "fd7d2cdf-cef0-4838-eece-429717a799d3"
      },
      "source": [
        "2 ** 4"
      ],
      "execution_count": null,
      "outputs": [
        {
          "output_type": "execute_result",
          "data": {
            "text/plain": [
              "16"
            ]
          },
          "metadata": {
            "tags": []
          },
          "execution_count": 4
        }
      ]
    },
    {
      "cell_type": "code",
      "metadata": {
        "ExecuteTime": {
          "end_time": "2021-02-28T04:51:27.868050Z",
          "start_time": "2021-02-28T04:51:27.860071Z"
        },
        "id": "l42s5iK5oOui",
        "outputId": "fead5e53-72d2-4913-857d-7ab4cc9597c6"
      },
      "source": [
        "4 % 2"
      ],
      "execution_count": null,
      "outputs": [
        {
          "output_type": "execute_result",
          "data": {
            "text/plain": [
              "0"
            ]
          },
          "metadata": {
            "tags": []
          },
          "execution_count": 5
        }
      ]
    },
    {
      "cell_type": "code",
      "metadata": {
        "ExecuteTime": {
          "end_time": "2021-02-28T04:52:33.874700Z",
          "start_time": "2021-02-28T04:52:33.865725Z"
        },
        "id": "q63c9JidoOui",
        "outputId": "f37832a4-e330-47b3-8b68-201f8c95907a"
      },
      "source": [
        "5 % 2"
      ],
      "execution_count": null,
      "outputs": [
        {
          "output_type": "execute_result",
          "data": {
            "text/plain": [
              "1"
            ]
          },
          "metadata": {
            "tags": []
          },
          "execution_count": 6
        }
      ]
    },
    {
      "cell_type": "code",
      "metadata": {
        "ExecuteTime": {
          "end_time": "2021-02-28T04:55:01.290154Z",
          "start_time": "2021-02-28T04:55:01.284180Z"
        },
        "id": "5rTwriLjoOuk",
        "outputId": "d8bb7800-cfbf-42fc-bec7-1bc0935870a2"
      },
      "source": [
        "5 // 2"
      ],
      "execution_count": null,
      "outputs": [
        {
          "output_type": "execute_result",
          "data": {
            "text/plain": [
              "2"
            ]
          },
          "metadata": {
            "tags": []
          },
          "execution_count": 8
        }
      ]
    },
    {
      "cell_type": "code",
      "metadata": {
        "ExecuteTime": {
          "end_time": "2021-02-28T04:55:02.265253Z",
          "start_time": "2021-02-28T04:55:02.258898Z"
        },
        "id": "LuVJWvcKoOuk",
        "outputId": "14ec04b9-b7d8-40ca-87d0-84efe336b174"
      },
      "source": [
        "(2 + 3) * (5 + 5)"
      ],
      "execution_count": null,
      "outputs": [
        {
          "output_type": "execute_result",
          "data": {
            "text/plain": [
              "50"
            ]
          },
          "metadata": {
            "tags": []
          },
          "execution_count": 9
        }
      ]
    },
    {
      "cell_type": "code",
      "metadata": {
        "ExecuteTime": {
          "end_time": "2021-02-28T04:56:37.090301Z",
          "start_time": "2021-02-28T04:56:37.083320Z"
        },
        "id": "8iY-btA5oOul",
        "outputId": "cba4ce38-efac-4007-b74a-48ad94bcddbc"
      },
      "source": [
        "type(4)\n",
        "#  int stands for integer"
      ],
      "execution_count": null,
      "outputs": [
        {
          "output_type": "execute_result",
          "data": {
            "text/plain": [
              "int"
            ]
          },
          "metadata": {
            "tags": []
          },
          "execution_count": 11
        }
      ]
    },
    {
      "cell_type": "markdown",
      "metadata": {
        "id": "PAgRCUeToOum"
      },
      "source": [
        "### Float"
      ]
    },
    {
      "cell_type": "code",
      "metadata": {
        "id": "3ZSoqD0koOun",
        "outputId": "495d4728-7af7-45b7-de2c-56d7775eed24"
      },
      "source": [
        "type(1.25)"
      ],
      "execution_count": null,
      "outputs": [
        {
          "output_type": "execute_result",
          "data": {
            "text/plain": [
              "float"
            ]
          },
          "metadata": {
            "tags": []
          },
          "execution_count": 98
        }
      ]
    },
    {
      "cell_type": "code",
      "metadata": {
        "id": "Ht_ETA0hoOuo",
        "outputId": "ac9bc46c-6175-4460-c496-9a58d639503e"
      },
      "source": [
        "1.25 + 8.0"
      ],
      "execution_count": null,
      "outputs": [
        {
          "output_type": "execute_result",
          "data": {
            "text/plain": [
              "9.25"
            ]
          },
          "metadata": {
            "tags": []
          },
          "execution_count": 7
        }
      ]
    },
    {
      "cell_type": "code",
      "metadata": {
        "ExecuteTime": {
          "end_time": "2021-02-28T04:56:03.943574Z",
          "start_time": "2021-02-28T04:56:03.936595Z"
        },
        "id": "MvEu5-m_oOuo",
        "outputId": "b90b6046-cca1-4aab-b691-cd3697284a46"
      },
      "source": [
        "1 + 1.0"
      ],
      "execution_count": null,
      "outputs": [
        {
          "output_type": "execute_result",
          "data": {
            "text/plain": [
              "2.0"
            ]
          },
          "metadata": {
            "tags": []
          },
          "execution_count": 10
        }
      ]
    },
    {
      "cell_type": "markdown",
      "metadata": {
        "id": "BqnV60jXoOuq"
      },
      "source": [
        "### Strings"
      ]
    },
    {
      "cell_type": "code",
      "metadata": {
        "id": "rik966EvoOuq",
        "outputId": "0a9a755e-c339-4655-bf74-78302dc9923f"
      },
      "source": [
        "'single quotes'"
      ],
      "execution_count": null,
      "outputs": [
        {
          "output_type": "execute_result",
          "data": {
            "text/plain": [
              "'single quotes'"
            ]
          },
          "metadata": {
            "tags": []
          },
          "execution_count": 100
        }
      ]
    },
    {
      "cell_type": "code",
      "metadata": {
        "id": "4MtVgKfFoOur",
        "outputId": "8220d24e-1db2-4a77-ec98-90612f5e752d"
      },
      "source": [
        "type('single quotes')"
      ],
      "execution_count": null,
      "outputs": [
        {
          "output_type": "execute_result",
          "data": {
            "text/plain": [
              "str"
            ]
          },
          "metadata": {
            "tags": []
          },
          "execution_count": 99
        }
      ]
    },
    {
      "cell_type": "code",
      "metadata": {
        "ExecuteTime": {
          "end_time": "2021-02-28T04:59:21.035602Z",
          "start_time": "2021-02-28T04:59:21.028358Z"
        },
        "id": "W2nOjwp-oOut",
        "outputId": "0e02bf20-90ba-4bc3-c846-17a6091eaa2a"
      },
      "source": [
        "\"double quotes\""
      ],
      "execution_count": null,
      "outputs": [
        {
          "output_type": "execute_result",
          "data": {
            "text/plain": [
              "'double quotes'"
            ]
          },
          "metadata": {
            "tags": []
          },
          "execution_count": 12
        }
      ]
    },
    {
      "cell_type": "code",
      "metadata": {
        "ExecuteTime": {
          "end_time": "2021-02-28T05:00:56.126829Z",
          "start_time": "2021-02-28T05:00:56.120274Z"
        },
        "id": "456B0zJjoOut",
        "outputId": "003bf12c-c4d5-443c-8bd5-d6a77a4cdd76"
      },
      "source": [
        "\" wrap lot's of other quotes\"\n",
        "# using single quotes within \"\" quotes"
      ],
      "execution_count": null,
      "outputs": [
        {
          "output_type": "execute_result",
          "data": {
            "text/plain": [
              "\" wrap lot's of other quotes\""
            ]
          },
          "metadata": {
            "tags": []
          },
          "execution_count": 13
        }
      ]
    },
    {
      "cell_type": "code",
      "metadata": {
        "id": "9jdW4yxYoOuu"
      },
      "source": [
        "#  ' wrap lot's of other quotes'\n",
        "# gives syntax error beacuse single quotes used inside of single quotes"
      ],
      "execution_count": null,
      "outputs": []
    },
    {
      "cell_type": "code",
      "metadata": {
        "id": "-IrO_VwEoOuu"
      },
      "source": [
        "#  escape character  \\\n",
        "' wrap lot\\'s of other quotes'"
      ],
      "execution_count": null,
      "outputs": []
    },
    {
      "cell_type": "markdown",
      "metadata": {
        "id": "u7ZMz-BFoOuv"
      },
      "source": [
        "### Booleans"
      ]
    },
    {
      "cell_type": "code",
      "metadata": {
        "id": "GMEAOKkgoOuv",
        "outputId": "47b4443f-d7b2-46a3-d159-189c0a9f0414"
      },
      "source": [
        "True"
      ],
      "execution_count": null,
      "outputs": [
        {
          "output_type": "execute_result",
          "data": {
            "text/plain": [
              "True"
            ]
          },
          "metadata": {
            "tags": []
          },
          "execution_count": 40
        }
      ]
    },
    {
      "cell_type": "code",
      "metadata": {
        "id": "TVUCo4T6oOuw",
        "outputId": "6c460fc4-808b-4967-9135-fe80f54c8241"
      },
      "source": [
        "type(True)"
      ],
      "execution_count": null,
      "outputs": [
        {
          "output_type": "execute_result",
          "data": {
            "text/plain": [
              "bool"
            ]
          },
          "metadata": {
            "tags": []
          },
          "execution_count": 102
        }
      ]
    },
    {
      "cell_type": "code",
      "metadata": {
        "id": "ToDyM7oboOuw",
        "outputId": "c0d876be-f9ca-4d58-8181-964697a964b7"
      },
      "source": [
        "False"
      ],
      "execution_count": null,
      "outputs": [
        {
          "output_type": "execute_result",
          "data": {
            "text/plain": [
              "False"
            ]
          },
          "metadata": {
            "tags": []
          },
          "execution_count": 41
        }
      ]
    },
    {
      "cell_type": "markdown",
      "metadata": {
        "id": "0syomir4oOux"
      },
      "source": [
        "### Variable Assignment"
      ]
    },
    {
      "cell_type": "code",
      "metadata": {
        "collapsed": true,
        "id": "ajhHKP95oOux"
      },
      "source": [
        "# Can not start with number or special characters\n",
        "name_of_var = 2"
      ],
      "execution_count": null,
      "outputs": []
    },
    {
      "cell_type": "code",
      "metadata": {
        "ExecuteTime": {
          "end_time": "2021-02-28T05:11:41.039982Z",
          "start_time": "2021-02-28T05:11:41.033996Z"
        },
        "id": "tO7MSfu3oOux"
      },
      "source": [
        "x = 2\n",
        "y = 3"
      ],
      "execution_count": null,
      "outputs": []
    },
    {
      "cell_type": "code",
      "metadata": {
        "ExecuteTime": {
          "end_time": "2021-02-28T05:11:41.895693Z",
          "start_time": "2021-02-28T05:11:41.885763Z"
        },
        "id": "-wgQHuTBoOux"
      },
      "source": [
        "x,y = 2,3  # there should be equal no. on both sides also called unpacking"
      ],
      "execution_count": null,
      "outputs": []
    },
    {
      "cell_type": "code",
      "metadata": {
        "ExecuteTime": {
          "end_time": "2021-02-28T05:11:42.341570Z",
          "start_time": "2021-02-28T05:11:42.335586Z"
        },
        "id": "_8cgP2ItoOuy"
      },
      "source": [
        "z = x + y"
      ],
      "execution_count": null,
      "outputs": []
    },
    {
      "cell_type": "code",
      "metadata": {
        "ExecuteTime": {
          "end_time": "2021-02-28T05:11:42.911531Z",
          "start_time": "2021-02-28T05:11:42.902531Z"
        },
        "id": "1sb1WUQeoOuy",
        "outputId": "a75301e9-d984-40ae-892d-0039f89777ac"
      },
      "source": [
        "z"
      ],
      "execution_count": null,
      "outputs": [
        {
          "output_type": "execute_result",
          "data": {
            "text/plain": [
              "5"
            ]
          },
          "metadata": {
            "tags": []
          },
          "execution_count": 17
        }
      ]
    },
    {
      "cell_type": "code",
      "metadata": {
        "id": "Z7-O1IbCoOuy",
        "outputId": "749a4413-b999-4b6e-e7bd-0bb16aadf8e5"
      },
      "source": [
        "# variable reassigned\n",
        "x = 10\n",
        "x"
      ],
      "execution_count": null,
      "outputs": [
        {
          "output_type": "execute_result",
          "data": {
            "text/plain": [
              "10"
            ]
          },
          "metadata": {
            "tags": []
          },
          "execution_count": 12
        }
      ]
    },
    {
      "cell_type": "markdown",
      "metadata": {
        "id": "2JMUa9PaoOuz"
      },
      "source": [
        "### In-build functions\n",
        "python comes with many inbuild functions."
      ]
    },
    {
      "cell_type": "markdown",
      "metadata": {
        "id": "1-OiIL0boOuz"
      },
      "source": [
        "### Printing "
      ]
    },
    {
      "cell_type": "code",
      "metadata": {
        "id": "7JIena3poOuz"
      },
      "source": [
        "x = 'hello'"
      ],
      "execution_count": null,
      "outputs": []
    },
    {
      "cell_type": "code",
      "metadata": {
        "id": "EYAKNow7oOu0",
        "outputId": "95648b81-7e49-4823-e2fc-e43f5c609999"
      },
      "source": [
        "print(x)"
      ],
      "execution_count": null,
      "outputs": [
        {
          "output_type": "stream",
          "text": [
            "hello\n"
          ],
          "name": "stdout"
        }
      ]
    },
    {
      "cell_type": "code",
      "metadata": {
        "id": "kxOIPObroOu0",
        "outputId": "90e27b9d-bf5b-492a-f4f1-bcd52b1c10b0"
      },
      "source": [
        "print('Hi python, I am coming')"
      ],
      "execution_count": null,
      "outputs": [
        {
          "output_type": "stream",
          "text": [
            "Hi python, I am coming\n"
          ],
          "name": "stdout"
        }
      ]
    },
    {
      "cell_type": "markdown",
      "metadata": {
        "id": "-LmR80UHoOu0"
      },
      "source": [
        "### **Type**"
      ]
    },
    {
      "cell_type": "code",
      "metadata": {
        "id": "xcr5BLS3oOu1",
        "outputId": "ee682f99-a563-4869-d7ea-4b03daaf5cb5"
      },
      "source": [
        "type(x)"
      ],
      "execution_count": null,
      "outputs": [
        {
          "output_type": "execute_result",
          "data": {
            "text/plain": [
              "str"
            ]
          },
          "metadata": {
            "tags": []
          },
          "execution_count": 6
        }
      ]
    },
    {
      "cell_type": "code",
      "metadata": {
        "id": "1PW3eGTsoOu1",
        "outputId": "58117eb2-c454-42d2-a387-160b0e526643"
      },
      "source": [
        "x = 8\n",
        "type(x)"
      ],
      "execution_count": null,
      "outputs": [
        {
          "output_type": "execute_result",
          "data": {
            "text/plain": [
              "int"
            ]
          },
          "metadata": {
            "tags": []
          },
          "execution_count": 39
        }
      ]
    },
    {
      "cell_type": "markdown",
      "metadata": {
        "id": "V05k5TXHoOu2"
      },
      "source": [
        "### Concatenation"
      ]
    },
    {
      "cell_type": "code",
      "metadata": {
        "ExecuteTime": {
          "end_time": "2021-02-28T05:20:03.360607Z",
          "start_time": "2021-02-28T05:20:03.341661Z"
        },
        "id": "uP_OdWL9oOu2",
        "outputId": "975ef8ee-5bb1-4d7e-ed0f-6ed62416412e"
      },
      "source": [
        "print('Hi'+'There')"
      ],
      "execution_count": null,
      "outputs": [
        {
          "output_type": "stream",
          "text": [
            "HiThere\n"
          ],
          "name": "stdout"
        }
      ]
    },
    {
      "cell_type": "code",
      "metadata": {
        "ExecuteTime": {
          "end_time": "2021-02-28T05:20:05.105232Z",
          "start_time": "2021-02-28T05:20:05.099735Z"
        },
        "id": "S0QobT3XoOu2",
        "outputId": "f8913383-1170-4571-fdc3-427998709ccb"
      },
      "source": [
        "print('Hi','There')"
      ],
      "execution_count": null,
      "outputs": [
        {
          "output_type": "stream",
          "text": [
            "Hi There\n"
          ],
          "name": "stdout"
        }
      ]
    },
    {
      "cell_type": "code",
      "metadata": {
        "ExecuteTime": {
          "end_time": "2021-02-28T05:20:09.112309Z",
          "start_time": "2021-02-28T05:20:09.098296Z"
        },
        "id": "emb6silXoOu2",
        "outputId": "0dd9a7b9-7dd9-44be-a223-498e65edf2b0"
      },
      "source": [
        "print('Hi','There', 'hello')"
      ],
      "execution_count": null,
      "outputs": [
        {
          "output_type": "stream",
          "text": [
            "Hi There hello\n"
          ],
          "name": "stdout"
        }
      ]
    },
    {
      "cell_type": "markdown",
      "metadata": {
        "id": "FV-qmt2joOu3"
      },
      "source": [
        "### Inter-converting string , float and int"
      ]
    },
    {
      "cell_type": "markdown",
      "metadata": {
        "id": "UAp1A0OUoOu3"
      },
      "source": [
        "**Converting to int**\n",
        "\n",
        "only the values which are number can be converted to int"
      ]
    },
    {
      "cell_type": "code",
      "metadata": {
        "ExecuteTime": {
          "end_time": "2021-02-28T05:21:38.764942Z",
          "start_time": "2021-02-28T05:21:38.759955Z"
        },
        "id": "jFfFa3kmoOu3"
      },
      "source": [
        "s = '1'\n",
        "f = 10.0"
      ],
      "execution_count": null,
      "outputs": []
    },
    {
      "cell_type": "code",
      "metadata": {
        "ExecuteTime": {
          "end_time": "2021-02-28T05:21:40.011856Z",
          "start_time": "2021-02-28T05:21:40.005872Z"
        },
        "id": "WLgGNDHpoOu3",
        "outputId": "ac8eaed1-b944-4bdf-9925-b008a2c383c3"
      },
      "source": [
        "v = int(s)\n",
        "fc = int(f)\n",
        "print(v,fc)"
      ],
      "execution_count": null,
      "outputs": [
        {
          "output_type": "stream",
          "text": [
            "1 10\n"
          ],
          "name": "stdout"
        }
      ]
    },
    {
      "cell_type": "code",
      "metadata": {
        "id": "VfNweYpBoOu4",
        "outputId": "58e9c34f-99dc-430d-9148-822d2cdeb067"
      },
      "source": [
        "print(type(v),type(fc))"
      ],
      "execution_count": null,
      "outputs": [
        {
          "output_type": "stream",
          "text": [
            "<class 'int'> <class 'int'>\n"
          ],
          "name": "stdout"
        }
      ]
    },
    {
      "cell_type": "code",
      "metadata": {
        "id": "SIow_QEEoOu4",
        "outputId": "35117277-7f8e-4c28-8e1d-ec12764875cf"
      },
      "source": [
        "s = int('a')"
      ],
      "execution_count": null,
      "outputs": [
        {
          "output_type": "error",
          "ename": "ValueError",
          "evalue": "invalid literal for int() with base 10: 'a'",
          "traceback": [
            "\u001b[1;31m---------------------------------------------------------------------------\u001b[0m",
            "\u001b[1;31mValueError\u001b[0m                                Traceback (most recent call last)",
            "\u001b[1;32m<ipython-input-13-ffb11c257ea4>\u001b[0m in \u001b[0;36m<module>\u001b[1;34m\u001b[0m\n\u001b[1;32m----> 1\u001b[1;33m \u001b[0ms\u001b[0m \u001b[1;33m=\u001b[0m \u001b[0mint\u001b[0m\u001b[1;33m(\u001b[0m\u001b[1;34m'a'\u001b[0m\u001b[1;33m)\u001b[0m\u001b[1;33m\u001b[0m\u001b[1;33m\u001b[0m\u001b[0m\n\u001b[0m",
            "\u001b[1;31mValueError\u001b[0m: invalid literal for int() with base 10: 'a'"
          ]
        }
      ]
    },
    {
      "cell_type": "markdown",
      "metadata": {
        "id": "gJjmCNxsoOu5"
      },
      "source": [
        "**Converting to float**\n",
        "\n",
        "only the values which are number can be converted to float"
      ]
    },
    {
      "cell_type": "code",
      "metadata": {
        "id": "Mj44NuNKoOvC",
        "outputId": "8b4f3c12-33a0-4524-a3ec-56977c27cd98"
      },
      "source": [
        "print(float('1.0'))\n",
        "print(float(10))\n",
        "print(float('34'))"
      ],
      "execution_count": null,
      "outputs": [
        {
          "output_type": "stream",
          "text": [
            "1.0\n",
            "10.0\n",
            "34.0\n"
          ],
          "name": "stdout"
        }
      ]
    },
    {
      "cell_type": "markdown",
      "metadata": {
        "id": "hHU3NOI3oOvD"
      },
      "source": [
        "**Converting to string**\n",
        "\n",
        "any value can be converted to float"
      ]
    },
    {
      "cell_type": "code",
      "metadata": {
        "id": "ptz7yBwsoOvD",
        "outputId": "1ced32e7-29cc-4b96-9635-331cdf80c6e2"
      },
      "source": [
        "print(str(1.0))\n",
        "print(str(10))"
      ],
      "execution_count": null,
      "outputs": [
        {
          "output_type": "stream",
          "text": [
            "1.0\n",
            "10\n"
          ],
          "name": "stdout"
        }
      ]
    },
    {
      "cell_type": "code",
      "metadata": {
        "id": "vHIy3jVEoOvE",
        "outputId": "e6b5c0ea-89b3-406e-c277-d06cb9de412f"
      },
      "source": [
        "print(type(str(1.0)))\n",
        "print(type(str(10)))"
      ],
      "execution_count": null,
      "outputs": [
        {
          "output_type": "stream",
          "text": [
            "<class 'str'>\n",
            "<class 'str'>\n"
          ],
          "name": "stdout"
        }
      ]
    },
    {
      "cell_type": "markdown",
      "metadata": {
        "id": "B_QXTYS2oOvE"
      },
      "source": [
        "# Operators\n",
        "\n",
        "## Assignment Operators\n",
        "**=**  : assigns a value to a variable\n",
        "\n",
        "**+=**  : c += a   is equivalent to c = c + a\n",
        "\n",
        "** - =**  : c -= a   is equivalent to c = c - a\n",
        "\n",
        "**(*=)**  : c *= a   is equivalent to c = c * a\n",
        "\n",
        "**/=**  : c /= a   is equivalent to c = c / a\n",
        "\n",
        "**%=**  : c %= a   is equivalent to c = c % a\n",
        "\n",
        "**//=**  : c //= a   is equivalent to c = c // a"
      ]
    },
    {
      "cell_type": "code",
      "metadata": {
        "ExecuteTime": {
          "end_time": "2021-02-28T05:51:43.999119Z",
          "start_time": "2021-02-28T05:51:43.994136Z"
        },
        "id": "r5qMKzjRoOvF"
      },
      "source": [
        "x = 1\n",
        "y = 2"
      ],
      "execution_count": null,
      "outputs": []
    },
    {
      "cell_type": "code",
      "metadata": {
        "ExecuteTime": {
          "end_time": "2021-02-28T05:51:44.618501Z",
          "start_time": "2021-02-28T05:51:44.604541Z"
        },
        "id": "Jl3bE-znoOvF",
        "outputId": "d4601193-f591-4ad7-a5df-a3ea03f9150f"
      },
      "source": [
        "x += y # x = x + y\n",
        "x"
      ],
      "execution_count": null,
      "outputs": [
        {
          "output_type": "execute_result",
          "data": {
            "text/plain": [
              "2"
            ]
          },
          "metadata": {
            "tags": []
          },
          "execution_count": 33
        }
      ]
    },
    {
      "cell_type": "code",
      "metadata": {
        "ExecuteTime": {
          "end_time": "2021-02-28T05:52:16.112622Z",
          "start_time": "2021-02-28T05:52:16.102662Z"
        },
        "id": "g4HA0Q5qoOvG",
        "outputId": "7839bfd7-28cb-4aac-d5c4-f14152ad22e2"
      },
      "source": [
        "x -= y\n",
        "x"
      ],
      "execution_count": null,
      "outputs": [
        {
          "output_type": "execute_result",
          "data": {
            "text/plain": [
              "-2"
            ]
          },
          "metadata": {
            "tags": []
          },
          "execution_count": 35
        }
      ]
    },
    {
      "cell_type": "code",
      "metadata": {
        "ExecuteTime": {
          "end_time": "2021-02-28T05:53:10.206594Z",
          "start_time": "2021-02-28T05:53:10.197622Z"
        },
        "id": "Fu-yMRK-oOvG",
        "outputId": "38ed89cb-22aa-4f3a-af49-5659442d83cf"
      },
      "source": [
        "x //= y # x = x // y\n",
        "x"
      ],
      "execution_count": null,
      "outputs": [
        {
          "output_type": "execute_result",
          "data": {
            "text/plain": [
              "-1"
            ]
          },
          "metadata": {
            "tags": []
          },
          "execution_count": 37
        }
      ]
    },
    {
      "cell_type": "code",
      "metadata": {
        "ExecuteTime": {
          "end_time": "2021-02-28T05:53:49.452770Z",
          "start_time": "2021-02-28T05:53:49.447784Z"
        },
        "id": "e3NTUHGXoOvH"
      },
      "source": [
        "x *= y # x = x * y "
      ],
      "execution_count": null,
      "outputs": []
    },
    {
      "cell_type": "code",
      "metadata": {
        "ExecuteTime": {
          "end_time": "2021-02-28T05:53:52.774761Z",
          "start_time": "2021-02-28T05:53:52.768780Z"
        },
        "id": "SQbYwkMDoOvH",
        "outputId": "89d87aed-d7c5-443e-cd08-0acbb98b8806"
      },
      "source": [
        "x"
      ],
      "execution_count": null,
      "outputs": [
        {
          "output_type": "execute_result",
          "data": {
            "text/plain": [
              "-2"
            ]
          },
          "metadata": {
            "tags": []
          },
          "execution_count": 39
        }
      ]
    },
    {
      "cell_type": "markdown",
      "metadata": {
        "id": "Lvb7IDZVoOvH"
      },
      "source": [
        "# Operators\n",
        "\n",
        "## Comparison Operators - \n",
        "They compares the values and returns bool if required\n",
        "\n",
        "**==** : are equal\n",
        "\n",
        "**!=** : not equal\n",
        "\n",
        "**>** : greater than\n",
        "\n",
        "**<** : samller than\n",
        "\n",
        "**>=** : greater than or equal to\n",
        "\n",
        "**<=** : smaller than or equal to\n"
      ]
    },
    {
      "cell_type": "code",
      "metadata": {
        "ExecuteTime": {
          "end_time": "2021-02-28T05:56:45.498512Z",
          "start_time": "2021-02-28T05:56:45.489516Z"
        },
        "id": "rlfEhzfuoOvI",
        "outputId": "190425c9-b0f1-47cf-ebe4-401a277072ee"
      },
      "source": [
        "1 > 2"
      ],
      "execution_count": null,
      "outputs": [
        {
          "output_type": "execute_result",
          "data": {
            "text/plain": [
              "False"
            ]
          },
          "metadata": {
            "tags": []
          },
          "execution_count": 40
        }
      ]
    },
    {
      "cell_type": "code",
      "metadata": {
        "ExecuteTime": {
          "end_time": "2021-02-28T05:56:49.229257Z",
          "start_time": "2021-02-28T05:56:49.219288Z"
        },
        "id": "1Ix3kCTwoOvI",
        "outputId": "290279e7-f2d0-4e6e-e12f-b81a0426d48a"
      },
      "source": [
        "1 < 2"
      ],
      "execution_count": null,
      "outputs": [
        {
          "output_type": "execute_result",
          "data": {
            "text/plain": [
              "True"
            ]
          },
          "metadata": {
            "tags": []
          },
          "execution_count": 41
        }
      ]
    },
    {
      "cell_type": "code",
      "metadata": {
        "ExecuteTime": {
          "end_time": "2021-02-28T05:56:59.088356Z",
          "start_time": "2021-02-28T05:56:59.081377Z"
        },
        "id": "zOOBgJSYoOvJ",
        "outputId": "205724f5-415f-4c92-9216-ee44716763df"
      },
      "source": [
        "1 >= 1"
      ],
      "execution_count": null,
      "outputs": [
        {
          "output_type": "execute_result",
          "data": {
            "text/plain": [
              "True"
            ]
          },
          "metadata": {
            "tags": []
          },
          "execution_count": 42
        }
      ]
    },
    {
      "cell_type": "code",
      "metadata": {
        "ExecuteTime": {
          "end_time": "2021-02-28T05:57:10.828231Z",
          "start_time": "2021-02-28T05:57:10.822249Z"
        },
        "id": "3BOkw0RUoOvJ",
        "outputId": "e442fb23-1f64-4209-db21-50c67bb511f7"
      },
      "source": [
        "1 <= 4"
      ],
      "execution_count": null,
      "outputs": [
        {
          "output_type": "execute_result",
          "data": {
            "text/plain": [
              "True"
            ]
          },
          "metadata": {
            "tags": []
          },
          "execution_count": 43
        }
      ]
    },
    {
      "cell_type": "code",
      "metadata": {
        "ExecuteTime": {
          "end_time": "2021-02-28T05:57:15.239036Z",
          "start_time": "2021-02-28T05:57:15.223077Z"
        },
        "id": "2dkiw8DpoOvJ",
        "outputId": "b7480577-354e-480b-bd23-b88507ae1223"
      },
      "source": [
        "1 == 1"
      ],
      "execution_count": null,
      "outputs": [
        {
          "output_type": "execute_result",
          "data": {
            "text/plain": [
              "True"
            ]
          },
          "metadata": {
            "tags": []
          },
          "execution_count": 44
        }
      ]
    },
    {
      "cell_type": "code",
      "metadata": {
        "ExecuteTime": {
          "end_time": "2021-02-28T05:57:26.902555Z",
          "start_time": "2021-02-28T05:57:26.896307Z"
        },
        "id": "4Jh2itUwoOvK",
        "outputId": "924878d0-1862-41e7-df36-bfc719c02e58"
      },
      "source": [
        "'hi' == 'bye'"
      ],
      "execution_count": null,
      "outputs": [
        {
          "output_type": "execute_result",
          "data": {
            "text/plain": [
              "False"
            ]
          },
          "metadata": {
            "tags": []
          },
          "execution_count": 45
        }
      ]
    },
    {
      "cell_type": "code",
      "metadata": {
        "ExecuteTime": {
          "end_time": "2021-02-28T05:57:36.185846Z",
          "start_time": "2021-02-28T05:57:36.178626Z"
        },
        "id": "2rQVoz8zoOvK",
        "outputId": "714b89bd-72a0-4fc7-8e83-c4bf247e04e9"
      },
      "source": [
        "'hi' != 'bye'"
      ],
      "execution_count": null,
      "outputs": [
        {
          "output_type": "execute_result",
          "data": {
            "text/plain": [
              "True"
            ]
          },
          "metadata": {
            "tags": []
          },
          "execution_count": 46
        }
      ]
    },
    {
      "cell_type": "code",
      "metadata": {
        "ExecuteTime": {
          "end_time": "2021-02-28T05:57:44.251660Z",
          "start_time": "2021-02-28T05:57:44.238696Z"
        },
        "id": "iauLQr7RoOvK",
        "outputId": "986237f7-6159-4b65-ea50-3187e8fda0ef"
      },
      "source": [
        "'a' == 'A'"
      ],
      "execution_count": null,
      "outputs": [
        {
          "output_type": "execute_result",
          "data": {
            "text/plain": [
              "False"
            ]
          },
          "metadata": {
            "tags": []
          },
          "execution_count": 47
        }
      ]
    },
    {
      "cell_type": "markdown",
      "metadata": {
        "id": "NjZ2iS7JoOvL"
      },
      "source": [
        "## Logic Operators\n",
        "\n",
        "**and**  = requires both the statements to be true\n",
        "\n",
        "**or**   = requires any statement to be true"
      ]
    },
    {
      "cell_type": "code",
      "metadata": {
        "id": "PHMjCSgroOvL",
        "outputId": "4a703d88-934d-4d00-cb2f-7fd4739c6f23"
      },
      "source": [
        "True and True"
      ],
      "execution_count": null,
      "outputs": [
        {
          "output_type": "execute_result",
          "data": {
            "text/plain": [
              "True"
            ]
          },
          "metadata": {
            "tags": []
          },
          "execution_count": 35
        }
      ]
    },
    {
      "cell_type": "code",
      "metadata": {
        "id": "jb0ubnENoOvM",
        "outputId": "69d4658a-e828-4a9d-d119-9366356fedff"
      },
      "source": [
        "True and False"
      ],
      "execution_count": null,
      "outputs": [
        {
          "output_type": "execute_result",
          "data": {
            "text/plain": [
              "False"
            ]
          },
          "metadata": {
            "tags": []
          },
          "execution_count": 36
        }
      ]
    },
    {
      "cell_type": "code",
      "metadata": {
        "id": "zS7iHdX6oOvM",
        "outputId": "d2a802eb-1a65-472c-b4a0-85ae672356fd"
      },
      "source": [
        "True or False"
      ],
      "execution_count": null,
      "outputs": [
        {
          "output_type": "execute_result",
          "data": {
            "text/plain": [
              "True"
            ]
          },
          "metadata": {
            "tags": []
          },
          "execution_count": 37
        }
      ]
    },
    {
      "cell_type": "code",
      "metadata": {
        "ExecuteTime": {
          "end_time": "2021-02-28T06:00:22.300554Z",
          "start_time": "2021-02-28T06:00:22.293572Z"
        },
        "id": "7q4Vew45oOvM",
        "outputId": "1dce017c-2b29-4bf3-88f8-ff6c4ace6537"
      },
      "source": [
        "(1 < 2) and (2 < 3)"
      ],
      "execution_count": null,
      "outputs": [
        {
          "output_type": "execute_result",
          "data": {
            "text/plain": [
              "True"
            ]
          },
          "metadata": {
            "tags": []
          },
          "execution_count": 48
        }
      ]
    },
    {
      "cell_type": "code",
      "metadata": {
        "ExecuteTime": {
          "end_time": "2021-02-28T06:02:55.530961Z",
          "start_time": "2021-02-28T06:02:55.515012Z"
        },
        "id": "YNx6pMpioOvN",
        "outputId": "c39700f7-7efd-42b7-fd8e-cc28a6d41f91"
      },
      "source": [
        "(1 > 2) and (2 < 3) and (10 < 8) and (67 == 67)"
      ],
      "execution_count": null,
      "outputs": [
        {
          "output_type": "execute_result",
          "data": {
            "text/plain": [
              "False"
            ]
          },
          "metadata": {
            "tags": []
          },
          "execution_count": 50
        }
      ]
    },
    {
      "cell_type": "code",
      "metadata": {
        "id": "FGWL5PlIoOvN",
        "outputId": "ea11afa9-534b-4183-9f96-d28ba086d6fd"
      },
      "source": [
        "(1 > 2) or ('a' < 'A') or (10 == 10)"
      ],
      "execution_count": null,
      "outputs": [
        {
          "output_type": "execute_result",
          "data": {
            "text/plain": [
              "True"
            ]
          },
          "metadata": {
            "tags": []
          },
          "execution_count": 54
        }
      ]
    },
    {
      "cell_type": "code",
      "metadata": {
        "id": "a2mOfk3toOvN",
        "outputId": "ff1f5159-06a5-437d-9d97-b4f6c27a18a8"
      },
      "source": [
        "(1 == 2) or (2 == 3)"
      ],
      "execution_count": null,
      "outputs": [
        {
          "output_type": "execute_result",
          "data": {
            "text/plain": [
              "False"
            ]
          },
          "metadata": {
            "tags": []
          },
          "execution_count": 1
        }
      ]
    },
    {
      "cell_type": "markdown",
      "metadata": {
        "id": "hSpX2umRoOvN"
      },
      "source": [
        "### Comments\n",
        "They are used for giving a information about anything . They come in action when # i put before a line code\n",
        "\n",
        "when the program runs seeing the # character the program skips that line."
      ]
    },
    {
      "cell_type": "code",
      "metadata": {
        "id": "4Ij7wRdxoOvO"
      },
      "source": [
        "# hi i want to tell you something"
      ],
      "execution_count": null,
      "outputs": []
    },
    {
      "cell_type": "code",
      "metadata": {
        "id": "bqadlCIdoOvO"
      },
      "source": [
        "'''   used for multi line comment also called doc string   '''"
      ],
      "execution_count": null,
      "outputs": []
    },
    {
      "cell_type": "markdown",
      "metadata": {
        "id": "lSx1WhbnoOvO"
      },
      "source": [
        "# Data Structures \n",
        "\n",
        "* Lists\n",
        "\n",
        "* Dictionaries\n",
        "\n",
        "* Tuples\n",
        "\n",
        "* Sets"
      ]
    },
    {
      "cell_type": "markdown",
      "metadata": {
        "id": "S_VcH2uWoOvP"
      },
      "source": [
        "## Lists\n",
        "Data type that stores any kind of data.\n",
        "\n",
        "Are recognized by square brackets  [    ]"
      ]
    },
    {
      "cell_type": "code",
      "metadata": {
        "ExecuteTime": {
          "end_time": "2021-02-28T06:11:58.628061Z",
          "start_time": "2021-02-28T06:11:58.620615Z"
        },
        "id": "v2RRXKLWoOvP",
        "outputId": "ee8beaaa-199f-4d86-a148-34681fb1c615"
      },
      "source": [
        "x = [1,2,3]\n",
        "x"
      ],
      "execution_count": null,
      "outputs": [
        {
          "output_type": "execute_result",
          "data": {
            "text/plain": [
              "[1, 2, 3]"
            ]
          },
          "metadata": {
            "tags": []
          },
          "execution_count": 51
        }
      ]
    },
    {
      "cell_type": "code",
      "metadata": {
        "ExecuteTime": {
          "end_time": "2021-02-28T06:11:58.912414Z",
          "start_time": "2021-02-28T06:11:58.905433Z"
        },
        "id": "FzzwpFJmoOvP",
        "outputId": "2598d32d-15ed-4d28-ef99-c9003da1d724"
      },
      "source": [
        "type(x)"
      ],
      "execution_count": null,
      "outputs": [
        {
          "output_type": "execute_result",
          "data": {
            "text/plain": [
              "list"
            ]
          },
          "metadata": {
            "tags": []
          },
          "execution_count": 52
        }
      ]
    },
    {
      "cell_type": "code",
      "metadata": {
        "ExecuteTime": {
          "end_time": "2021-02-28T06:12:48.084453Z",
          "start_time": "2021-02-28T06:12:48.076475Z"
        },
        "id": "kZHSXn9voOvQ",
        "outputId": "408493bd-cd3e-4bab-b10e-7b997f76f9c8"
      },
      "source": [
        "['hi',1,1.25]"
      ],
      "execution_count": null,
      "outputs": [
        {
          "output_type": "execute_result",
          "data": {
            "text/plain": [
              "['hi', 1, 1.25]"
            ]
          },
          "metadata": {
            "tags": []
          },
          "execution_count": 53
        }
      ]
    },
    {
      "cell_type": "code",
      "metadata": {
        "ExecuteTime": {
          "end_time": "2021-02-28T06:15:36.048958Z",
          "start_time": "2021-02-28T06:15:36.041977Z"
        },
        "id": "0HOXPkEIoOvQ",
        "outputId": "91a4350d-438b-4663-989d-583d7d48b46f"
      },
      "source": [
        "a = [[1,2],[45,25,43], 89 , 'hi' , 12.0]\n",
        "a"
      ],
      "execution_count": null,
      "outputs": [
        {
          "output_type": "execute_result",
          "data": {
            "text/plain": [
              "[[1, 2], [45, 25, 43], 89, 'hi', 12.0]"
            ]
          },
          "metadata": {
            "tags": []
          },
          "execution_count": 54
        }
      ]
    },
    {
      "cell_type": "markdown",
      "metadata": {
        "id": "u8CFgXK6oOvQ"
      },
      "source": [
        "### Tuples\n",
        "used for storing any data type.\n",
        "recoznized by small brackets ()."
      ]
    },
    {
      "cell_type": "code",
      "metadata": {
        "id": "DNtn_EmroOvR",
        "outputId": "7d12da2b-e857-4980-83c5-9dc6b472bf8e"
      },
      "source": [
        "a = (1,2,3)\n",
        "a"
      ],
      "execution_count": null,
      "outputs": [
        {
          "output_type": "execute_result",
          "data": {
            "text/plain": [
              "(1, 2, 3)"
            ]
          },
          "metadata": {
            "tags": []
          },
          "execution_count": 59
        }
      ]
    },
    {
      "cell_type": "code",
      "metadata": {
        "id": "C3VD3Ls3oOvR",
        "outputId": "001d1751-072a-4382-fbe7-df713aed4692"
      },
      "source": [
        "type(a)"
      ],
      "execution_count": null,
      "outputs": [
        {
          "output_type": "execute_result",
          "data": {
            "text/plain": [
              "tuple"
            ]
          },
          "metadata": {
            "tags": []
          },
          "execution_count": 60
        }
      ]
    },
    {
      "cell_type": "code",
      "metadata": {
        "id": "-UkwKIuJoOvS",
        "outputId": "3cfa24af-d9f3-4f92-a5b2-3354dbc4ced8"
      },
      "source": [
        "(44) # It is not a tuple it is just 44 written in brackets.\n",
        "(44,)  # it is a tuple ,due to trailing comma after 44 within the brackets."
      ],
      "execution_count": null,
      "outputs": [
        {
          "output_type": "execute_result",
          "data": {
            "text/plain": [
              "(44,)"
            ]
          },
          "metadata": {
            "tags": []
          },
          "execution_count": 1
        }
      ]
    },
    {
      "cell_type": "code",
      "metadata": {
        "id": "HZ49ATiXoOvS",
        "outputId": "e853e997-260e-4370-d1f3-fc5222a8e62e"
      },
      "source": [
        "('hih' , 1 ,1.0)"
      ],
      "execution_count": null,
      "outputs": [
        {
          "output_type": "execute_result",
          "data": {
            "text/plain": [
              "('hih', 1, 1.0)"
            ]
          },
          "metadata": {
            "tags": []
          },
          "execution_count": 61
        }
      ]
    },
    {
      "cell_type": "code",
      "metadata": {
        "id": "z4e3PWhUoOvS",
        "outputId": "3eb0d4dd-45e9-478d-bf84-f7fdc27dac91"
      },
      "source": [
        "((1,2),[45,25,43],89,'ko')"
      ],
      "execution_count": null,
      "outputs": [
        {
          "output_type": "execute_result",
          "data": {
            "text/plain": [
              "((1, 2), [45, 25, 43], 89, 'ko')"
            ]
          },
          "metadata": {
            "tags": []
          },
          "execution_count": 89
        }
      ]
    },
    {
      "cell_type": "markdown",
      "metadata": {
        "id": "BYg3iYtMoOvT"
      },
      "source": [
        "**To convert and data type to tuple - use python tuple build in function**"
      ]
    },
    {
      "cell_type": "code",
      "metadata": {
        "ExecuteTime": {
          "end_time": "2021-02-28T06:20:02.822608Z",
          "start_time": "2021-02-28T06:20:02.818618Z"
        },
        "id": "EPnzlzkkoOvT"
      },
      "source": [
        "li = [1,2,3,4,5]"
      ],
      "execution_count": null,
      "outputs": []
    },
    {
      "cell_type": "code",
      "metadata": {
        "ExecuteTime": {
          "end_time": "2021-02-28T06:20:03.337282Z",
          "start_time": "2021-02-28T06:20:03.332295Z"
        },
        "id": "Pten1qdFoOvT"
      },
      "source": [
        "tu = tuple(li)"
      ],
      "execution_count": null,
      "outputs": []
    },
    {
      "cell_type": "code",
      "metadata": {
        "ExecuteTime": {
          "end_time": "2021-02-28T06:20:03.831528Z",
          "start_time": "2021-02-28T06:20:03.813576Z"
        },
        "id": "BlIfeOBjoOvT",
        "outputId": "a3b1dafd-4764-4b0a-9caa-f581a3d04b0c"
      },
      "source": [
        "tu"
      ],
      "execution_count": null,
      "outputs": [
        {
          "output_type": "execute_result",
          "data": {
            "text/plain": [
              "(1, 2, 3, 4, 5)"
            ]
          },
          "metadata": {
            "tags": []
          },
          "execution_count": 58
        }
      ]
    },
    {
      "cell_type": "markdown",
      "metadata": {
        "id": "vxUUoaoXoOvU"
      },
      "source": [
        "**To convert and data type to list - use python build in function**"
      ]
    },
    {
      "cell_type": "code",
      "metadata": {
        "ExecuteTime": {
          "end_time": "2021-02-28T06:20:05.894178Z",
          "start_time": "2021-02-28T06:20:05.887198Z"
        },
        "id": "iOQbWThxoOvU",
        "outputId": "e65795a5-e6fe-49e7-a6c2-09427425fdc7"
      },
      "source": [
        "list(tu)"
      ],
      "execution_count": null,
      "outputs": [
        {
          "output_type": "execute_result",
          "data": {
            "text/plain": [
              "[1, 2, 3, 4, 5]"
            ]
          },
          "metadata": {
            "tags": []
          },
          "execution_count": 59
        }
      ]
    },
    {
      "cell_type": "markdown",
      "metadata": {
        "id": "qB56cvJ7oOvU"
      },
      "source": [
        "## Indexing"
      ]
    },
    {
      "cell_type": "code",
      "metadata": {
        "ExecuteTime": {
          "end_time": "2021-02-28T06:26:50.579418Z",
          "start_time": "2021-02-28T06:26:50.570443Z"
        },
        "id": "86GGW7_CoOvU"
      },
      "source": [
        "s = 'abcde'\n",
        "l = [34,28,35,43,'hi']\n",
        "tu = (112.0 , 'k')"
      ],
      "execution_count": null,
      "outputs": []
    },
    {
      "cell_type": "code",
      "metadata": {
        "ExecuteTime": {
          "end_time": "2021-02-28T06:27:58.125199Z",
          "start_time": "2021-02-28T06:27:58.119215Z"
        },
        "id": "-JU4AxeeoOvU",
        "outputId": "d744114f-f869-492d-f6a0-cc7a5c83c6d2"
      },
      "source": [
        "s[4]"
      ],
      "execution_count": null,
      "outputs": [
        {
          "output_type": "execute_result",
          "data": {
            "text/plain": [
              "'e'"
            ]
          },
          "metadata": {
            "tags": []
          },
          "execution_count": 64
        }
      ]
    },
    {
      "cell_type": "code",
      "metadata": {
        "ExecuteTime": {
          "end_time": "2021-02-28T06:28:41.337909Z",
          "start_time": "2021-02-28T06:28:41.331926Z"
        },
        "id": "1WKki2v-oOvV",
        "outputId": "7a641f09-80ee-4e90-e3ca-2929859471c9"
      },
      "source": [
        "l[3]"
      ],
      "execution_count": null,
      "outputs": [
        {
          "output_type": "execute_result",
          "data": {
            "text/plain": [
              "43"
            ]
          },
          "metadata": {
            "tags": []
          },
          "execution_count": 65
        }
      ]
    },
    {
      "cell_type": "markdown",
      "metadata": {
        "id": "f4cYPdnioOvV"
      },
      "source": [
        "### Indexing with nested list and tuples."
      ]
    },
    {
      "cell_type": "code",
      "metadata": {
        "ExecuteTime": {
          "end_time": "2021-02-28T06:32:51.149797Z",
          "start_time": "2021-02-28T06:32:51.144813Z"
        },
        "id": "LTd-QAxBoOvV"
      },
      "source": [
        "tu = ((122,240),[45,25,43],89,'ko')"
      ],
      "execution_count": null,
      "outputs": []
    },
    {
      "cell_type": "code",
      "metadata": {
        "ExecuteTime": {
          "end_time": "2021-02-28T06:32:51.594634Z",
          "start_time": "2021-02-28T06:32:51.585659Z"
        },
        "id": "ml0tAee-oOvV",
        "outputId": "4232b81f-de6c-4a2a-8f62-60cea6ea46da"
      },
      "source": [
        "tu[0]"
      ],
      "execution_count": null,
      "outputs": [
        {
          "output_type": "execute_result",
          "data": {
            "text/plain": [
              "(122, 240)"
            ]
          },
          "metadata": {
            "tags": []
          },
          "execution_count": 70
        }
      ]
    },
    {
      "cell_type": "code",
      "metadata": {
        "ExecuteTime": {
          "end_time": "2021-02-28T06:32:52.085993Z",
          "start_time": "2021-02-28T06:32:52.076012Z"
        },
        "id": "L7Nep2QsoOvW",
        "outputId": "750098e3-55e6-4c5b-b642-d5b230a9a959"
      },
      "source": [
        "tu[0][1]"
      ],
      "execution_count": null,
      "outputs": [
        {
          "output_type": "execute_result",
          "data": {
            "text/plain": [
              "240"
            ]
          },
          "metadata": {
            "tags": []
          },
          "execution_count": 71
        }
      ]
    },
    {
      "cell_type": "markdown",
      "metadata": {
        "id": "x_loP0NcoOvW"
      },
      "source": [
        "### slicing \n",
        "sequence [start : end : step = 1 (optional)]"
      ]
    },
    {
      "cell_type": "code",
      "metadata": {
        "ExecuteTime": {
          "end_time": "2021-02-28T06:35:17.751051Z",
          "start_time": "2021-02-28T06:35:17.745068Z"
        },
        "id": "sZn53oUCoOvW"
      },
      "source": [
        "lis = ['a' ,'b' ,'c' ,'d' ,'e' ,'f' ,'g' ,'h' ,'i' ,'j' ,'k']"
      ],
      "execution_count": null,
      "outputs": []
    },
    {
      "cell_type": "code",
      "metadata": {
        "ExecuteTime": {
          "end_time": "2021-02-28T06:36:21.528912Z",
          "start_time": "2021-02-28T06:36:21.518939Z"
        },
        "id": "Dt2jcFmIoOvW",
        "outputId": "2983ec74-d2a9-42ac-94d9-5dedb7c91db8"
      },
      "source": [
        "lis[1:8]\n",
        "#  thing to note is that the element at 8th index is not included\n",
        "#  in simple terms the END is not included"
      ],
      "execution_count": null,
      "outputs": [
        {
          "output_type": "execute_result",
          "data": {
            "text/plain": [
              "['b', 'c', 'd', 'e', 'f', 'g', 'h']"
            ]
          },
          "metadata": {
            "tags": []
          },
          "execution_count": 73
        }
      ]
    },
    {
      "cell_type": "code",
      "metadata": {
        "ExecuteTime": {
          "end_time": "2021-02-28T06:37:38.030800Z",
          "start_time": "2021-02-28T06:37:38.018842Z"
        },
        "id": "h2PRTcetoOvW",
        "outputId": "b50ccc1d-df03-4593-fce2-30c0b5456bf8"
      },
      "source": [
        "lis[0:9]"
      ],
      "execution_count": null,
      "outputs": [
        {
          "output_type": "execute_result",
          "data": {
            "text/plain": [
              "['a', 'b', 'c', 'd', 'e', 'f', 'g', 'h', 'i']"
            ]
          },
          "metadata": {
            "tags": []
          },
          "execution_count": 75
        }
      ]
    },
    {
      "cell_type": "code",
      "metadata": {
        "ExecuteTime": {
          "end_time": "2021-02-28T06:43:59.370740Z",
          "start_time": "2021-02-28T06:43:59.362763Z"
        },
        "id": "YDPvZajCoOvX",
        "outputId": "ee341537-3306-4e2b-fb59-f46769bcac5a"
      },
      "source": [
        "x = lis[1:8]\n",
        "x"
      ],
      "execution_count": null,
      "outputs": [
        {
          "output_type": "execute_result",
          "data": {
            "text/plain": [
              "['b', 'c', 'd', 'e', 'f', 'g', 'h']"
            ]
          },
          "metadata": {
            "tags": []
          },
          "execution_count": 79
        }
      ]
    },
    {
      "cell_type": "code",
      "metadata": {
        "ExecuteTime": {
          "end_time": "2021-02-28T06:43:08.288129Z",
          "start_time": "2021-02-28T06:43:08.281147Z"
        },
        "id": "Yy461mAmoOvX",
        "outputId": "5a1b1205-216f-41f6-f591-c19649a7ec87"
      },
      "source": [
        "lis[2:6]"
      ],
      "execution_count": null,
      "outputs": [
        {
          "output_type": "execute_result",
          "data": {
            "text/plain": [
              "['c', 'd', 'e', 'f']"
            ]
          },
          "metadata": {
            "tags": []
          },
          "execution_count": 78
        }
      ]
    },
    {
      "cell_type": "code",
      "metadata": {
        "ExecuteTime": {
          "end_time": "2021-02-28T06:42:57.295086Z",
          "start_time": "2021-02-28T06:42:57.287109Z"
        },
        "id": "uj18gU63oOvX",
        "outputId": "9ceda75b-c666-4fd2-ddb7-ee7565f9d498"
      },
      "source": [
        "lis[2:6:2]"
      ],
      "execution_count": null,
      "outputs": [
        {
          "output_type": "execute_result",
          "data": {
            "text/plain": [
              "['c', 'e']"
            ]
          },
          "metadata": {
            "tags": []
          },
          "execution_count": 77
        }
      ]
    },
    {
      "cell_type": "code",
      "metadata": {
        "ExecuteTime": {
          "end_time": "2021-02-28T06:48:30.252210Z",
          "start_time": "2021-02-28T06:48:30.243237Z"
        },
        "id": "Kah5xQ1koOvX",
        "outputId": "d1f4f976-cffb-4ba9-c633-52333a49674a"
      },
      "source": [
        "lis"
      ],
      "execution_count": null,
      "outputs": [
        {
          "output_type": "execute_result",
          "data": {
            "text/plain": [
              "['a', 'b', 'c', 'd', 'e', 'f', 'g', 'h', 'i', 'j', 'k']"
            ]
          },
          "metadata": {
            "tags": []
          },
          "execution_count": 86
        }
      ]
    },
    {
      "cell_type": "code",
      "metadata": {
        "ExecuteTime": {
          "end_time": "2021-02-28T06:49:08.939818Z",
          "start_time": "2021-02-28T06:49:08.931648Z"
        },
        "id": "SSVggi_moOvY",
        "outputId": "1250a193-5b25-41d3-e014-575c7b0f0f9c"
      },
      "source": [
        "lis[-3]"
      ],
      "execution_count": null,
      "outputs": [
        {
          "output_type": "execute_result",
          "data": {
            "text/plain": [
              "'i'"
            ]
          },
          "metadata": {
            "tags": []
          },
          "execution_count": 88
        }
      ]
    },
    {
      "cell_type": "code",
      "metadata": {
        "ExecuteTime": {
          "end_time": "2021-02-28T06:51:43.794489Z",
          "start_time": "2021-02-28T06:51:43.785516Z"
        },
        "id": "H3M1pnNXoOvY",
        "outputId": "f566ea12-96f4-4293-8a95-a2766fee4e18"
      },
      "source": [
        "lis[-6:] \n",
        "#  index are always written from left to right"
      ],
      "execution_count": null,
      "outputs": [
        {
          "output_type": "execute_result",
          "data": {
            "text/plain": [
              "['f', 'g', 'h', 'i', 'j', 'k']"
            ]
          },
          "metadata": {
            "tags": []
          },
          "execution_count": 90
        }
      ]
    },
    {
      "cell_type": "code",
      "metadata": {
        "ExecuteTime": {
          "end_time": "2021-02-28T06:49:48.964270Z",
          "start_time": "2021-02-28T06:49:48.956293Z"
        },
        "id": "7BZb01NDoOvY",
        "outputId": "3784e352-e367-4716-d4d0-e8d68dd7cd9c"
      },
      "source": [
        "lis[-4:-1]"
      ],
      "execution_count": null,
      "outputs": [
        {
          "output_type": "execute_result",
          "data": {
            "text/plain": [
              "['h', 'i', 'j']"
            ]
          },
          "metadata": {
            "tags": []
          },
          "execution_count": 89
        }
      ]
    },
    {
      "cell_type": "code",
      "metadata": {
        "id": "CtuTVcf-oOvY",
        "outputId": "20f9940a-e5a7-4d41-b66d-55b9b860bc62"
      },
      "source": [
        "x =lis[1:8:2]\n",
        "x"
      ],
      "execution_count": null,
      "outputs": [
        {
          "output_type": "execute_result",
          "data": {
            "text/plain": [
              "['b', 'd', 'f', 'h']"
            ]
          },
          "metadata": {
            "tags": []
          },
          "execution_count": 8
        }
      ]
    },
    {
      "cell_type": "markdown",
      "metadata": {
        "collapsed": true,
        "id": "-ZgdpPeXoOvZ"
      },
      "source": [
        "### List methods"
      ]
    },
    {
      "cell_type": "code",
      "metadata": {
        "ExecuteTime": {
          "end_time": "2021-02-28T07:05:31.499189Z",
          "start_time": "2021-02-28T07:05:31.493204Z"
        },
        "id": "ytvATJEkoOvZ"
      },
      "source": [
        "lis1 = [1,2,3,4,5]\n",
        "lis2 = [5,4,3,2,1]"
      ],
      "execution_count": null,
      "outputs": []
    },
    {
      "cell_type": "code",
      "metadata": {
        "ExecuteTime": {
          "end_time": "2021-02-28T07:05:31.773003Z",
          "start_time": "2021-02-28T07:05:31.765024Z"
        },
        "id": "9aXqx_vSoOvZ",
        "outputId": "9241cbdd-322a-44f1-b6f3-d6a37e0b50bb"
      },
      "source": [
        "lis1.append(10)\n",
        "lis1\n",
        "# adds the element at last"
      ],
      "execution_count": null,
      "outputs": [
        {
          "output_type": "execute_result",
          "data": {
            "text/plain": [
              "[1, 2, 3, 4, 5, 10]"
            ]
          },
          "metadata": {
            "tags": []
          },
          "execution_count": 121
        }
      ]
    },
    {
      "cell_type": "code",
      "metadata": {
        "id": "xTZqqJJUoOvZ"
      },
      "source": [
        "lis1 * 3"
      ],
      "execution_count": null,
      "outputs": []
    },
    {
      "cell_type": "code",
      "metadata": {
        "ExecuteTime": {
          "end_time": "2021-02-28T07:05:32.028600Z",
          "start_time": "2021-02-28T07:05:32.020620Z"
        },
        "id": "Ho0kAzrooOvZ",
        "outputId": "6406cf3f-c8e9-4ecc-8914-9ac817c906cf"
      },
      "source": [
        "#  concatenating list\n",
        "lis1 + lis2"
      ],
      "execution_count": null,
      "outputs": [
        {
          "output_type": "execute_result",
          "data": {
            "text/plain": [
              "[1, 2, 3, 4, 5, 10, 5, 4, 3, 2, 1]"
            ]
          },
          "metadata": {
            "tags": []
          },
          "execution_count": 122
        }
      ]
    },
    {
      "cell_type": "code",
      "metadata": {
        "ExecuteTime": {
          "end_time": "2021-02-28T07:05:32.263511Z",
          "start_time": "2021-02-28T07:05:32.258524Z"
        },
        "id": "MiF8FgIWoOva"
      },
      "source": [
        "# changing the element by index\n",
        "lis1[3] = 'i am new element at index 3'"
      ],
      "execution_count": null,
      "outputs": []
    },
    {
      "cell_type": "code",
      "metadata": {
        "ExecuteTime": {
          "end_time": "2021-02-28T07:05:32.476567Z",
          "start_time": "2021-02-28T07:05:32.469995Z"
        },
        "id": "W3MaqCcEoOva",
        "outputId": "742940da-5e30-4b3b-f0a0-538908c915bc"
      },
      "source": [
        "lis1"
      ],
      "execution_count": null,
      "outputs": [
        {
          "output_type": "execute_result",
          "data": {
            "text/plain": [
              "[1, 2, 3, 'i am new element at index 3', 5, 10]"
            ]
          },
          "metadata": {
            "tags": []
          },
          "execution_count": 124
        }
      ]
    },
    {
      "cell_type": "code",
      "metadata": {
        "ExecuteTime": {
          "end_time": "2021-02-28T07:05:34.307219Z",
          "start_time": "2021-02-28T07:05:34.300238Z"
        },
        "id": "9NydzgH1oOva",
        "outputId": "20abd8a2-9bbb-4b89-888b-571e8ed99d69"
      },
      "source": [
        "# l1.insert(index,element)\n",
        "lis1.insert(3,'a')\n",
        "lis1"
      ],
      "execution_count": null,
      "outputs": [
        {
          "output_type": "execute_result",
          "data": {
            "text/plain": [
              "[1, 2, 3, 'a', 'i am new element at index 3', 5, 10]"
            ]
          },
          "metadata": {
            "tags": []
          },
          "execution_count": 125
        }
      ]
    },
    {
      "cell_type": "code",
      "metadata": {
        "ExecuteTime": {
          "end_time": "2021-02-28T07:05:34.859764Z",
          "start_time": "2021-02-28T07:05:34.852781Z"
        },
        "id": "-oa3tQY0oOva",
        "outputId": "60196fa9-63d4-4901-8bba-65fb5ec0100e"
      },
      "source": [
        "#  .remove(element) searches and removes the very first element not all\n",
        "lis1.remove('a')\n",
        "lis1"
      ],
      "execution_count": null,
      "outputs": [
        {
          "output_type": "execute_result",
          "data": {
            "text/plain": [
              "[1, 2, 3, 'i am new element at index 3', 5, 10]"
            ]
          },
          "metadata": {
            "tags": []
          },
          "execution_count": 126
        }
      ]
    },
    {
      "cell_type": "code",
      "metadata": {
        "ExecuteTime": {
          "end_time": "2021-02-28T07:05:36.501855Z",
          "start_time": "2021-02-28T07:05:36.495872Z"
        },
        "id": "pCH0MGuloOvb",
        "outputId": "3345ca6f-59f1-4922-99a2-094de568b7ae"
      },
      "source": [
        "#  count(element)\n",
        "lis1.count('i am new element at index 3')"
      ],
      "execution_count": null,
      "outputs": [
        {
          "output_type": "execute_result",
          "data": {
            "text/plain": [
              "1"
            ]
          },
          "metadata": {
            "tags": []
          },
          "execution_count": 127
        }
      ]
    },
    {
      "cell_type": "code",
      "metadata": {
        "ExecuteTime": {
          "end_time": "2021-02-28T07:05:37.417432Z",
          "start_time": "2021-02-28T07:05:37.409453Z"
        },
        "id": "VRAN52PYoOvb",
        "outputId": "5c448927-271b-4146-f980-471e0d481415"
      },
      "source": [
        "# pop(index) , if no item is passed it removes element at -1 index\n",
        "lis1.pop(1)"
      ],
      "execution_count": null,
      "outputs": [
        {
          "output_type": "execute_result",
          "data": {
            "text/plain": [
              "2"
            ]
          },
          "metadata": {
            "tags": []
          },
          "execution_count": 128
        }
      ]
    },
    {
      "cell_type": "code",
      "metadata": {
        "ExecuteTime": {
          "end_time": "2021-02-28T07:05:38.580362Z",
          "start_time": "2021-02-28T07:05:38.563941Z"
        },
        "id": "nDCLDrUpoOvb",
        "outputId": "d1f052a6-dfc6-414e-e204-c408897535dc"
      },
      "source": [
        "lis1"
      ],
      "execution_count": null,
      "outputs": [
        {
          "output_type": "execute_result",
          "data": {
            "text/plain": [
              "[1, 3, 'i am new element at index 3', 5, 10]"
            ]
          },
          "metadata": {
            "tags": []
          },
          "execution_count": 129
        }
      ]
    },
    {
      "cell_type": "code",
      "metadata": {
        "ExecuteTime": {
          "end_time": "2021-02-28T07:06:12.281364Z",
          "start_time": "2021-02-28T07:06:12.275380Z"
        },
        "id": "OeCNfzKfoOvb"
      },
      "source": [
        "lis1.remove('i am new element at index 3')"
      ],
      "execution_count": null,
      "outputs": []
    },
    {
      "cell_type": "code",
      "metadata": {
        "ExecuteTime": {
          "end_time": "2021-02-28T07:09:03.285308Z",
          "start_time": "2021-02-28T07:09:03.270352Z"
        },
        "id": "S5DHnjmGoOvb",
        "outputId": "16c7879e-b497-4112-d3ae-74a6e41431e8"
      },
      "source": [
        "# reverses the list\n",
        "lis1.reverse()\n",
        "lis1"
      ],
      "execution_count": null,
      "outputs": [
        {
          "output_type": "execute_result",
          "data": {
            "text/plain": [
              "[10, 5, 3, 1]"
            ]
          },
          "metadata": {
            "tags": []
          },
          "execution_count": 136
        }
      ]
    },
    {
      "cell_type": "code",
      "metadata": {
        "ExecuteTime": {
          "end_time": "2021-02-28T07:12:40.524155Z",
          "start_time": "2021-02-28T07:12:40.517172Z"
        },
        "id": "XX6tWHhooOvc",
        "outputId": "f2c15ff0-4cbf-4bc2-f001-7e87c42ec548"
      },
      "source": [
        "lis1.sort(reverse=True)\n",
        "lis1"
      ],
      "execution_count": null,
      "outputs": [
        {
          "output_type": "execute_result",
          "data": {
            "text/plain": [
              "[]"
            ]
          },
          "metadata": {
            "tags": []
          },
          "execution_count": 140
        }
      ]
    },
    {
      "cell_type": "code",
      "metadata": {
        "ExecuteTime": {
          "end_time": "2021-02-28T07:06:46.970702Z",
          "start_time": "2021-02-28T07:06:46.963722Z"
        },
        "id": "4KStTmmUoOvc",
        "outputId": "3bbec3e8-d003-469f-d1a3-c0a298ca7730"
      },
      "source": [
        "# .index(element) - gives the index of element\n",
        "lis1.index(3)"
      ],
      "execution_count": null,
      "outputs": [
        {
          "output_type": "execute_result",
          "data": {
            "text/plain": [
              "1"
            ]
          },
          "metadata": {
            "tags": []
          },
          "execution_count": 135
        }
      ]
    },
    {
      "cell_type": "code",
      "metadata": {
        "ExecuteTime": {
          "end_time": "2021-02-28T07:09:36.141956Z",
          "start_time": "2021-02-28T07:09:36.134976Z"
        },
        "id": "Xlweam85oOvc",
        "outputId": "fb8cca47-171a-4fc6-efe3-8b05b62b172c"
      },
      "source": [
        "# clears the list\n",
        "lis1.clear()\n",
        "lis1"
      ],
      "execution_count": null,
      "outputs": [
        {
          "output_type": "execute_result",
          "data": {
            "text/plain": [
              "[]"
            ]
          },
          "metadata": {
            "tags": []
          },
          "execution_count": 137
        }
      ]
    },
    {
      "cell_type": "code",
      "metadata": {
        "ExecuteTime": {
          "end_time": "2021-02-28T07:09:42.935092Z",
          "start_time": "2021-02-28T07:09:42.929107Z"
        },
        "id": "qSyw5WmYoOvc"
      },
      "source": [
        "c = lis1.copy()"
      ],
      "execution_count": null,
      "outputs": []
    },
    {
      "cell_type": "code",
      "metadata": {
        "ExecuteTime": {
          "end_time": "2021-02-28T07:09:45.997974Z",
          "start_time": "2021-02-28T07:09:45.990984Z"
        },
        "id": "Yg3U8SpJoOvd",
        "outputId": "88f3ac0f-17cf-4554-df06-e0e887d174e2"
      },
      "source": [
        "c"
      ],
      "execution_count": null,
      "outputs": [
        {
          "output_type": "execute_result",
          "data": {
            "text/plain": [
              "[]"
            ]
          },
          "metadata": {
            "tags": []
          },
          "execution_count": 139
        }
      ]
    },
    {
      "cell_type": "markdown",
      "metadata": {
        "id": "g8WHUUxBoOvd"
      },
      "source": [
        "## Tuple methods    "
      ]
    },
    {
      "cell_type": "markdown",
      "metadata": {
        "id": "bKIpglY9oOvd"
      },
      "source": [
        "**The difference between tuples and list are that tuples are immutable (means they cannot be changed) where as list are mutable (means they can be changed)**"
      ]
    },
    {
      "cell_type": "code",
      "metadata": {
        "ExecuteTime": {
          "end_time": "2021-02-28T07:14:25.812073Z",
          "start_time": "2021-02-28T07:14:25.808082Z"
        },
        "id": "EWRQr1f8oOvd"
      },
      "source": [
        "tu  = (1,2,'u')"
      ],
      "execution_count": null,
      "outputs": []
    },
    {
      "cell_type": "code",
      "metadata": {
        "ExecuteTime": {
          "end_time": "2021-02-28T07:14:28.943945Z",
          "start_time": "2021-02-28T07:14:28.929967Z"
        },
        "id": "MOuzMUfboOvd",
        "outputId": "3e1054d8-cd12-4831-eeb9-37969705c944"
      },
      "source": [
        "tu[0] = 'a'\n",
        "# this code can be applied on list because list are mutable"
      ],
      "execution_count": null,
      "outputs": [
        {
          "output_type": "error",
          "ename": "TypeError",
          "evalue": "'tuple' object does not support item assignment",
          "traceback": [
            "\u001b[1;31m---------------------------------------------------------------------------\u001b[0m",
            "\u001b[1;31mTypeError\u001b[0m                                 Traceback (most recent call last)",
            "\u001b[1;32m<ipython-input-142-c230822a761e>\u001b[0m in \u001b[0;36m<module>\u001b[1;34m\u001b[0m\n\u001b[1;32m----> 1\u001b[1;33m \u001b[0mtu\u001b[0m\u001b[1;33m[\u001b[0m\u001b[1;36m0\u001b[0m\u001b[1;33m]\u001b[0m \u001b[1;33m=\u001b[0m \u001b[1;34m'a'\u001b[0m\u001b[1;33m\u001b[0m\u001b[1;33m\u001b[0m\u001b[0m\n\u001b[0m\u001b[0;32m      2\u001b[0m \u001b[1;31m# this code can be applied on list because list are mutable\u001b[0m\u001b[1;33m\u001b[0m\u001b[1;33m\u001b[0m\u001b[1;33m\u001b[0m\u001b[0m\n",
            "\u001b[1;31mTypeError\u001b[0m: 'tuple' object does not support item assignment"
          ]
        }
      ]
    },
    {
      "cell_type": "code",
      "metadata": {
        "id": "rjnReJNuoOve",
        "outputId": "416218a2-b9e6-4673-f6c6-0c0efe2a7b04"
      },
      "source": [
        "tu.count(1)"
      ],
      "execution_count": null,
      "outputs": [
        {
          "output_type": "execute_result",
          "data": {
            "text/plain": [
              "1"
            ]
          },
          "metadata": {
            "tags": []
          },
          "execution_count": 170
        }
      ]
    },
    {
      "cell_type": "code",
      "metadata": {
        "ExecuteTime": {
          "end_time": "2021-02-28T07:17:16.325649Z",
          "start_time": "2021-02-28T07:17:16.315682Z"
        },
        "id": "Pd8nJvrIoOve",
        "outputId": "5642fa68-4560-4c0f-c6b5-d07c5cd0dc08"
      },
      "source": [
        "tu.index(2)"
      ],
      "execution_count": null,
      "outputs": [
        {
          "output_type": "execute_result",
          "data": {
            "text/plain": [
              "1"
            ]
          },
          "metadata": {
            "tags": []
          },
          "execution_count": 143
        }
      ]
    },
    {
      "cell_type": "markdown",
      "metadata": {
        "id": "le-P0MynoOve"
      },
      "source": [
        "## Python identity operators\n",
        "They are used to compare objects , not if they are equal , but if they are actually the same object , eith same memory location.\n",
        "\n",
        "* **is**  - returns true if both objects are same object.\n",
        "\n",
        "* **is not**  - returns true if both objects are not he same"
      ]
    },
    {
      "cell_type": "code",
      "metadata": {
        "id": "msJZYiwUoOve",
        "outputId": "829fd645-a23e-4d8b-e2be-523ee8c3725c"
      },
      "source": [
        "'a' is 'a' # =="
      ],
      "execution_count": null,
      "outputs": [
        {
          "output_type": "execute_result",
          "data": {
            "text/plain": [
              "True"
            ]
          },
          "metadata": {
            "tags": []
          },
          "execution_count": 31
        }
      ]
    },
    {
      "cell_type": "code",
      "metadata": {
        "id": "E3F_iQ-PoOve",
        "outputId": "adfd4525-5c85-439e-8ceb-d0623a343b4e"
      },
      "source": [
        "'a' is 'A'"
      ],
      "execution_count": null,
      "outputs": [
        {
          "output_type": "execute_result",
          "data": {
            "text/plain": [
              "False"
            ]
          },
          "metadata": {
            "tags": []
          },
          "execution_count": 32
        }
      ]
    },
    {
      "cell_type": "code",
      "metadata": {
        "id": "JrE5BtDkoOvf",
        "outputId": "f0d9092e-3fbc-4343-cbf8-17aea810f0b6"
      },
      "source": [
        "'a' is not 'A'"
      ],
      "execution_count": null,
      "outputs": [
        {
          "output_type": "execute_result",
          "data": {
            "text/plain": [
              "True"
            ]
          },
          "metadata": {
            "tags": []
          },
          "execution_count": 33
        }
      ]
    },
    {
      "cell_type": "markdown",
      "metadata": {
        "id": "yeBi2ZxKoOvf"
      },
      "source": [
        "## Python membership operators\n",
        "They are used to test if the sequence is present in an obeject.\n",
        "\n",
        "* **in**  - returns true if a sequence with specified value is present in the object.\n",
        "\n",
        "* **not in**  - returns true if a sequence with specified value is not present in the object."
      ]
    },
    {
      "cell_type": "code",
      "metadata": {
        "id": "x7RFksyeoOvf"
      },
      "source": [
        "s = 'hello man'"
      ],
      "execution_count": null,
      "outputs": []
    },
    {
      "cell_type": "code",
      "metadata": {
        "id": "An74h5-4oOvf",
        "outputId": "0fd78d71-a953-4b64-c094-44863195fc0a"
      },
      "source": [
        "'A' in s"
      ],
      "execution_count": null,
      "outputs": [
        {
          "output_type": "execute_result",
          "data": {
            "text/plain": [
              "False"
            ]
          },
          "metadata": {
            "tags": []
          },
          "execution_count": 35
        }
      ]
    },
    {
      "cell_type": "code",
      "metadata": {
        "id": "hADTJBf-oOvg",
        "outputId": "206e7700-c85b-4ffe-f317-81f0ab1f1a45"
      },
      "source": [
        "'he' in s"
      ],
      "execution_count": null,
      "outputs": [
        {
          "output_type": "execute_result",
          "data": {
            "text/plain": [
              "True"
            ]
          },
          "metadata": {
            "tags": []
          },
          "execution_count": 36
        }
      ]
    },
    {
      "cell_type": "code",
      "metadata": {
        "id": "OlpMVjD8oOvg",
        "outputId": "50077ec7-ea5f-428a-d99f-9d0eefc1d1ca"
      },
      "source": [
        "'hjfff' not in s"
      ],
      "execution_count": null,
      "outputs": [
        {
          "output_type": "execute_result",
          "data": {
            "text/plain": [
              "True"
            ]
          },
          "metadata": {
            "tags": []
          },
          "execution_count": 37
        }
      ]
    },
    {
      "cell_type": "markdown",
      "metadata": {
        "id": "UitCXCMNoOvg"
      },
      "source": [
        "## Dictionaries\n",
        "\n",
        "- Recognized by curly brackets {    }\n",
        "\n",
        "- They are mutable and can be nested like list and tuples\n",
        "\n",
        "- They have a key and value pair , so they are also called associative pair\n",
        "\n",
        "- A given key can oly appear once in a dictionary and both key and value can be any data type - str,int,float,tuple,list\n",
        "\n",
        "- Each and value is seperated by a colon(  :  )\n",
        "\n",
        "- Dictionary are unordered so indexing does not work on it. Instead keys are treated as index. whereas list and tuples are ordered\n",
        "\n",
        "- when we convert a dictionary to list or a tuple by list() then only keys come in list and tuple not the values\n",
        "\n",
        "- concatenation cannot be done on dictionary\n"
      ]
    },
    {
      "cell_type": "code",
      "metadata": {
        "ExecuteTime": {
          "end_time": "2021-02-28T07:24:55.478733Z",
          "start_time": "2021-02-28T07:24:55.473746Z"
        },
        "id": "KE7FcA02oOvg"
      },
      "source": [
        "d = {'name':'sam'   ,  'age' :  23 , 'hair' : 'black' , 1 : 'id'}\n",
        "#     key   value       key   value"
      ],
      "execution_count": null,
      "outputs": []
    },
    {
      "cell_type": "code",
      "metadata": {
        "ExecuteTime": {
          "end_time": "2021-02-28T07:24:56.341096Z",
          "start_time": "2021-02-28T07:24:56.333117Z"
        },
        "id": "WxdKP-BzoOvh",
        "outputId": "6af599ae-1ecb-41aa-b359-ba61483ab746"
      },
      "source": [
        "type(d)"
      ],
      "execution_count": null,
      "outputs": [
        {
          "output_type": "execute_result",
          "data": {
            "text/plain": [
              "dict"
            ]
          },
          "metadata": {
            "tags": []
          },
          "execution_count": 145
        }
      ]
    },
    {
      "cell_type": "code",
      "metadata": {
        "id": "OqdYa2reoOvh",
        "outputId": "1343d7cf-098f-4367-ca3e-742dbb5cf483"
      },
      "source": [
        "d['name']"
      ],
      "execution_count": null,
      "outputs": [
        {
          "output_type": "execute_result",
          "data": {
            "text/plain": [
              "'sam'"
            ]
          },
          "metadata": {
            "tags": []
          },
          "execution_count": 178
        }
      ]
    },
    {
      "cell_type": "code",
      "metadata": {
        "id": "yRIuIdppoOvh",
        "outputId": "259ad5f3-0396-45e0-8969-49b1a3f9f3a9"
      },
      "source": [
        "# changing the value of a key\n",
        "d['name'] = 'rohit'\n",
        "d"
      ],
      "execution_count": null,
      "outputs": [
        {
          "output_type": "execute_result",
          "data": {
            "text/plain": [
              "{'name': 'rohit', 'age': 23}"
            ]
          },
          "metadata": {
            "tags": []
          },
          "execution_count": 180
        }
      ]
    },
    {
      "cell_type": "code",
      "metadata": {
        "id": "8gKdY-WboOvh",
        "outputId": "df888a59-e0bf-45f7-8807-9086d8f57bc5"
      },
      "source": [
        "# adding a new and value\n",
        "d['place'] = 'Delhi'\n",
        "d"
      ],
      "execution_count": null,
      "outputs": [
        {
          "output_type": "execute_result",
          "data": {
            "text/plain": [
              "{'name': 'rohit', 'age': 23, 'place': 'Delhi'}"
            ]
          },
          "metadata": {
            "tags": []
          },
          "execution_count": 181
        }
      ]
    },
    {
      "cell_type": "markdown",
      "metadata": {
        "id": "hPGkLRd8oOvh"
      },
      "source": [
        "### Dictionary methods\n"
      ]
    },
    {
      "cell_type": "code",
      "metadata": {
        "id": "c7XVAveNoOvi",
        "outputId": "bdf917ac-2c51-4b11-9972-96b37a970393"
      },
      "source": [
        "d.items()     # returns a view object that displays list of dictionary (key,value) in tuple pairs "
      ],
      "execution_count": null,
      "outputs": [
        {
          "output_type": "execute_result",
          "data": {
            "text/plain": [
              "dict_items([('name', 'rohit'), ('age', 23), ('place', 'Delhi')])"
            ]
          },
          "metadata": {
            "tags": []
          },
          "execution_count": 190
        }
      ]
    },
    {
      "cell_type": "code",
      "metadata": {
        "id": "9qzLaM4WoOvi",
        "outputId": "53a042af-0a3e-4fbf-a5f0-f0cd2069697e"
      },
      "source": [
        "d.keys()           #  returns view object  displaying a list of all keys"
      ],
      "execution_count": null,
      "outputs": [
        {
          "output_type": "execute_result",
          "data": {
            "text/plain": [
              "dict_keys(['name', 'age', 'place'])"
            ]
          },
          "metadata": {
            "tags": []
          },
          "execution_count": 191
        }
      ]
    },
    {
      "cell_type": "code",
      "metadata": {
        "id": "XAoX15D-oOvi"
      },
      "source": [
        "d.values()  "
      ],
      "execution_count": null,
      "outputs": []
    },
    {
      "cell_type": "code",
      "metadata": {
        "id": "ms_c_kVOoOvi",
        "outputId": "43cdc1bc-35e9-476b-daa3-991a62e1181d"
      },
      "source": [
        "d.popitem()      # returns and removes any random item from dictionary\n",
        "print(d)"
      ],
      "execution_count": null,
      "outputs": [
        {
          "output_type": "stream",
          "text": [
            "{'name': 'rohit'}\n"
          ],
          "name": "stdout"
        }
      ]
    },
    {
      "cell_type": "code",
      "metadata": {
        "id": "ZEnM-BVroOvi",
        "outputId": "87c0d018-8e3b-4917-9b30-17c84dd1ca24"
      },
      "source": [
        "# d.pop(keyname,default_value)  - it removes and returns element from a dictionary having given key. ,\n",
        "# default_value is to be returned if key does not exist\n",
        "d.pop('nameeee' , 'no key')  "
      ],
      "execution_count": null,
      "outputs": [
        {
          "output_type": "execute_result",
          "data": {
            "text/plain": [
              "'no key'"
            ]
          },
          "metadata": {
            "tags": []
          },
          "execution_count": 196
        }
      ]
    },
    {
      "cell_type": "code",
      "metadata": {
        "id": "QRCE2yo0oOvj",
        "outputId": "f18e0b0c-e980-45b7-dfd0-66121c05f4ba"
      },
      "source": [
        "# d.update(iterable)  - inserts the specified items to dictionary.\n",
        "d1 = {'country':'India' , 'seasons':6}\n",
        "d.update(d1)\n",
        "d"
      ],
      "execution_count": null,
      "outputs": [
        {
          "output_type": "execute_result",
          "data": {
            "text/plain": [
              "{'name': 'rohit', 'country': 'India', 'seasons': 6}"
            ]
          },
          "metadata": {
            "tags": []
          },
          "execution_count": 198
        }
      ]
    },
    {
      "cell_type": "markdown",
      "metadata": {
        "id": "en_RFJmgoOvj"
      },
      "source": [
        "## Sets\n",
        "- It is a unordered collection of items, so elements cannot be called by index\n",
        "- every item is unique (no duplicates)\n",
        "- To convert a list , tuple, dictionary to the set use inbuild function set()"
      ]
    },
    {
      "cell_type": "code",
      "metadata": {
        "id": "n-AuoT3koOvj",
        "outputId": "4be70175-67ff-490e-f489-ef2531f777a2",
        "colab": {
          "base_uri": "https://localhost:8080/"
        }
      },
      "source": [
        "{1,2,3}"
      ],
      "execution_count": 1,
      "outputs": [
        {
          "output_type": "execute_result",
          "data": {
            "text/plain": [
              "{1, 2, 3}"
            ]
          },
          "metadata": {
            "tags": []
          },
          "execution_count": 1
        }
      ]
    },
    {
      "cell_type": "code",
      "metadata": {
        "id": "rvYo1ymYoOvj",
        "outputId": "f5dfab7d-c71a-4991-83b1-692907b31cad",
        "colab": {
          "base_uri": "https://localhost:8080/"
        }
      },
      "source": [
        "{1,2,3,1,2,1,2,3,3,3,3,2,2,2,1,1,2}"
      ],
      "execution_count": 2,
      "outputs": [
        {
          "output_type": "execute_result",
          "data": {
            "text/plain": [
              "{1, 2, 3}"
            ]
          },
          "metadata": {
            "tags": []
          },
          "execution_count": 2
        }
      ]
    },
    {
      "cell_type": "markdown",
      "metadata": {
        "id": "DNIy8vMMoOvj"
      },
      "source": [
        "### Sets methods"
      ]
    },
    {
      "cell_type": "code",
      "metadata": {
        "id": "-FtekzNFoOvj",
        "outputId": "45880bee-fa03-47d1-9278-f68f214b8c19",
        "colab": {
          "base_uri": "https://localhost:8080/"
        }
      },
      "source": [
        "s = {1,2,23,54,1,1,3,5,3,5,7,9,6,2,3,5,1,1,3,5,7,5,3,6,7}\n",
        "s"
      ],
      "execution_count": 3,
      "outputs": [
        {
          "output_type": "execute_result",
          "data": {
            "text/plain": [
              "{1, 2, 3, 5, 6, 7, 9, 23, 54}"
            ]
          },
          "metadata": {
            "tags": []
          },
          "execution_count": 3
        }
      ]
    },
    {
      "cell_type": "code",
      "metadata": {
        "id": "EkJ9eR-GoOvk",
        "outputId": "e34bdbef-442b-49ed-9b53-4b2ad82f9c43",
        "colab": {
          "base_uri": "https://localhost:8080/"
        }
      },
      "source": [
        "# s.remove(element)  removes the element\n",
        "s.remove(54)\n",
        "s"
      ],
      "execution_count": 4,
      "outputs": [
        {
          "output_type": "execute_result",
          "data": {
            "text/plain": [
              "{1, 2, 3, 5, 6, 7, 9, 23}"
            ]
          },
          "metadata": {
            "tags": []
          },
          "execution_count": 4
        }
      ]
    },
    {
      "cell_type": "code",
      "metadata": {
        "id": "IACKHd_PoOvk",
        "outputId": "a87ae131-a680-4972-8e40-ec02d63a23ab",
        "colab": {
          "base_uri": "https://localhost:8080/"
        }
      },
      "source": [
        "# s.add(element)  - adds the element\n",
        "s.add(67)\n",
        "s"
      ],
      "execution_count": 5,
      "outputs": [
        {
          "output_type": "execute_result",
          "data": {
            "text/plain": [
              "{1, 2, 3, 5, 6, 7, 9, 23, 67}"
            ]
          },
          "metadata": {
            "tags": []
          },
          "execution_count": 5
        }
      ]
    },
    {
      "cell_type": "code",
      "metadata": {
        "id": "4oxPMpFpoOvk",
        "outputId": "0dfd9c88-cdcb-494a-8b50-a12951515bfe",
        "colab": {
          "base_uri": "https://localhost:8080/"
        }
      },
      "source": [
        "s1 = {1,2,3,4,5,6,7}\n",
        "s2 = {5,2,6,89,65,2,34,64}\n",
        "\n",
        "s1.difference(s2) # s1 - s2  = only elements in s1 , that is minus all the elemts of s2 ,does not update s1 or s2 just provides the diff."
      ],
      "execution_count": 6,
      "outputs": [
        {
          "output_type": "execute_result",
          "data": {
            "text/plain": [
              "{1, 3, 4, 7}"
            ]
          },
          "metadata": {
            "tags": []
          },
          "execution_count": 6
        }
      ]
    },
    {
      "cell_type": "code",
      "metadata": {
        "id": "c3pmHO8loOvk"
      },
      "source": [
        "s1.difference_update(s2)  # updates the s1 inplace"
      ],
      "execution_count": 7,
      "outputs": []
    },
    {
      "cell_type": "code",
      "metadata": {
        "id": "txwt2oqYoOvk",
        "outputId": "772a4c26-9fdb-48de-e353-87fcb7f59eb1",
        "colab": {
          "base_uri": "https://localhost:8080/"
        }
      },
      "source": [
        "s1.intersection(s2)    # s1 and s2 ,s1 & s2 & s3 =  s1.intersection(*(any no. of sets) othersets) - returns only the common values of the set"
      ],
      "execution_count": 8,
      "outputs": [
        {
          "output_type": "execute_result",
          "data": {
            "text/plain": [
              "set()"
            ]
          },
          "metadata": {
            "tags": []
          },
          "execution_count": 8
        }
      ]
    },
    {
      "cell_type": "code",
      "metadata": {
        "id": "08wpG5kCoOvl"
      },
      "source": [
        "s1.intersection_update(s2)  #updates s1"
      ],
      "execution_count": 9,
      "outputs": []
    },
    {
      "cell_type": "code",
      "metadata": {
        "id": "VG7BiKI0oOvl",
        "outputId": "b7b9bc9c-8753-4306-8351-a0862a5609f4",
        "colab": {
          "base_uri": "https://localhost:8080/",
          "height": 162
        }
      },
      "source": [
        "s1.union(* othersets) # s1 or s2,s1 | s2 | s3- returns a set having all elements of all sets"
      ],
      "execution_count": 10,
      "outputs": [
        {
          "output_type": "error",
          "ename": "NameError",
          "evalue": "ignored",
          "traceback": [
            "\u001b[0;31m---------------------------------------------------------------------------\u001b[0m",
            "\u001b[0;31mNameError\u001b[0m                                 Traceback (most recent call last)",
            "\u001b[0;32m<ipython-input-10-48e86966f9bb>\u001b[0m in \u001b[0;36m<module>\u001b[0;34m()\u001b[0m\n\u001b[0;32m----> 1\u001b[0;31m \u001b[0ms1\u001b[0m\u001b[0;34m.\u001b[0m\u001b[0munion\u001b[0m\u001b[0;34m(\u001b[0m\u001b[0;34m*\u001b[0m \u001b[0mothersets\u001b[0m\u001b[0;34m)\u001b[0m \u001b[0;31m# s1 or s2,s1 | s2 | s3- returns a set having all elements of all sets\u001b[0m\u001b[0;34m\u001b[0m\u001b[0;34m\u001b[0m\u001b[0m\n\u001b[0m",
            "\u001b[0;31mNameError\u001b[0m: name 'othersets' is not defined"
          ]
        }
      ]
    },
    {
      "cell_type": "code",
      "metadata": {
        "id": "lXmH0D1toOvl"
      },
      "source": [
        "s1.update(s2) #adds elements of s2 to s1 , works with list , tuple, dict , string"
      ],
      "execution_count": null,
      "outputs": []
    },
    {
      "cell_type": "markdown",
      "metadata": {
        "id": "TvKzB2G6oOvl"
      },
      "source": [
        "### Python's In-Build Functions"
      ]
    },
    {
      "cell_type": "markdown",
      "metadata": {
        "id": "JT6m5S_yoOvl"
      },
      "source": [
        "### Range\n",
        "\n",
        "* **Syntax**  - range( start = 0(optional) , stop , step = 1 (optional) )\n",
        "\n",
        "* It is a generator. means to see its output we use list() , tuple() , set() .\n",
        "\n",
        "* It works only with Integers means it does not support Float. (To use Float numbers we can numpy arange method or we can create a function.)\n",
        "\n",
        "* All three arguments can be postive ir negative."
      ]
    },
    {
      "cell_type": "code",
      "metadata": {
        "id": "3SrIC7p3oOvl"
      },
      "source": [
        "# To show that range function is generator . \n",
        "print(range(10))"
      ],
      "execution_count": null,
      "outputs": []
    },
    {
      "cell_type": "code",
      "metadata": {
        "id": "NyGcwHi-oOvm"
      },
      "source": [
        "list(range(20))"
      ],
      "execution_count": null,
      "outputs": []
    },
    {
      "cell_type": "code",
      "metadata": {
        "id": "CXxCb5KtoOvm"
      },
      "source": [
        "for i in range(10):\n",
        "    print(i)"
      ],
      "execution_count": null,
      "outputs": []
    },
    {
      "cell_type": "code",
      "metadata": {
        "id": "CPoaKZ-aoOvm"
      },
      "source": [
        "range(10)[2]"
      ],
      "execution_count": null,
      "outputs": []
    },
    {
      "cell_type": "code",
      "metadata": {
        "id": "BzBCmrC5oOvm"
      },
      "source": [
        "list(range(10,40,2))"
      ],
      "execution_count": null,
      "outputs": []
    },
    {
      "cell_type": "markdown",
      "metadata": {
        "id": "rktLtDfyoOvm"
      },
      "source": [
        "### Length -  Gives length of the iterable.\n",
        "\n",
        "**Syntax**   -   len(iterable)"
      ]
    },
    {
      "cell_type": "code",
      "metadata": {
        "id": "noZ9zGTjoOvm"
      },
      "source": [
        "li = [1,2,3,4,5,6,7]\n",
        "len(li)"
      ],
      "execution_count": null,
      "outputs": []
    },
    {
      "cell_type": "markdown",
      "metadata": {
        "id": "yyGJAQKNoOvn"
      },
      "source": [
        "### Max and MIn  - Gives maximum and minimum value of the iterable\n",
        "\n",
        "**Syntax** - max( iterable )  ,  min( iterable )"
      ]
    },
    {
      "cell_type": "code",
      "metadata": {
        "id": "2CJ_PsM7oOvn"
      },
      "source": [
        "max(li)"
      ],
      "execution_count": null,
      "outputs": []
    },
    {
      "cell_type": "code",
      "metadata": {
        "id": "7sOYJOjKoOvn"
      },
      "source": [
        "max(2,3,5,2,2,4,2,89)"
      ],
      "execution_count": null,
      "outputs": []
    },
    {
      "cell_type": "code",
      "metadata": {
        "id": "2k-Wn7ePoOvn"
      },
      "source": [
        "min(li)"
      ],
      "execution_count": null,
      "outputs": []
    },
    {
      "cell_type": "code",
      "metadata": {
        "id": "BbB2Lh0eoOvn"
      },
      "source": [
        "min(98,56,3,4,2,6,7)"
      ],
      "execution_count": null,
      "outputs": []
    },
    {
      "cell_type": "markdown",
      "metadata": {
        "id": "JOzPddcHoOvo"
      },
      "source": [
        "### round()\n",
        "\n",
        "Returns the rounded off number of a floating number after the decimal points.\n",
        "\n",
        "**syntax**  -  round( number , ndigits ) - ndigits - number of digits upto which we want the given number to be rounded off.\n",
        "\n",
        "ndigits shold be smaller or equal to the number of digits after the decimal. if we put value of ndigit more ot will give same number without rounding it off."
      ]
    },
    {
      "cell_type": "code",
      "metadata": {
        "id": "hNwI87XloOvo"
      },
      "source": [
        "round(1.543)"
      ],
      "execution_count": null,
      "outputs": []
    },
    {
      "cell_type": "code",
      "metadata": {
        "id": "93uiUKAToOvo"
      },
      "source": [
        "round(1.543 , 2)"
      ],
      "execution_count": null,
      "outputs": []
    },
    {
      "cell_type": "markdown",
      "metadata": {
        "id": "jq2orG8YoOvo"
      },
      "source": [
        "### Sorted(iterable , key = None , reverse = False)\n",
        "Returns a list of iterable in ascending order.\n",
        "\n",
        "works when all the elements in the iterable are of same data type."
      ]
    },
    {
      "cell_type": "code",
      "metadata": {
        "id": "Ja6JNqrMoOvo"
      },
      "source": [
        "t = ('a','2','abc')\n",
        "l = [9,8,3,8.5]"
      ],
      "execution_count": null,
      "outputs": []
    },
    {
      "cell_type": "code",
      "metadata": {
        "id": "6Shga-k8oOvp"
      },
      "source": [
        "sorted(l)"
      ],
      "execution_count": null,
      "outputs": []
    },
    {
      "cell_type": "code",
      "metadata": {
        "id": "8b4XjNd9oOvp"
      },
      "source": [
        "sorted(t)"
      ],
      "execution_count": null,
      "outputs": []
    },
    {
      "cell_type": "code",
      "metadata": {
        "id": "FVeTT0FOoOvp"
      },
      "source": [
        "ts = '1,2,3,4,\\'a\\''\n",
        "sorted(ts)"
      ],
      "execution_count": null,
      "outputs": []
    },
    {
      "cell_type": "markdown",
      "metadata": {
        "id": "1Kme_vK-oOvp"
      },
      "source": [
        "### enumerate( iterable , start = 0(optional) )\n",
        "it generates a tuples of the element and its counter(can be said index if start not included) .To view should be called by list() ,for loop , tuple()."
      ]
    },
    {
      "cell_type": "code",
      "metadata": {
        "id": "a-rBE3kaoOvq"
      },
      "source": [
        "g = [1,2,3,4,'a',8.0]\n",
        "list(enumerate(g))"
      ],
      "execution_count": null,
      "outputs": []
    },
    {
      "cell_type": "code",
      "metadata": {
        "id": "rbe5LepuoOvq"
      },
      "source": [
        "list(enumerate(g ,10))"
      ],
      "execution_count": null,
      "outputs": []
    },
    {
      "cell_type": "code",
      "metadata": {
        "id": "4t3eh5CkoOvq"
      },
      "source": [
        "dict(enumerate(g))"
      ],
      "execution_count": null,
      "outputs": []
    },
    {
      "cell_type": "markdown",
      "metadata": {
        "id": "6c4ETP-xoOvq"
      },
      "source": [
        "### help(object) - displays the info of object passed in it."
      ]
    },
    {
      "cell_type": "code",
      "metadata": {
        "id": "R0LsRwlpoOvq"
      },
      "source": [
        "help(list)"
      ],
      "execution_count": null,
      "outputs": []
    },
    {
      "cell_type": "markdown",
      "metadata": {
        "id": "x9rUjPG5oOvr"
      },
      "source": [
        "### sum(iterable)\n",
        "Adds all the elements of the sequence."
      ]
    },
    {
      "cell_type": "code",
      "metadata": {
        "id": "UlRopS-DoOvr"
      },
      "source": [
        "l = [1,2,3,4,8]\n",
        "sum(l)"
      ],
      "execution_count": null,
      "outputs": []
    },
    {
      "cell_type": "markdown",
      "metadata": {
        "id": "WKUyP4tFoOvr"
      },
      "source": [
        "### reversed(sequence) -\n",
        "Return the reversed iterator of a given sequence. to view pass in list() ,tuple()"
      ]
    },
    {
      "cell_type": "code",
      "metadata": {
        "id": "ACMCjxjpoOvr"
      },
      "source": [
        "l = [9,5,3,55,64,1,3]\n",
        "reversed(l)"
      ],
      "execution_count": null,
      "outputs": []
    },
    {
      "cell_type": "code",
      "metadata": {
        "id": "nKGwsUjooOvr"
      },
      "source": [
        "list(reversed(l))"
      ],
      "execution_count": null,
      "outputs": []
    },
    {
      "cell_type": "markdown",
      "metadata": {
        "id": "U6_aIFvPoOvs"
      },
      "source": [
        "### zip() \n",
        "\n",
        "It takes iterables and aggregates them and returns an iterator of tuple means to have a view we have to pass it through list(), tuple().\n",
        "\n",
        "It stops aggregates as soon as any sequence ends. "
      ]
    },
    {
      "cell_type": "code",
      "metadata": {
        "id": "ap55bBHQoOvs"
      },
      "source": [
        "l1 = ['a','g',1,5,9.8]\n",
        "l2 = [9,8,'j',7,9,10]\n",
        "list(zip(l1,l2))"
      ],
      "execution_count": null,
      "outputs": []
    },
    {
      "cell_type": "code",
      "metadata": {
        "id": "n1I6eazToOvs"
      },
      "source": [
        "l1 = ['a','g',1,5,9.8]\n",
        "l2 = [9,8,'j']\n",
        "list(zip(l1,l2))"
      ],
      "execution_count": null,
      "outputs": []
    },
    {
      "cell_type": "markdown",
      "metadata": {
        "id": "AKmLf0V5oOvt"
      },
      "source": [
        "### .split(seperator(optional))\n",
        "It returns a list of strings after breaking the given string by the seperator."
      ]
    },
    {
      "cell_type": "code",
      "metadata": {
        "id": "aHZhnkEhoOvt"
      },
      "source": [
        "txt = \"a v f v l 1 3 4\""
      ],
      "execution_count": null,
      "outputs": []
    },
    {
      "cell_type": "code",
      "metadata": {
        "id": "kawSQy71oOvt"
      },
      "source": [
        "txt.split(' ')"
      ],
      "execution_count": null,
      "outputs": []
    },
    {
      "cell_type": "code",
      "metadata": {
        "id": "Q3GSZp__oOvt"
      },
      "source": [
        "txt.split('3')"
      ],
      "execution_count": null,
      "outputs": []
    },
    {
      "cell_type": "markdown",
      "metadata": {
        "id": "G3UNt1OKoOvt"
      },
      "source": [
        "### .replace( old , new , count )\n",
        "replaces old values with new . works with strings only "
      ]
    },
    {
      "cell_type": "code",
      "metadata": {
        "id": "HdkBltCToOvt"
      },
      "source": [
        "s = 'abc,abc,abc,abc,abc,abc,abc,abc'\n",
        "s.replace('ab','A')"
      ],
      "execution_count": null,
      "outputs": []
    },
    {
      "cell_type": "markdown",
      "metadata": {
        "id": "_BO22XjFoOvu"
      },
      "source": [
        "## While Loops\n",
        "It repeatedly executes the statement until it is True.\n",
        "\n",
        "**Syntax**\n",
        "      while expression:\n",
        "              statement(s)\n",
        "\n",
        "They can make infinite loops. to break out of a infinite loop use ctrl+c"
      ]
    },
    {
      "cell_type": "code",
      "metadata": {
        "id": "PDJhQekhoOvu",
        "outputId": "999eaac8-7943-4441-8f69-f2f0b4f8c6d4"
      },
      "source": [
        "# infinite loop\n",
        "i = 1\n",
        "while i < 5:\n",
        "    print('This is a infinite loop')\n",
        "    break"
      ],
      "execution_count": null,
      "outputs": [
        {
          "output_type": "stream",
          "text": [
            "This is a infinite loop\n"
          ],
          "name": "stdout"
        }
      ]
    },
    {
      "cell_type": "code",
      "metadata": {
        "id": "IuN8l0E-oOvu",
        "outputId": "7abb64a3-40a1-4da7-b1dc-7863639f1aeb"
      },
      "source": [
        "i = 1\n",
        "while i < 5:\n",
        "    print('{} is value of i'.format(i))\n",
        "    i += 1"
      ],
      "execution_count": null,
      "outputs": [
        {
          "output_type": "stream",
          "text": [
            "1 is value of i\n",
            "2 is value of i\n",
            "3 is value of i\n",
            "4 is value of i\n"
          ],
          "name": "stdout"
        }
      ]
    },
    {
      "cell_type": "markdown",
      "metadata": {
        "id": "87ew30mSoOvu"
      },
      "source": [
        "## For Loops\n",
        "It itereates over a sequence"
      ]
    },
    {
      "cell_type": "code",
      "metadata": {
        "id": "V69HtkD6oOvu"
      },
      "source": [
        "seq = [1,2,3,4,5]"
      ],
      "execution_count": null,
      "outputs": []
    },
    {
      "cell_type": "code",
      "metadata": {
        "id": "KyrGiD_1oOvv",
        "outputId": "33e03d4a-a554-4bc2-87f3-e2f2b37b0280"
      },
      "source": [
        "for item in seq:\n",
        "    print(item)"
      ],
      "execution_count": null,
      "outputs": [
        {
          "output_type": "stream",
          "text": [
            "1\n",
            "2\n",
            "3\n",
            "4\n",
            "5\n"
          ],
          "name": "stdout"
        }
      ]
    },
    {
      "cell_type": "code",
      "metadata": {
        "id": "AJ_XGWAuoOvv",
        "outputId": "eda01040-1f95-42d7-b9bb-394a2b2b5ded"
      },
      "source": [
        "for item in seq:\n",
        "    print('Yep')"
      ],
      "execution_count": null,
      "outputs": [
        {
          "output_type": "stream",
          "text": [
            "Yep\n",
            "Yep\n",
            "Yep\n",
            "Yep\n",
            "Yep\n"
          ],
          "name": "stdout"
        }
      ]
    },
    {
      "cell_type": "code",
      "metadata": {
        "id": "F6P8oEajoOvv",
        "outputId": "6e499163-4199-4a40-cef2-9ea454cf2361"
      },
      "source": [
        "for jelly in seq:\n",
        "    print(jelly+jelly)"
      ],
      "execution_count": null,
      "outputs": [
        {
          "output_type": "stream",
          "text": [
            "2\n",
            "4\n",
            "6\n",
            "8\n",
            "10\n"
          ],
          "name": "stdout"
        }
      ]
    },
    {
      "cell_type": "markdown",
      "metadata": {
        "id": "BuGxveCfoOvv"
      },
      "source": [
        "## if, else Statements\n",
        "Runs **if** statement and if the statement fails than **else** statement is run.\n",
        "\n",
        "if can be alone but else follows a if or while statement."
      ]
    },
    {
      "cell_type": "code",
      "metadata": {
        "id": "r96zGMfZoOvv",
        "outputId": "c9d4f727-3e1d-4fea-b221-2a719de7d979"
      },
      "source": [
        "if 1 < 2:\n",
        "    print('Yep!')"
      ],
      "execution_count": null,
      "outputs": [
        {
          "output_type": "stream",
          "text": [
            "Yep!\n"
          ],
          "name": "stdout"
        }
      ]
    },
    {
      "cell_type": "code",
      "metadata": {
        "id": "atVyUFj4oOvw",
        "outputId": "c6884343-5531-4d4d-e9f1-e59d189077bb"
      },
      "source": [
        "if 1 < 2:\n",
        "    print('first')\n",
        "else:\n",
        "    print('last')"
      ],
      "execution_count": null,
      "outputs": [
        {
          "output_type": "stream",
          "text": [
            "first\n"
          ],
          "name": "stdout"
        }
      ]
    },
    {
      "cell_type": "code",
      "metadata": {
        "id": "UdrU8csloOvw",
        "outputId": "44a4cafd-a8a0-4389-d939-aa8bc7b2a94a"
      },
      "source": [
        "if 1 > 2:\n",
        "    print('first')\n",
        "else:\n",
        "    print('last')"
      ],
      "execution_count": null,
      "outputs": [
        {
          "output_type": "stream",
          "text": [
            "last\n"
          ],
          "name": "stdout"
        }
      ]
    },
    {
      "cell_type": "markdown",
      "metadata": {
        "id": "AW6y_p9joOvw"
      },
      "source": [
        "**In case of multiple if statements are used than all the if statements will run and the else follows the last if statement and there can be only one else statement.**"
      ]
    },
    {
      "cell_type": "code",
      "metadata": {
        "id": "d74nTx58oOvw",
        "outputId": "0f030979-408e-4c68-c3ef-257870754013"
      },
      "source": [
        "x,y = 10,9\n",
        "if x>y:\n",
        "    print('x is greater than y')\n",
        "if x > 4:\n",
        "    print ('x is greater than 4')\n",
        "else:\n",
        "    print('else statement ran')"
      ],
      "execution_count": null,
      "outputs": [
        {
          "output_type": "stream",
          "text": [
            "x is greater than y\n",
            "x is greater than 4\n"
          ],
          "name": "stdout"
        }
      ]
    },
    {
      "cell_type": "markdown",
      "metadata": {
        "id": "VLxgSnMloOvw"
      },
      "source": [
        "## if ,elif and else statements\n",
        "* elif = else if\n",
        "* we use **elif** with **if** statement they can not be used independently.\n",
        "* if there is **if** and **elif** statements in the program then , if and elif statement breaks the code if they are true.\n"
      ]
    },
    {
      "cell_type": "code",
      "metadata": {
        "id": "ilUDd3MWoOvx",
        "outputId": "11a51453-791e-45bc-c0dc-dbaada81c374"
      },
      "source": [
        "if 1 == 2:\n",
        "    print('first')\n",
        "elif 3 == 3:\n",
        "    print('middle')\n",
        "else:\n",
        "    print('Last')"
      ],
      "execution_count": null,
      "outputs": [
        {
          "output_type": "stream",
          "text": [
            "middle\n"
          ],
          "name": "stdout"
        }
      ]
    },
    {
      "cell_type": "code",
      "metadata": {
        "id": "nWXR6t8zoOvx",
        "outputId": "fe7d571b-02cd-4c33-d291-3a4314137c22"
      },
      "source": [
        "x,y = 10,8\n",
        "if x > y:\n",
        "    print('x is greater than y')\n",
        "elif x > 5:\n",
        "    print('x is greater than 5')\n",
        "elif x > 8:\n",
        "    print('x is greater than 8')\n",
        "else:\n",
        "    print('else ran')"
      ],
      "execution_count": null,
      "outputs": [
        {
          "output_type": "stream",
          "text": [
            "x is greater than y\n"
          ],
          "name": "stdout"
        }
      ]
    },
    {
      "cell_type": "code",
      "metadata": {
        "id": "FeHYzGxYoOvx",
        "outputId": "14aeba20-0659-46c7-8a80-6f3ae3539aaa"
      },
      "source": [
        "# running the code by replacing elif with if\n",
        "x,y = 10,8\n",
        "if x > y:\n",
        "    print('x is greater than y')\n",
        "if x > 5:\n",
        "    print('x is greater than 5')\n",
        "if x > 8:\n",
        "    print('x is greater than 8')\n",
        "else:\n",
        "    print('else ran')"
      ],
      "execution_count": null,
      "outputs": [
        {
          "output_type": "stream",
          "text": [
            "x is greater than y\n",
            "x is greater than 5\n",
            "x is greater than 8\n"
          ],
          "name": "stdout"
        }
      ]
    },
    {
      "cell_type": "markdown",
      "metadata": {
        "id": "OuFNd06BoOvx"
      },
      "source": [
        "### Python Functions\n",
        "- They are block of codes which run when called upon , they are made to decrease our work for writing the code again and again.\n",
        "\n",
        "- They start with def which stands for define.\n",
        "\n",
        "- They have small paranthesis with them followed by colon (:) which gives indentation to next line.\n",
        "\n",
        "- Indentation is necsaary to make a particular code belong to a function\n",
        "\n",
        "- They are called by using function name with small brackets and with parameters if defined."
      ]
    },
    {
      "cell_type": "code",
      "metadata": {
        "id": "DNKuLbxhoOvy"
      },
      "source": [
        "# Function without parameters\n",
        "def myfunction():\n",
        "    print('hi')"
      ],
      "execution_count": null,
      "outputs": []
    },
    {
      "cell_type": "code",
      "metadata": {
        "id": "nQfYIBRloOvy",
        "outputId": "d0f807f1-5bd6-4e7c-8276-ccf9f28c09e0"
      },
      "source": [
        "myfunction()"
      ],
      "execution_count": null,
      "outputs": [
        {
          "output_type": "stream",
          "text": [
            "hi\n"
          ],
          "name": "stdout"
        }
      ]
    },
    {
      "cell_type": "code",
      "metadata": {
        "id": "JGZ80UPToOvy"
      },
      "source": [
        "#  Function with parameters\n",
        "def addfunction(a,b):\n",
        "    print(a+b)"
      ],
      "execution_count": null,
      "outputs": []
    },
    {
      "cell_type": "code",
      "metadata": {
        "id": "oxVGERqCoOvy",
        "outputId": "ce3ed9df-36c7-4180-8984-8661dbe9f70e"
      },
      "source": [
        "addfunction(2,3)"
      ],
      "execution_count": null,
      "outputs": [
        {
          "output_type": "stream",
          "text": [
            "5\n"
          ],
          "name": "stdout"
        }
      ]
    },
    {
      "cell_type": "code",
      "metadata": {
        "id": "k9sU4vSYoOvy"
      },
      "source": [
        "# calling one fuction inside other\n",
        "def subtraction_function(a,b):\n",
        "    print(a-b)\n",
        "    myfunction()"
      ],
      "execution_count": null,
      "outputs": []
    },
    {
      "cell_type": "code",
      "metadata": {
        "id": "snTARaCfoOvy",
        "outputId": "1b24e78a-55aa-4c52-eab0-37ec8408af5f"
      },
      "source": [
        "subtraction_function(10,9)"
      ],
      "execution_count": null,
      "outputs": [
        {
          "output_type": "stream",
          "text": [
            "1\n",
            "hi\n"
          ],
          "name": "stdout"
        }
      ]
    },
    {
      "cell_type": "code",
      "metadata": {
        "id": "3NE0D2AIoOvz",
        "outputId": "200d23af-5e93-4a61-a975-c6c5534daf28"
      },
      "source": [
        "# specifying the parameter default value.\n",
        "def add(a,b =10):\n",
        "    print(a+b)\n",
        "\n",
        "add(5)"
      ],
      "execution_count": null,
      "outputs": [
        {
          "output_type": "stream",
          "text": [
            "15\n"
          ],
          "name": "stdout"
        }
      ]
    },
    {
      "cell_type": "code",
      "metadata": {
        "id": "9EmqljsCoOvz",
        "outputId": "05dc9d09-cdc6-45e7-aadc-d266e44f468c"
      },
      "source": [
        "#  we can update the defined value by passing new value.\n",
        "add(10,35)"
      ],
      "execution_count": null,
      "outputs": [
        {
          "output_type": "stream",
          "text": [
            "45\n"
          ],
          "name": "stdout"
        }
      ]
    },
    {
      "cell_type": "markdown",
      "metadata": {
        "id": "69VQeHshoOvz"
      },
      "source": [
        "### return\n",
        "A return statement causes our function to exit and hand back a value to the caller.\n",
        "\n",
        "As soon as return is encountered , function exits without running the code written below return in function."
      ]
    },
    {
      "cell_type": "code",
      "metadata": {
        "id": "XAQ_e36voOvz",
        "outputId": "d71d9bbc-bfcc-4a80-aefa-0eb93b63d780"
      },
      "source": [
        "def function():\n",
        "    print('in function')\n",
        "    return 1\n",
        "\n",
        "x = function()\n",
        "print('function returned' , str(x))"
      ],
      "execution_count": null,
      "outputs": [
        {
          "output_type": "stream",
          "text": [
            "in function\n",
            "function returned 1\n"
          ],
          "name": "stdout"
        }
      ]
    },
    {
      "cell_type": "code",
      "metadata": {
        "id": "NPy1G8zKoOvz"
      },
      "source": [
        "#  return can be used like = - return 1+1  , return a,b , return n > 1(will return boolean value)"
      ],
      "execution_count": null,
      "outputs": []
    },
    {
      "cell_type": "markdown",
      "metadata": {
        "id": "bt8D9r6hoOv0"
      },
      "source": [
        "### pass \n",
        "If nothing is supoosed to happen in a code block , a pass is needed for such a block to not produce error."
      ]
    },
    {
      "cell_type": "code",
      "metadata": {
        "id": "7dltkJvdoOv0"
      },
      "source": [
        "listA = [18, 21, 19, 29, 46]\n",
        "for val in listA:\n",
        "    pass\n",
        "\n",
        "# if pass would not be written it would have thrown an error."
      ],
      "execution_count": null,
      "outputs": []
    },
    {
      "cell_type": "markdown",
      "metadata": {
        "id": "0Hcbp9BLoOv0"
      },
      "source": [
        "### break\n",
        "It breaks the loop and comes out of the loop."
      ]
    },
    {
      "cell_type": "code",
      "metadata": {
        "id": "WkmdM-dZoOv0",
        "outputId": "cf791f19-022c-415c-87ac-58fa5ad9f2bc"
      },
      "source": [
        "for i in [10,2,3,4,5,6]:\n",
        "    print(i)\n",
        "    break"
      ],
      "execution_count": null,
      "outputs": [
        {
          "output_type": "stream",
          "text": [
            "10\n"
          ],
          "name": "stdout"
        }
      ]
    },
    {
      "cell_type": "markdown",
      "metadata": {
        "id": "J9jRbpq2oOv0"
      },
      "source": [
        "### continue\n",
        "The continue is preceeded by a condition . if the condition is True than continue will not run the code below and will move back starting step of the loop for processing next step."
      ]
    },
    {
      "cell_type": "code",
      "metadata": {
        "id": "lvh0rVJqoOv0",
        "outputId": "6fe49510-f549-435b-e935-578255f2970a"
      },
      "source": [
        "for letter in 'python':\n",
        "    if letter == 't':\n",
        "        continue\n",
        "    print(letter)  "
      ],
      "execution_count": null,
      "outputs": [
        {
          "output_type": "stream",
          "text": [
            "p\n",
            "y\n",
            "h\n",
            "o\n",
            "n\n"
          ],
          "name": "stdout"
        }
      ]
    },
    {
      "cell_type": "markdown",
      "metadata": {
        "id": "bnO5QD0HoOv1"
      },
      "source": [
        "### Exception Handling  \n",
        "#### try ,except\n",
        "\n",
        "The python program terminates as soon as it encounters error.In python it can be syntax error or n exception. syntax error occurs when there is incorrect syntax like incomplete brackets , extra brackets ,wrong spelling\n",
        "\n",
        "**try :**\n",
        "\n",
        "       run this code\n",
        "       \n",
        "      \n",
        "**except:**\n",
        "\n",
        "       execute this code when there is a exception "
      ]
    },
    {
      "cell_type": "code",
      "metadata": {
        "id": "lHjuzy_ooOv1",
        "outputId": "6d6596af-4663-488e-d1cf-5c3e61d1fe6e"
      },
      "source": [
        "print(5/0)"
      ],
      "execution_count": null,
      "outputs": [
        {
          "output_type": "error",
          "ename": "ZeroDivisionError",
          "evalue": "division by zero",
          "traceback": [
            "\u001b[1;31m---------------------------------------------------------------------------\u001b[0m",
            "\u001b[1;31mZeroDivisionError\u001b[0m                         Traceback (most recent call last)",
            "\u001b[1;32m<ipython-input-134-fad870a50e27>\u001b[0m in \u001b[0;36m<module>\u001b[1;34m\u001b[0m\n\u001b[1;32m----> 1\u001b[1;33m \u001b[0mprint\u001b[0m\u001b[1;33m(\u001b[0m\u001b[1;36m5\u001b[0m\u001b[1;33m/\u001b[0m\u001b[1;36m0\u001b[0m\u001b[1;33m)\u001b[0m\u001b[1;33m\u001b[0m\u001b[1;33m\u001b[0m\u001b[0m\n\u001b[0m",
            "\u001b[1;31mZeroDivisionError\u001b[0m: division by zero"
          ]
        }
      ]
    },
    {
      "cell_type": "code",
      "metadata": {
        "id": "WNM_8-seoOv1",
        "outputId": "853e5743-4c12-48b9-e874-c872d4237b2e"
      },
      "source": [
        "try:\n",
        "    print(5/0)\n",
        "except:\n",
        "    print('division by 0 not possibe')"
      ],
      "execution_count": null,
      "outputs": [
        {
          "output_type": "stream",
          "text": [
            "division by 0 not possibe\n"
          ],
          "name": "stdout"
        }
      ]
    },
    {
      "cell_type": "code",
      "metadata": {
        "id": "8UIJ3NCLoOv1",
        "outputId": "61eb1ef9-bf2f-4e8c-c1bb-ec895d202c19"
      },
      "source": [
        "try:\n",
        "    print(5/5)\n",
        "except:\n",
        "    print('hi')"
      ],
      "execution_count": null,
      "outputs": [
        {
          "output_type": "stream",
          "text": [
            "1.0\n"
          ],
          "name": "stdout"
        }
      ]
    },
    {
      "cell_type": "code",
      "metadata": {
        "id": "nOkPiRtqoOv1",
        "outputId": "cf4c26bb-4387-40a0-b338-6c663c47f4d8"
      },
      "source": [
        "try:\n",
        "    print(5/5)\n",
        "except:\n",
        "    print('hi')"
      ],
      "execution_count": null,
      "outputs": [
        {
          "output_type": "stream",
          "text": [
            "1.0\n"
          ],
          "name": "stdout"
        }
      ]
    },
    {
      "cell_type": "code",
      "metadata": {
        "id": "aUDXrwppoOv1",
        "outputId": "e488d834-d8af-427f-fb50-b38cdde240dc"
      },
      "source": [
        "try:\n",
        "    print(5/0)\n",
        "except:\n",
        "    print('hi')"
      ],
      "execution_count": null,
      "outputs": [
        {
          "output_type": "stream",
          "text": [
            "hi\n"
          ],
          "name": "stdout"
        }
      ]
    },
    {
      "cell_type": "markdown",
      "metadata": {
        "id": "RuPW86cCoOv2"
      },
      "source": [
        "## Installing modules \n",
        "\n",
        "In standard distribution .\n",
        "* In command prompt tye **pip install package**\n",
        "\n",
        "In anaconda distribution \n",
        "* In conda prompttype **conda install package**"
      ]
    },
    {
      "cell_type": "markdown",
      "metadata": {
        "id": "0QRmL6hFoOv2"
      },
      "source": [
        "## Difference between conda and pip installer\n",
        "pip installs the python package and dependencies required whether or not those conflict with other package previously installed .eg tensor flow can stop working when pip install a different version of numpy package\n",
        "\n",
        "But conda does not let this happen , it figures out how t oinstall compatible dependencies."
      ]
    },
    {
      "cell_type": "markdown",
      "metadata": {
        "id": "QzDKyI-aoOv2"
      },
      "source": [
        "# PYTHON INTRODUCTION AND BASIS SESSION ENDS"
      ]
    }
  ]
}