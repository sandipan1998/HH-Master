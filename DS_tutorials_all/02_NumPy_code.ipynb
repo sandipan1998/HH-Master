{
  "nbformat": 4,
  "nbformat_minor": 0,
  "metadata": {
    "kernelspec": {
      "display_name": "Python 3",
      "language": "python",
      "name": "python3"
    },
    "language_info": {
      "codemirror_mode": {
        "name": "ipython",
        "version": 3
      },
      "file_extension": ".py",
      "mimetype": "text/x-python",
      "name": "python",
      "nbconvert_exporter": "python",
      "pygments_lexer": "ipython3",
      "version": "3.8.8"
    },
    "varInspector": {
      "cols": {
        "lenName": 16,
        "lenType": 16,
        "lenVar": 40
      },
      "kernels_config": {
        "python": {
          "delete_cmd_postfix": "",
          "delete_cmd_prefix": "del ",
          "library": "var_list.py",
          "varRefreshCmd": "print(var_dic_list())"
        },
        "r": {
          "delete_cmd_postfix": ") ",
          "delete_cmd_prefix": "rm(",
          "library": "var_list.r",
          "varRefreshCmd": "cat(var_dic_list()) "
        }
      },
      "types_to_exclude": [
        "module",
        "function",
        "builtin_function_or_method",
        "instance",
        "_Feature"
      ],
      "window_display": false
    },
    "colab": {
      "name": "NumPy code.ipynb",
      "provenance": []
    }
  },
  "cells": [
    {
      "cell_type": "markdown",
      "metadata": {
        "id": "Mo8bu1H0rNt0"
      },
      "source": [
        "# NumPy \n",
        "\n",
        "•\tThe name is an acronym for \"Numeric Python\" or \"Numerical Python\"\n",
        "\n",
        "•\tNumPy (or Numpy) is a Linear Algebra Library for Python\n",
        "\n",
        "•   The reason it is so important for Data Science with Python is that almost all of the libraries in the PyData Ecosystem rely     on NumPy as one of their main building blocks.\n"
      ]
    },
    {
      "cell_type": "markdown",
      "metadata": {
        "id": "sSqhk02irNt3"
      },
      "source": [
        "## Installation Instructions\n",
        "\n",
        "**It is highly recommended you install Python using the Anaconda distribution to make sure all underlying dependencies (such as Linear Algebra libraries) all sync up with the use of a conda install. If you have Anaconda, install NumPy by going to your terminal or command prompt and typing:**\n",
        "    \n",
        "    conda install numpy\n",
        "    pip install numpy\n",
        "\n"
      ]
    },
    {
      "cell_type": "markdown",
      "metadata": {
        "id": "jrCgDhV9rNt3"
      },
      "source": [
        "## Using NumPy\n",
        "\n",
        "Once you've installed NumPy you can import it as a library:"
      ]
    },
    {
      "cell_type": "code",
      "metadata": {
        "ExecuteTime": {
          "end_time": "2021-01-23T13:52:17.498994Z",
          "start_time": "2021-01-23T13:52:13.480651Z"
        },
        "id": "fHPl8964rNt4"
      },
      "source": [
        "import numpy as np"
      ],
      "execution_count": null,
      "outputs": []
    },
    {
      "cell_type": "markdown",
      "metadata": {
        "id": "mZsbpkXXrNt4"
      },
      "source": [
        "# Numpy Arrays\n",
        "\n",
        "•\tNumpy arrays essentially come in two flavors: vectors and matrices. Vectors are strictly 1-d arrays and matrices are 2-d.\n",
        "\n",
        "• Array is a table of elements (usually numbers), all of the same type, indexed by a tuple of positive integers.\n",
        "\n",
        "• NumPy’s array class is called ndarray. It is also known by the alias array.\n",
        "\n",
        "• NumPy supports multidimensional arrays over which you can easily apply mathematical operations.\n",
        "\n",
        "• It executes computations and mathematical calculations in an element-wise manner."
      ]
    },
    {
      "cell_type": "markdown",
      "metadata": {
        "id": "QCG-UYHprNt5"
      },
      "source": [
        "## Creating NumPy Arrays\n",
        "\n",
        "### From a Python List , Tuples \n",
        "\n",
        "We can create an array by directly converting a list or list of lists:"
      ]
    },
    {
      "cell_type": "code",
      "metadata": {
        "id": "ZSJ2uUm6rNt5"
      },
      "source": [
        "li = [5,8,9,4,7,9]\n",
        "tu = (5,8,9,4,7,9)"
      ],
      "execution_count": null,
      "outputs": []
    },
    {
      "cell_type": "code",
      "metadata": {
        "id": "TC-40kFarNt5",
        "outputId": "0d6c55b2-6d66-4bae-b640-96dbf504ee78"
      },
      "source": [
        "arr = np.array(li)\n",
        "arr"
      ],
      "execution_count": null,
      "outputs": [
        {
          "output_type": "execute_result",
          "data": {
            "text/plain": [
              "array([5, 8, 9, 4, 7, 9])"
            ]
          },
          "metadata": {
            "tags": []
          },
          "execution_count": 247
        }
      ]
    },
    {
      "cell_type": "code",
      "metadata": {
        "id": "ZeNrqG9YrNt6",
        "outputId": "04bb9436-f438-43ec-fc97-5b9da3ff10be"
      },
      "source": [
        "my_matrix = [[25,65,8],[6,8,1],[6,8,4]]\n",
        "my_matrix"
      ],
      "execution_count": null,
      "outputs": [
        {
          "output_type": "execute_result",
          "data": {
            "text/plain": [
              "[[25, 65, 8], [6, 8, 1], [6, 8, 4]]"
            ]
          },
          "metadata": {
            "tags": []
          },
          "execution_count": 248
        }
      ]
    },
    {
      "cell_type": "code",
      "metadata": {
        "id": "QaWFb39frNt7",
        "outputId": "fb6aa399-46c4-42f2-fd01-9269240c6151"
      },
      "source": [
        "arr = np.array(my_matrix)\n",
        "arr"
      ],
      "execution_count": null,
      "outputs": [
        {
          "output_type": "execute_result",
          "data": {
            "text/plain": [
              "array([[25, 65,  8],\n",
              "       [ 6,  8,  1],\n",
              "       [ 6,  8,  4]])"
            ]
          },
          "metadata": {
            "tags": []
          },
          "execution_count": 249
        }
      ]
    },
    {
      "cell_type": "markdown",
      "metadata": {
        "id": "7BHBQd1_rNt7"
      },
      "source": [
        "### Checking the dimesnions of a array"
      ]
    },
    {
      "cell_type": "code",
      "metadata": {
        "id": "ZQflftEDrNt7",
        "outputId": "4fefb1f4-36e0-4d6c-8f47-e529482ba706"
      },
      "source": [
        "arr.ndim"
      ],
      "execution_count": null,
      "outputs": [
        {
          "output_type": "execute_result",
          "data": {
            "text/plain": [
              "2"
            ]
          },
          "metadata": {
            "tags": []
          },
          "execution_count": 14
        }
      ]
    },
    {
      "cell_type": "markdown",
      "metadata": {
        "id": "hFfbCa0drNt8"
      },
      "source": [
        "### Checking the size of a array"
      ]
    },
    {
      "cell_type": "code",
      "metadata": {
        "id": "4Cher6x_rNt8",
        "outputId": "7bf0ce3c-8c9a-43a1-9f03-73fd6ecdb568"
      },
      "source": [
        "arr.size"
      ],
      "execution_count": null,
      "outputs": [
        {
          "output_type": "execute_result",
          "data": {
            "text/plain": [
              "9"
            ]
          },
          "metadata": {
            "tags": []
          },
          "execution_count": 15
        }
      ]
    },
    {
      "cell_type": "markdown",
      "metadata": {
        "id": "5x-KFV1RrNt8"
      },
      "source": [
        "### Checking the data type of a array"
      ]
    },
    {
      "cell_type": "code",
      "metadata": {
        "id": "2kupubg-rNt8",
        "outputId": "fef39383-c80d-4a81-840e-85eb0838a365"
      },
      "source": [
        "arr.dtype"
      ],
      "execution_count": null,
      "outputs": [
        {
          "output_type": "execute_result",
          "data": {
            "text/plain": [
              "dtype('int32')"
            ]
          },
          "metadata": {
            "tags": []
          },
          "execution_count": 16
        }
      ]
    },
    {
      "cell_type": "markdown",
      "metadata": {
        "id": "0rwKihpIrNt9"
      },
      "source": [
        "### Checking the shape of a array\n",
        "Shape is an attribute that arrays have (not a method):"
      ]
    },
    {
      "cell_type": "code",
      "metadata": {
        "id": "8UaauoDYrNt9",
        "outputId": "6624947c-258d-4668-ea3d-8b3277437f59"
      },
      "source": [
        "arr.shape"
      ],
      "execution_count": null,
      "outputs": [
        {
          "output_type": "execute_result",
          "data": {
            "text/plain": [
              "(3, 3)"
            ]
          },
          "metadata": {
            "tags": []
          },
          "execution_count": 131
        }
      ]
    },
    {
      "cell_type": "markdown",
      "metadata": {
        "id": "ru4vMJs5rNt9"
      },
      "source": [
        "## Built-in Methods\n",
        "\n",
        "ways to generate Arrays"
      ]
    },
    {
      "cell_type": "markdown",
      "metadata": {
        "id": "kRz6CBUprNt9"
      },
      "source": [
        "### arange\n",
        "\n",
        "Return evenly spaced values within a given interval.\n",
        "\n",
        "numpy.arange( start(default = 0) , stop , step(default = 1) )\n",
        "\n",
        "If `step` is specified as a position argument, `start` must also be given."
      ]
    },
    {
      "cell_type": "code",
      "metadata": {
        "id": "hJZe5sE6rNt-",
        "outputId": "2b2050bf-336d-40bd-9c82-800d1681a5ca"
      },
      "source": [
        "np.arange(0,20)"
      ],
      "execution_count": null,
      "outputs": [
        {
          "output_type": "execute_result",
          "data": {
            "text/plain": [
              "array([ 0,  1,  2,  3,  4,  5,  6,  7,  8,  9, 10, 11, 12, 13, 14, 15, 16,\n",
              "       17, 18, 19])"
            ]
          },
          "metadata": {
            "tags": []
          },
          "execution_count": 89
        }
      ]
    },
    {
      "cell_type": "code",
      "metadata": {
        "ExecuteTime": {
          "end_time": "2021-01-23T14:07:10.480609Z",
          "start_time": "2021-01-23T14:07:10.425754Z"
        },
        "id": "MzwSZs4GrNt-",
        "outputId": "0b5b5f33-7713-4ba0-fc63-c5c62dd41080"
      },
      "source": [
        "np.arange(0,30,0.5)"
      ],
      "execution_count": null,
      "outputs": [
        {
          "output_type": "execute_result",
          "data": {
            "text/plain": [
              "array([ 0. ,  0.5,  1. ,  1.5,  2. ,  2.5,  3. ,  3.5,  4. ,  4.5,  5. ,\n",
              "        5.5,  6. ,  6.5,  7. ,  7.5,  8. ,  8.5,  9. ,  9.5, 10. , 10.5,\n",
              "       11. , 11.5, 12. , 12.5, 13. , 13.5, 14. , 14.5, 15. , 15.5, 16. ,\n",
              "       16.5, 17. , 17.5, 18. , 18.5, 19. , 19.5, 20. , 20.5, 21. , 21.5,\n",
              "       22. , 22.5, 23. , 23.5, 24. , 24.5, 25. , 25.5, 26. , 26.5, 27. ,\n",
              "       27.5, 28. , 28.5, 29. , 29.5])"
            ]
          },
          "metadata": {
            "tags": []
          },
          "execution_count": 7
        }
      ]
    },
    {
      "cell_type": "markdown",
      "metadata": {
        "id": "2EhoQeG2rNt-"
      },
      "source": [
        "### linspace\n",
        "Return evenly spaced numbers over a specified interval.\n",
        "\n",
        "#### Syntax \n",
        "np.linspace  (start , stop , num=50)\n"
      ]
    },
    {
      "cell_type": "code",
      "metadata": {
        "id": "eRg1LtRyrNt_",
        "outputId": "86fb9e56-bbf3-4113-ad81-9e63c45bf146"
      },
      "source": [
        "np.linspace(0,100,45)"
      ],
      "execution_count": null,
      "outputs": [
        {
          "output_type": "execute_result",
          "data": {
            "text/plain": [
              "array([  0.        ,   2.27272727,   4.54545455,   6.81818182,\n",
              "         9.09090909,  11.36363636,  13.63636364,  15.90909091,\n",
              "        18.18181818,  20.45454545,  22.72727273,  25.        ,\n",
              "        27.27272727,  29.54545455,  31.81818182,  34.09090909,\n",
              "        36.36363636,  38.63636364,  40.90909091,  43.18181818,\n",
              "        45.45454545,  47.72727273,  50.        ,  52.27272727,\n",
              "        54.54545455,  56.81818182,  59.09090909,  61.36363636,\n",
              "        63.63636364,  65.90909091,  68.18181818,  70.45454545,\n",
              "        72.72727273,  75.        ,  77.27272727,  79.54545455,\n",
              "        81.81818182,  84.09090909,  86.36363636,  88.63636364,\n",
              "        90.90909091,  93.18181818,  95.45454545,  97.72727273,\n",
              "       100.        ])"
            ]
          },
          "metadata": {
            "tags": []
          },
          "execution_count": 135
        }
      ]
    },
    {
      "cell_type": "markdown",
      "metadata": {
        "id": "bWgo0ZqYrNt_"
      },
      "source": [
        "## Random \n",
        "\n",
        "It is used to create random number arrays:\n",
        "\n",
        "### rand\n",
        "Create an array of the given shape, with random samples from a uniform distribution over ``[0, 1)``.(Normal Distribution)\n",
        "\n",
        "A normal distribution is a distribution where the values are more likely to occur near the mean value. \n",
        "\n",
        "Here `[` means 0 is included and `)` means 1 is excluded"
      ]
    },
    {
      "cell_type": "code",
      "metadata": {
        "id": "VmKBbAQPrNt_",
        "outputId": "9e9578ef-5168-49cb-cef6-edb4b27aa406"
      },
      "source": [
        "# gives 10 random numbers between 0 to 1\n",
        "np.random.rand(10)"
      ],
      "execution_count": null,
      "outputs": [
        {
          "output_type": "execute_result",
          "data": {
            "text/plain": [
              "array([0.45492758, 0.7656117 , 0.35706077, 0.69816002, 0.29341349,\n",
              "       0.67805452, 0.8887177 , 0.35761374, 0.16933639, 0.86741072])"
            ]
          },
          "metadata": {
            "tags": []
          },
          "execution_count": 143
        }
      ]
    },
    {
      "cell_type": "code",
      "metadata": {
        "id": "FbdvXJX8rNuA",
        "outputId": "feab3dc5-35b2-4821-a921-83eede4b2412"
      },
      "source": [
        "# gives 18 (6*2) random numbers between 0 to 1 in form of 2-D array as per the shape specified\n",
        "np.random.rand(6,2)"
      ],
      "execution_count": null,
      "outputs": [
        {
          "output_type": "execute_result",
          "data": {
            "text/plain": [
              "array([[0.57670347, 0.41824909],\n",
              "       [0.78677973, 0.49989303],\n",
              "       [0.49529628, 0.36269595],\n",
              "       [0.79729657, 0.97427272],\n",
              "       [0.17562944, 0.69075234],\n",
              "       [0.74218498, 0.34306121]])"
            ]
          },
          "metadata": {
            "tags": []
          },
          "execution_count": 146
        }
      ]
    },
    {
      "cell_type": "markdown",
      "metadata": {
        "id": "o7M2IA4TrNuA"
      },
      "source": [
        "### randint\n",
        "Return random integers from `low` (inclusive) to `high` (exclusive)."
      ]
    },
    {
      "cell_type": "code",
      "metadata": {
        "id": "XopaV6b-rNuA",
        "outputId": "3c448620-07d0-4449-bb6b-f62e2a94ebb8"
      },
      "source": [
        "np.random.randint(1,40)"
      ],
      "execution_count": null,
      "outputs": [
        {
          "output_type": "execute_result",
          "data": {
            "text/plain": [
              "17"
            ]
          },
          "metadata": {
            "tags": []
          },
          "execution_count": 184
        }
      ]
    },
    {
      "cell_type": "code",
      "metadata": {
        "id": "I5kLq7BFrNuA",
        "outputId": "a4d8c891-0c2a-46fc-8bb1-390db5bc14e3"
      },
      "source": [
        "np.random.randint(1,40,10)"
      ],
      "execution_count": null,
      "outputs": [
        {
          "output_type": "execute_result",
          "data": {
            "text/plain": [
              "array([11, 22, 15, 25, 23, 22,  7, 16, 17,  5])"
            ]
          },
          "metadata": {
            "tags": []
          },
          "execution_count": 185
        }
      ]
    },
    {
      "cell_type": "code",
      "metadata": {
        "id": "Eb2j0E7ZrNuB",
        "outputId": "24ce58a9-eb12-462b-d6e1-ade197362c6e"
      },
      "source": [
        "np.random.randint(1,40,size=(5, 2))"
      ],
      "execution_count": null,
      "outputs": [
        {
          "output_type": "execute_result",
          "data": {
            "text/plain": [
              "array([[11, 39],\n",
              "       [13, 33],\n",
              "       [ 4, 35],\n",
              "       [12, 18],\n",
              "       [ 5, 34]])"
            ]
          },
          "metadata": {
            "tags": []
          },
          "execution_count": 187
        }
      ]
    },
    {
      "cell_type": "markdown",
      "metadata": {
        "id": "JGGtmTrgrNuB"
      },
      "source": [
        "## Reshape\n",
        "Returns an array containing the same data with a new shape."
      ]
    },
    {
      "cell_type": "markdown",
      "metadata": {
        "id": "7jAiFDVdrNuB"
      },
      "source": [
        "### Transpose the 2-D matrix\n"
      ]
    },
    {
      "cell_type": "code",
      "metadata": {
        "ExecuteTime": {
          "end_time": "2021-03-04T12:11:17.447298Z",
          "start_time": "2021-03-04T12:11:17.440317Z"
        },
        "id": "AwL2cz-5rNuB",
        "outputId": "fcc2aaf8-62bb-49bd-a3d1-a543ef92a206"
      },
      "source": [
        "arr = np.arange(10).reshape(5,2)\n",
        "arr"
      ],
      "execution_count": null,
      "outputs": [
        {
          "output_type": "execute_result",
          "data": {
            "text/plain": [
              "array([[0, 1],\n",
              "       [2, 3],\n",
              "       [4, 5],\n",
              "       [6, 7],\n",
              "       [8, 9]])"
            ]
          },
          "metadata": {
            "tags": []
          },
          "execution_count": 10
        }
      ]
    },
    {
      "cell_type": "code",
      "metadata": {
        "ExecuteTime": {
          "end_time": "2021-03-04T12:11:18.104404Z",
          "start_time": "2021-03-04T12:11:18.098142Z"
        },
        "id": "mJ_DggsfrNuC",
        "outputId": "0aabd098-2df3-446b-ba4b-50e874339e28"
      },
      "source": [
        "arr.T"
      ],
      "execution_count": null,
      "outputs": [
        {
          "output_type": "execute_result",
          "data": {
            "text/plain": [
              "array([[0, 2, 4, 6, 8],\n",
              "       [1, 3, 5, 7, 9]])"
            ]
          },
          "metadata": {
            "tags": []
          },
          "execution_count": 11
        }
      ]
    },
    {
      "cell_type": "code",
      "metadata": {
        "ExecuteTime": {
          "end_time": "2021-03-04T12:11:23.729331Z",
          "start_time": "2021-03-04T12:11:23.718767Z"
        },
        "id": "iNiCv3aNrNuC",
        "outputId": "016dab44-f429-4755-cfec-e66631c5446d"
      },
      "source": [
        "arr.transpose()"
      ],
      "execution_count": null,
      "outputs": [
        {
          "output_type": "execute_result",
          "data": {
            "text/plain": [
              "array([[0, 2, 4, 6, 8],\n",
              "       [1, 3, 5, 7, 9]])"
            ]
          },
          "metadata": {
            "tags": []
          },
          "execution_count": 12
        }
      ]
    },
    {
      "cell_type": "markdown",
      "metadata": {
        "id": "AkwnDoV4rNuC"
      },
      "source": [
        "### Flatten\n",
        "We can use flatten method to get a copy of array collapsed into one dimension."
      ]
    },
    {
      "cell_type": "code",
      "metadata": {
        "id": "r_bnBfO5rNuC",
        "outputId": "094448cf-f177-4d8a-d443-b17105c3f9da"
      },
      "source": [
        "arr = np.random.rand(3,4) \n",
        "arr1 = arr.flatten()\n",
        "arr1"
      ],
      "execution_count": null,
      "outputs": [
        {
          "output_type": "execute_result",
          "data": {
            "text/plain": [
              "array([0.91010373, 0.76464656, 0.80246875, 0.87314306, 0.2147927 ,\n",
              "       0.34564465, 0.27349132, 0.73742138, 0.80426106, 0.95861505,\n",
              "       0.34396812, 0.30686703])"
            ]
          },
          "metadata": {
            "tags": []
          },
          "execution_count": 182
        }
      ]
    },
    {
      "cell_type": "code",
      "metadata": {
        "id": "RpPsxulSrNuD",
        "outputId": "3b9faa19-2d3d-4481-ac83-9e887981b82b"
      },
      "source": [
        "arr1.shape"
      ],
      "execution_count": null,
      "outputs": [
        {
          "output_type": "execute_result",
          "data": {
            "text/plain": [
              "(12,)"
            ]
          },
          "metadata": {
            "tags": []
          },
          "execution_count": 183
        }
      ]
    },
    {
      "cell_type": "code",
      "metadata": {
        "id": "2xfe5uwJrNuD",
        "outputId": "40230fc4-bb03-438b-e668-b507e9e310af"
      },
      "source": [
        "arr = np.arange(30)\n",
        "arr"
      ],
      "execution_count": null,
      "outputs": [
        {
          "output_type": "execute_result",
          "data": {
            "text/plain": [
              "array([ 0,  1,  2,  3,  4,  5,  6,  7,  8,  9, 10, 11, 12, 13, 14, 15, 16,\n",
              "       17, 18, 19, 20, 21, 22, 23, 24, 25, 26, 27, 28, 29])"
            ]
          },
          "metadata": {
            "tags": []
          },
          "execution_count": 218
        }
      ]
    },
    {
      "cell_type": "code",
      "metadata": {
        "id": "zcqO2BaPrNuD",
        "outputId": "260662a2-bbcb-4535-88cd-2636cbf9bfd9"
      },
      "source": [
        "arr.reshape(6,5)     # can also be written as  = arr = np.arange(30).reshape(6,5)\n",
        "# 6 * 5 = 30"
      ],
      "execution_count": null,
      "outputs": [
        {
          "output_type": "execute_result",
          "data": {
            "text/plain": [
              "array([[ 0,  1,  2,  3,  4],\n",
              "       [ 5,  6,  7,  8,  9],\n",
              "       [10, 11, 12, 13, 14],\n",
              "       [15, 16, 17, 18, 19],\n",
              "       [20, 21, 22, 23, 24],\n",
              "       [25, 26, 27, 28, 29]])"
            ]
          },
          "metadata": {
            "tags": []
          },
          "execution_count": 209
        }
      ]
    },
    {
      "cell_type": "markdown",
      "metadata": {
        "id": "XkYy1aLVrNuD"
      },
      "source": [
        "### max,min,argmax,argmin\n",
        "\n",
        "These are useful methods for finding max or min values. Or to find their index locations using argmin or argmax"
      ]
    },
    {
      "cell_type": "code",
      "metadata": {
        "id": "UHyKJghCrNuE",
        "outputId": "73ad0309-2183-4ed8-daee-2e66a8a83cf5"
      },
      "source": [
        "ranarr = np.random.randint(0,50,10)\n",
        "ranarr"
      ],
      "execution_count": null,
      "outputs": [
        {
          "output_type": "execute_result",
          "data": {
            "text/plain": [
              "array([47, 22, 25, 29, 22, 32, 19, 10, 24,  5])"
            ]
          },
          "metadata": {
            "tags": []
          },
          "execution_count": 213
        }
      ]
    },
    {
      "cell_type": "code",
      "metadata": {
        "id": "Gk5a9mxhrNuE",
        "outputId": "048b9d35-3e51-4980-8eb7-af921fc651d3"
      },
      "source": [
        "# gives the maximum value\n",
        "ranarr.max()"
      ],
      "execution_count": null,
      "outputs": [
        {
          "output_type": "execute_result",
          "data": {
            "text/plain": [
              "47"
            ]
          },
          "metadata": {
            "tags": []
          },
          "execution_count": 214
        }
      ]
    },
    {
      "cell_type": "code",
      "metadata": {
        "id": "1BS4bysfrNuE",
        "outputId": "3ac5a914-0a30-4ee1-b1a8-690dcf709270"
      },
      "source": [
        "# gives the maximum value index\n",
        "ranarr.argmax()"
      ],
      "execution_count": null,
      "outputs": [
        {
          "output_type": "execute_result",
          "data": {
            "text/plain": [
              "0"
            ]
          },
          "metadata": {
            "tags": []
          },
          "execution_count": 215
        }
      ]
    },
    {
      "cell_type": "code",
      "metadata": {
        "id": "IoxPNkk9rNuE",
        "outputId": "c1c9f05a-6380-4340-f460-8db5e1a08055"
      },
      "source": [
        "# gives the maximum value\n",
        "ranarr.min()"
      ],
      "execution_count": null,
      "outputs": [
        {
          "output_type": "execute_result",
          "data": {
            "text/plain": [
              "5"
            ]
          },
          "metadata": {
            "tags": []
          },
          "execution_count": 216
        }
      ]
    },
    {
      "cell_type": "code",
      "metadata": {
        "id": "CIUQezborNuE",
        "outputId": "af309ab9-5dda-4199-997d-f409666efa62"
      },
      "source": [
        "# gives the maximum value index\n",
        "ranarr.argmin()"
      ],
      "execution_count": null,
      "outputs": [
        {
          "output_type": "execute_result",
          "data": {
            "text/plain": [
              "4"
            ]
          },
          "metadata": {
            "tags": []
          },
          "execution_count": 41
        }
      ]
    },
    {
      "cell_type": "markdown",
      "metadata": {
        "id": "EEm7yK7LrNuF"
      },
      "source": [
        "# Indexing and Selection\n"
      ]
    },
    {
      "cell_type": "code",
      "metadata": {
        "id": "80elxgzgrNuF"
      },
      "source": [
        "#Creating sample array\n",
        "arr = np.arange(0,11)"
      ],
      "execution_count": null,
      "outputs": []
    },
    {
      "cell_type": "markdown",
      "metadata": {
        "id": "3QGSE8yNrNuF"
      },
      "source": [
        "## Bracket Indexing and Selection\n",
        "The simplest way to pick one or some elements of an array looks very similar to python lists:"
      ]
    },
    {
      "cell_type": "code",
      "metadata": {
        "id": "1XHuR9-ZrNuF",
        "outputId": "072b0e9c-16da-4e6d-fc60-2f3e26c2337c"
      },
      "source": [
        "#Get a value at an index\n",
        "arr[8]"
      ],
      "execution_count": null,
      "outputs": [
        {
          "output_type": "execute_result",
          "data": {
            "text/plain": [
              "8"
            ]
          },
          "metadata": {
            "tags": []
          },
          "execution_count": 224
        }
      ]
    },
    {
      "cell_type": "code",
      "metadata": {
        "id": "r0yjLJZ5rNuG",
        "outputId": "4c8ddf54-84b9-4a68-96b5-f4112fb074d3"
      },
      "source": [
        "#Get values in a range\n",
        "arr[1:5]"
      ],
      "execution_count": null,
      "outputs": [
        {
          "output_type": "execute_result",
          "data": {
            "text/plain": [
              "array([1, 2, 3, 4])"
            ]
          },
          "metadata": {
            "tags": []
          },
          "execution_count": 225
        }
      ]
    },
    {
      "cell_type": "code",
      "metadata": {
        "id": "5SFnHk9QrNuG",
        "outputId": "4d1d1feb-2ecb-413f-c319-df484c90d018"
      },
      "source": [
        "#Get values in a range\n",
        "arr[0:5]"
      ],
      "execution_count": null,
      "outputs": [
        {
          "output_type": "execute_result",
          "data": {
            "text/plain": [
              "array([0, 1, 2, 3, 4])"
            ]
          },
          "metadata": {
            "tags": []
          },
          "execution_count": 226
        }
      ]
    },
    {
      "cell_type": "markdown",
      "metadata": {
        "id": "No1LRgXQrNuG"
      },
      "source": [
        "## Updating Array By Index\n",
        "\n",
        "Numpy arrays differ from list because of their ability to change multiple values with index."
      ]
    },
    {
      "cell_type": "code",
      "metadata": {
        "id": "VetyX86xrNuH",
        "outputId": "0c169aae-48c9-49c8-cfc7-6f56daa4ad3c"
      },
      "source": [
        "# updating array by index\n",
        "arr[6] = 1\n",
        "arr"
      ],
      "execution_count": null,
      "outputs": [
        {
          "output_type": "execute_result",
          "data": {
            "text/plain": [
              "array([ 0,  1,  2,  3,  4,  5,  1,  7,  8,  9, 10])"
            ]
          },
          "metadata": {
            "tags": []
          },
          "execution_count": 229
        }
      ]
    },
    {
      "cell_type": "code",
      "metadata": {
        "id": "yeWzHGV7rNuH",
        "outputId": "e1c83844-b956-4eb7-c822-c821ba87c316"
      },
      "source": [
        "#Setting a value with index range (Broadcasting)\n",
        "arr[0:5]=100\n",
        "arr"
      ],
      "execution_count": null,
      "outputs": [
        {
          "output_type": "execute_result",
          "data": {
            "text/plain": [
              "array([100, 100, 100, 100, 100,   5,   1,   7,   8,   9,  10])"
            ]
          },
          "metadata": {
            "tags": []
          },
          "execution_count": 230
        }
      ]
    },
    {
      "cell_type": "code",
      "metadata": {
        "id": "DGq3kMBorNuH",
        "outputId": "4a734d03-54d3-4147-89fc-cd81ee7c8cc1"
      },
      "source": [
        "# defining array ones again\n",
        "\n",
        "arr = np.arange(0,15)\n",
        "\n",
        "#Important notes on Slices\n",
        "slice_of_arr = arr[0:6]\n",
        "\n",
        "slice_of_arr"
      ],
      "execution_count": null,
      "outputs": [
        {
          "output_type": "execute_result",
          "data": {
            "text/plain": [
              "array([0, 1, 2, 3, 4, 5])"
            ]
          },
          "metadata": {
            "tags": []
          },
          "execution_count": 237
        }
      ]
    },
    {
      "cell_type": "code",
      "metadata": {
        "id": "6ccdZQ-0rNuI",
        "outputId": "e4ad36a4-ef55-4bb5-f66e-97dcbdf5d1f7"
      },
      "source": [
        "#Change Slice\n",
        "slice_of_arr[:]=56\n",
        "\n",
        "slice_of_arr"
      ],
      "execution_count": null,
      "outputs": [
        {
          "output_type": "execute_result",
          "data": {
            "text/plain": [
              "array([56, 56, 56, 56, 56, 56])"
            ]
          },
          "metadata": {
            "tags": []
          },
          "execution_count": 238
        }
      ]
    },
    {
      "cell_type": "markdown",
      "metadata": {
        "id": "eOzx7kgqrNuI"
      },
      "source": [
        "Now note the changes also occur in our original array!"
      ]
    },
    {
      "cell_type": "code",
      "metadata": {
        "id": "HVHaxfiRrNuI",
        "outputId": "b6e5909e-b2c4-4928-b8dd-f650acd7dcaf"
      },
      "source": [
        "arr"
      ],
      "execution_count": null,
      "outputs": [
        {
          "output_type": "execute_result",
          "data": {
            "text/plain": [
              "array([56, 56, 56, 56, 56, 56,  6,  7,  8,  9, 10, 11, 12, 13, 14])"
            ]
          },
          "metadata": {
            "tags": []
          },
          "execution_count": 239
        }
      ]
    },
    {
      "cell_type": "markdown",
      "metadata": {
        "id": "S5jj0ls3rNuJ"
      },
      "source": [
        "Data is not copied, it's a view of the original array! This avoids memory problems!"
      ]
    },
    {
      "cell_type": "code",
      "metadata": {
        "id": "-Qb5s0WGrNuJ",
        "outputId": "55d4cb4a-e60c-4027-c98d-104c8372b4d3"
      },
      "source": [
        "#To get a copy, need to be explicit\n",
        "arr_copy = arr.copy()\n",
        "arr_copy"
      ],
      "execution_count": null,
      "outputs": [
        {
          "output_type": "execute_result",
          "data": {
            "text/plain": [
              "array([[25, 65,  8],\n",
              "       [ 6,  8,  1],\n",
              "       [ 6,  8,  4]])"
            ]
          },
          "metadata": {
            "tags": []
          },
          "execution_count": 252
        }
      ]
    },
    {
      "cell_type": "markdown",
      "metadata": {
        "id": "-CNu-ZPZrNuK"
      },
      "source": [
        "## Indexing a 2D array (matrices)\n",
        "\n",
        "The general format is **arr_2d[row][col]** or **arr_2d[row,col]**(Recommended). "
      ]
    },
    {
      "cell_type": "code",
      "metadata": {
        "ExecuteTime": {
          "end_time": "2021-01-23T13:52:26.894569Z",
          "start_time": "2021-01-23T13:52:26.873713Z"
        },
        "id": "3zHxHp5srNuK",
        "outputId": "0242d767-ef00-4350-a2ae-4ea5fd9c09c1"
      },
      "source": [
        "arr_2d = np.array([[78,97,24],[25,1,23],[9,4,2]])\n",
        "\n",
        "#Show\n",
        "arr_2d"
      ],
      "execution_count": null,
      "outputs": [
        {
          "output_type": "execute_result",
          "data": {
            "text/plain": [
              "array([[78, 97, 24],\n",
              "       [25,  1, 23],\n",
              "       [ 9,  4,  2]])"
            ]
          },
          "metadata": {
            "tags": []
          },
          "execution_count": 3
        }
      ]
    },
    {
      "cell_type": "code",
      "metadata": {
        "ExecuteTime": {
          "end_time": "2021-01-23T13:52:27.927588Z",
          "start_time": "2021-01-23T13:52:27.919610Z"
        },
        "id": "mos4m5H4rNuL",
        "outputId": "665c3214-afbe-44bb-c94d-5c00bffa645d"
      },
      "source": [
        "#Indexing row\n",
        "arr_2d[1]\n"
      ],
      "execution_count": null,
      "outputs": [
        {
          "output_type": "execute_result",
          "data": {
            "text/plain": [
              "array([25,  1, 23])"
            ]
          },
          "metadata": {
            "tags": []
          },
          "execution_count": 4
        }
      ]
    },
    {
      "cell_type": "code",
      "metadata": {
        "id": "Mn0ghpKyrNuL",
        "outputId": "218adeab-a0b9-43b6-fbe6-8d08f58ba269"
      },
      "source": [
        "# Format is arr_2d[row][col] or arr_2d[row,col]   , index are passed for row and column\n",
        "\n",
        "# Getting individual element value\n",
        "arr_2d[1][0]"
      ],
      "execution_count": null,
      "outputs": [
        {
          "output_type": "execute_result",
          "data": {
            "text/plain": [
              "25"
            ]
          },
          "metadata": {
            "tags": []
          },
          "execution_count": 263
        }
      ]
    },
    {
      "cell_type": "code",
      "metadata": {
        "id": "QQ88I3s9rNuM",
        "outputId": "9118240e-2b6f-4ae1-900f-8aa2ee639002"
      },
      "source": [
        "# arr_2d[row,col] method\n",
        "arr_2d[1,0]"
      ],
      "execution_count": null,
      "outputs": [
        {
          "output_type": "execute_result",
          "data": {
            "text/plain": [
              "25"
            ]
          },
          "metadata": {
            "tags": []
          },
          "execution_count": 264
        }
      ]
    },
    {
      "cell_type": "code",
      "metadata": {
        "id": "ZBdnU4n-rNuM",
        "outputId": "1b8bc1c0-2563-4a49-ecc0-233ddf9f6998"
      },
      "source": [
        "# 2D array slicing\n",
        "\n",
        "#Shape (2,2) from top right corner\n",
        "arr_2d[:2,1:]"
      ],
      "execution_count": null,
      "outputs": [
        {
          "output_type": "execute_result",
          "data": {
            "text/plain": [
              "array([[97, 24],\n",
              "       [ 1, 23]])"
            ]
          },
          "metadata": {
            "tags": []
          },
          "execution_count": 265
        }
      ]
    },
    {
      "cell_type": "code",
      "metadata": {
        "id": "Hg47gv6irNuM",
        "outputId": "adee96c3-8d20-4572-9b51-a7afd1e4cd02"
      },
      "source": [
        "#Shape bottom row  - arr_2d[row][col]\n",
        "arr_2d[2]"
      ],
      "execution_count": null,
      "outputs": [
        {
          "output_type": "execute_result",
          "data": {
            "text/plain": [
              "array([9, 4, 2])"
            ]
          },
          "metadata": {
            "tags": []
          },
          "execution_count": 266
        }
      ]
    },
    {
      "cell_type": "code",
      "metadata": {
        "id": "05sa7gRTrNuN",
        "outputId": "b187fd61-9c41-493d-cea0-120f6c3eb528"
      },
      "source": [
        "#Shape bottom row  -  arr_2d[row,col] method\n",
        "arr_2d[2,:]"
      ],
      "execution_count": null,
      "outputs": [
        {
          "output_type": "execute_result",
          "data": {
            "text/plain": [
              "array([9, 4, 2])"
            ]
          },
          "metadata": {
            "tags": []
          },
          "execution_count": 267
        }
      ]
    },
    {
      "cell_type": "markdown",
      "metadata": {
        "id": "d3_PLgrCrNuN"
      },
      "source": [
        "## comparison operators."
      ]
    },
    {
      "cell_type": "code",
      "metadata": {
        "id": "luRnOiNMrNuN",
        "outputId": "ac494512-ef9f-47c0-db77-6a3562c5061a"
      },
      "source": [
        "arr = np.arange(1,20)\n",
        "arr"
      ],
      "execution_count": null,
      "outputs": [
        {
          "output_type": "execute_result",
          "data": {
            "text/plain": [
              "array([ 1,  2,  3,  4,  5,  6,  7,  8,  9, 10, 11, 12, 13, 14, 15, 16, 17,\n",
              "       18, 19])"
            ]
          },
          "metadata": {
            "tags": []
          },
          "execution_count": 286
        }
      ]
    },
    {
      "cell_type": "code",
      "metadata": {
        "id": "NxkJWQwXrNuO",
        "outputId": "53733760-ff49-4fe2-b608-cce45d066fc7"
      },
      "source": [
        "arr > 4"
      ],
      "execution_count": null,
      "outputs": [
        {
          "output_type": "execute_result",
          "data": {
            "text/plain": [
              "array([False, False, False, False,  True,  True,  True,  True,  True,\n",
              "        True,  True,  True,  True,  True,  True,  True,  True,  True,\n",
              "        True])"
            ]
          },
          "metadata": {
            "tags": []
          },
          "execution_count": 287
        }
      ]
    },
    {
      "cell_type": "code",
      "metadata": {
        "id": "c3Hb8i8irNuO"
      },
      "source": [
        "bool_arr = arr>4"
      ],
      "execution_count": null,
      "outputs": []
    },
    {
      "cell_type": "code",
      "metadata": {
        "id": "DRCScltWrNuO",
        "outputId": "00c10a02-fe61-45b7-94b3-8101202d59f9"
      },
      "source": [
        "bool_arr"
      ],
      "execution_count": null,
      "outputs": [
        {
          "output_type": "execute_result",
          "data": {
            "text/plain": [
              "array([False, False, False, False,  True,  True,  True,  True,  True,\n",
              "        True,  True,  True,  True,  True,  True,  True,  True,  True,\n",
              "        True])"
            ]
          },
          "metadata": {
            "tags": []
          },
          "execution_count": 289
        }
      ]
    },
    {
      "cell_type": "code",
      "metadata": {
        "id": "fLAQDSoSrNuP",
        "outputId": "4054874b-ce3e-4196-d9a6-cabfab502483"
      },
      "source": [
        "#  returns elements where the calue is True.\n",
        "arr[bool_arr]"
      ],
      "execution_count": null,
      "outputs": [
        {
          "output_type": "execute_result",
          "data": {
            "text/plain": [
              "array([ 5,  6,  7,  8,  9, 10, 11, 12, 13, 14, 15, 16, 17, 18, 19])"
            ]
          },
          "metadata": {
            "tags": []
          },
          "execution_count": 291
        }
      ]
    },
    {
      "cell_type": "code",
      "metadata": {
        "id": "8K_JjBH1rNuP",
        "outputId": "665ad044-9b6f-4930-a3b6-9ae3a065dbc5"
      },
      "source": [
        "#  Directly passing the assignment\n",
        "#  returns elements where the value is True.\n",
        "arr[arr>2]"
      ],
      "execution_count": null,
      "outputs": [
        {
          "output_type": "execute_result",
          "data": {
            "text/plain": [
              "array([ 3,  4,  5,  6,  7,  8,  9, 10, 11, 12, 13, 14, 15, 16, 17, 18, 19])"
            ]
          },
          "metadata": {
            "tags": []
          },
          "execution_count": 293
        }
      ]
    },
    {
      "cell_type": "code",
      "metadata": {
        "id": "yjat5IEOrNuP",
        "outputId": "6432d81c-5455-4aba-83ad-a5885d430510"
      },
      "source": [
        "x = 2\n",
        "arr[arr>x]"
      ],
      "execution_count": null,
      "outputs": [
        {
          "output_type": "execute_result",
          "data": {
            "text/plain": [
              "array([ 3,  4,  5,  6,  7,  8,  9, 10, 11, 12, 13, 14, 15, 16, 17, 18, 19])"
            ]
          },
          "metadata": {
            "tags": []
          },
          "execution_count": 294
        }
      ]
    },
    {
      "cell_type": "markdown",
      "metadata": {
        "id": "L9SXmAerrNuQ"
      },
      "source": [
        "# NumPy Operations"
      ]
    },
    {
      "cell_type": "markdown",
      "metadata": {
        "id": "U7wq4b6prNuQ"
      },
      "source": [
        "## Arithmetic\n",
        "\n",
        "You can easily perform array with array arithmetic, or scalar with array arithmetic. Let's see some examples:"
      ]
    },
    {
      "cell_type": "code",
      "metadata": {
        "id": "c8-aOy-brNuQ"
      },
      "source": [
        "arr = np.arange(0,10)"
      ],
      "execution_count": null,
      "outputs": []
    },
    {
      "cell_type": "code",
      "metadata": {
        "id": "YHQu23j2rNuQ",
        "outputId": "f86ff7f0-55a8-4060-d6fa-d5a94d3b8805"
      },
      "source": [
        "arr + arr"
      ],
      "execution_count": null,
      "outputs": [
        {
          "output_type": "execute_result",
          "data": {
            "text/plain": [
              "array([ 0,  2,  4,  6,  8, 10, 12, 14, 16, 18])"
            ]
          },
          "metadata": {
            "tags": []
          },
          "execution_count": 78
        }
      ]
    },
    {
      "cell_type": "code",
      "metadata": {
        "id": "M9UBoQebrNuR",
        "outputId": "b85e9ec6-d3d4-4a5b-aabc-0fb83a930325"
      },
      "source": [
        "arr * arr"
      ],
      "execution_count": null,
      "outputs": [
        {
          "output_type": "execute_result",
          "data": {
            "text/plain": [
              "array([ 0,  1,  4,  9, 16, 25, 36, 49, 64, 81])"
            ]
          },
          "metadata": {
            "tags": []
          },
          "execution_count": 79
        }
      ]
    },
    {
      "cell_type": "code",
      "metadata": {
        "id": "9CPP5YVUrNuR",
        "outputId": "a0e2c0e7-f87b-4441-8c99-e5df5ba264ea"
      },
      "source": [
        "arr - arr"
      ],
      "execution_count": null,
      "outputs": [
        {
          "output_type": "execute_result",
          "data": {
            "text/plain": [
              "array([0, 0, 0, 0, 0, 0, 0, 0, 0, 0])"
            ]
          },
          "metadata": {
            "tags": []
          },
          "execution_count": 80
        }
      ]
    },
    {
      "cell_type": "code",
      "metadata": {
        "id": "fKm14qVvrNuR",
        "outputId": "364e6fb9-d0f3-4552-87ba-d29da1e5dea8"
      },
      "source": [
        "# Warning on division by zero, but not an error!\n",
        "# Just replaced with nan\n",
        "arr/arr"
      ],
      "execution_count": null,
      "outputs": [
        {
          "output_type": "stream",
          "text": [
            "C:\\ProgramData\\Anaconda3\\lib\\site-packages\\ipykernel_launcher.py:3: RuntimeWarning: invalid value encountered in true_divide\n",
            "  This is separate from the ipykernel package so we can avoid doing imports until\n"
          ],
          "name": "stderr"
        },
        {
          "output_type": "execute_result",
          "data": {
            "text/plain": [
              "array([nan,  1.,  1.,  1.,  1.,  1.,  1.,  1.,  1.,  1.])"
            ]
          },
          "metadata": {
            "tags": []
          },
          "execution_count": 81
        }
      ]
    },
    {
      "cell_type": "code",
      "metadata": {
        "id": "7uBKC3VurNuR",
        "outputId": "6f5d5267-be05-4828-c09a-4c04e13aa036"
      },
      "source": [
        "# Also warning, but not an error instead infinity\n",
        "1/arr"
      ],
      "execution_count": null,
      "outputs": [
        {
          "output_type": "stream",
          "text": [
            "C:\\ProgramData\\Anaconda3\\lib\\site-packages\\ipykernel_launcher.py:2: RuntimeWarning: divide by zero encountered in true_divide\n",
            "  \n"
          ],
          "name": "stderr"
        },
        {
          "output_type": "execute_result",
          "data": {
            "text/plain": [
              "array([       inf, 1.        , 0.5       , 0.33333333, 0.25      ,\n",
              "       0.2       , 0.16666667, 0.14285714, 0.125     , 0.11111111])"
            ]
          },
          "metadata": {
            "tags": []
          },
          "execution_count": 82
        }
      ]
    },
    {
      "cell_type": "code",
      "metadata": {
        "id": "4lvyOjeHrNuS",
        "outputId": "10a7fc8f-c597-4b45-8fde-763964c1127a"
      },
      "source": [
        "arr**3"
      ],
      "execution_count": null,
      "outputs": [
        {
          "output_type": "execute_result",
          "data": {
            "text/plain": [
              "array([  0,   1,   8,  27,  64, 125, 216, 343, 512, 729], dtype=int32)"
            ]
          },
          "metadata": {
            "tags": []
          },
          "execution_count": 83
        }
      ]
    },
    {
      "cell_type": "markdown",
      "metadata": {
        "id": "wALgG7P2rNuS"
      },
      "source": [
        "## Broadcasting\n",
        "\n",
        "1. NumPy uses broadcasting to carry out arithmetic operations between arrays of different shapes. In this method, NumPy automatically broadcasts the smaller array over the larger array. \n",
        "\n",
        "2. However, broadcasting does have its own limitations. It is subject to certain constraints as listed here:\n",
        "    1. When NumPy operates on two arrays, it compares their shapes element-wise. It finds these shapes compatible only if:\n",
        "                     - Their dimensions are the same, or\n",
        "                     - One of them has a dimension of size 1\n",
        "    2. If these conditions are not met, a \"ValueError” is thrown, indicating that the arrays have incompatible shapes!\n",
        "    \n",
        "3. Broadcasting is possible if the following rules are satisfied \n",
        "    1. Array with smaller ndim than the other is prepended with '1' in its shape.\n",
        "    2. Size in each dimension of the output shape is maximum of the input sizes in that dimension."
      ]
    },
    {
      "cell_type": "code",
      "metadata": {
        "ExecuteTime": {
          "end_time": "2021-03-04T12:07:19.817077Z",
          "start_time": "2021-03-04T12:07:19.809988Z"
        },
        "id": "8uzvnpuHrNuT"
      },
      "source": [
        "a = np.array([[0,0,0],[10,10,10],[20,20,20],[30,30,30]]) \n",
        "b = np.array([1,2,3]) \n",
        "\n",
        "a + b"
      ],
      "execution_count": null,
      "outputs": []
    },
    {
      "cell_type": "code",
      "metadata": {
        "ExecuteTime": {
          "end_time": "2021-03-04T12:07:33.421048Z",
          "start_time": "2021-03-04T12:07:33.406569Z"
        },
        "id": "6u9DaBRprNuU",
        "outputId": "dd6f04ef-bec8-426a-bb82-0ae79a836014"
      },
      "source": [
        "a = np.array([[0,0,0],[10,10,10],[20,20,20],[30,30,30]]) \n",
        "b = np.array([1,2]) \n",
        "\n",
        "a + b"
      ],
      "execution_count": null,
      "outputs": [
        {
          "output_type": "error",
          "ename": "ValueError",
          "evalue": "operands could not be broadcast together with shapes (4,3) (2,) ",
          "traceback": [
            "\u001b[1;31m---------------------------------------------------------------------------\u001b[0m",
            "\u001b[1;31mValueError\u001b[0m                                Traceback (most recent call last)",
            "\u001b[1;32m<ipython-input-8-dfd7639145da>\u001b[0m in \u001b[0;36m<module>\u001b[1;34m\u001b[0m\n\u001b[0;32m      2\u001b[0m \u001b[0mb\u001b[0m \u001b[1;33m=\u001b[0m \u001b[0mnp\u001b[0m\u001b[1;33m.\u001b[0m\u001b[0marray\u001b[0m\u001b[1;33m(\u001b[0m\u001b[1;33m[\u001b[0m\u001b[1;36m1\u001b[0m\u001b[1;33m,\u001b[0m\u001b[1;36m2\u001b[0m\u001b[1;33m]\u001b[0m\u001b[1;33m)\u001b[0m\u001b[1;33m\u001b[0m\u001b[1;33m\u001b[0m\u001b[0m\n\u001b[0;32m      3\u001b[0m \u001b[1;33m\u001b[0m\u001b[0m\n\u001b[1;32m----> 4\u001b[1;33m \u001b[0ma\u001b[0m \u001b[1;33m+\u001b[0m \u001b[0mb\u001b[0m\u001b[1;33m\u001b[0m\u001b[1;33m\u001b[0m\u001b[0m\n\u001b[0m",
            "\u001b[1;31mValueError\u001b[0m: operands could not be broadcast together with shapes (4,3) (2,) "
          ]
        }
      ]
    },
    {
      "cell_type": "code",
      "metadata": {
        "ExecuteTime": {
          "end_time": "2021-03-04T12:07:39.659603Z",
          "start_time": "2021-03-04T12:07:39.650627Z"
        },
        "id": "ZR99DmfXrNuU",
        "outputId": "b0f7c1c2-0aad-4375-fa8d-707695bc6f83"
      },
      "source": [
        "a = np.array([[0,0,0],[10,10,10],[20,20,20],[30,30,30]]) \n",
        "b = np.array([3]) \n",
        "\n",
        "a + b"
      ],
      "execution_count": null,
      "outputs": [
        {
          "output_type": "execute_result",
          "data": {
            "text/plain": [
              "array([[ 3,  3,  3],\n",
              "       [13, 13, 13],\n",
              "       [23, 23, 23],\n",
              "       [33, 33, 33]])"
            ]
          },
          "metadata": {
            "tags": []
          },
          "execution_count": 9
        }
      ]
    },
    {
      "cell_type": "markdown",
      "metadata": {
        "id": "lz5ALAQjrNuU"
      },
      "source": [
        "## Adding of Diagonals"
      ]
    },
    {
      "cell_type": "code",
      "metadata": {
        "ExecuteTime": {
          "end_time": "2021-03-04T12:15:10.536442Z",
          "start_time": "2021-03-04T12:15:10.531450Z"
        },
        "id": "OMvBxFcUrNuV"
      },
      "source": [
        "a = np.array([[1,1],[1,1]])"
      ],
      "execution_count": null,
      "outputs": []
    },
    {
      "cell_type": "code",
      "metadata": {
        "ExecuteTime": {
          "end_time": "2021-03-04T12:15:11.783022Z",
          "start_time": "2021-03-04T12:15:11.775040Z"
        },
        "id": "41PeVJ9mrNuV",
        "outputId": "33c472fd-713c-4b69-d464-c27b9ef36128"
      },
      "source": [
        "np.trace(a)"
      ],
      "execution_count": null,
      "outputs": [
        {
          "output_type": "execute_result",
          "data": {
            "text/plain": [
              "2"
            ]
          },
          "metadata": {
            "tags": []
          },
          "execution_count": 18
        }
      ]
    },
    {
      "cell_type": "markdown",
      "metadata": {
        "id": "73K8wEIzrNuV"
      },
      "source": [
        "## Universal Array Functions\n",
        "\n",
        "Numpy comes with many [universal array functions](http://docs.scipy.org/doc/numpy/reference/ufuncs.html), which are essentially just mathematical operations you can use to perform the operation across the array. Let's show some common ones:"
      ]
    },
    {
      "cell_type": "code",
      "metadata": {
        "id": "XH3suQIArNuW",
        "outputId": "724b3568-776e-409e-d310-11da624995a4"
      },
      "source": [
        "#Taking Square Roots\n",
        "arr = np.arange(0,11)\n",
        "np.sqrt(arr)"
      ],
      "execution_count": null,
      "outputs": [
        {
          "output_type": "execute_result",
          "data": {
            "text/plain": [
              "array([0.        , 1.        , 1.41421356, 1.73205081, 2.        ,\n",
              "       2.23606798, 2.44948974, 2.64575131, 2.82842712, 3.        ,\n",
              "       3.16227766])"
            ]
          },
          "metadata": {
            "tags": []
          },
          "execution_count": 3
        }
      ]
    },
    {
      "cell_type": "code",
      "metadata": {
        "id": "eI2fUsHcrNuW",
        "outputId": "ad6993de-fe5e-431c-c073-47eeae75a533"
      },
      "source": [
        "#Calcualting product\n",
        "np.prod(arr)"
      ],
      "execution_count": null,
      "outputs": [
        {
          "output_type": "execute_result",
          "data": {
            "text/plain": [
              "0"
            ]
          },
          "metadata": {
            "tags": []
          },
          "execution_count": 4
        }
      ]
    },
    {
      "cell_type": "code",
      "metadata": {
        "id": "HqcFZPWerNuW",
        "outputId": "c21db281-1459-4d72-8690-afa2b72a6418"
      },
      "source": [
        "#Calcualting mean\n",
        "np.mean(arr)"
      ],
      "execution_count": null,
      "outputs": [
        {
          "output_type": "execute_result",
          "data": {
            "text/plain": [
              "5.0"
            ]
          },
          "metadata": {
            "tags": []
          },
          "execution_count": 5
        }
      ]
    },
    {
      "cell_type": "code",
      "metadata": {
        "id": "mQum2ZuirNuX",
        "outputId": "85e04fd1-d6b0-448d-c91f-ebbd095600db"
      },
      "source": [
        "#Calcualting Standard Deviation\n",
        "np.std(arr)"
      ],
      "execution_count": null,
      "outputs": [
        {
          "output_type": "execute_result",
          "data": {
            "text/plain": [
              "3.1622776601683795"
            ]
          },
          "metadata": {
            "tags": []
          },
          "execution_count": 6
        }
      ]
    },
    {
      "cell_type": "code",
      "metadata": {
        "id": "GYN2oxKNrNuX",
        "outputId": "e773365e-5699-4037-e7f7-84fd9eaebb5e"
      },
      "source": [
        "#Calcualting Square\n",
        "np.square(arr)"
      ],
      "execution_count": null,
      "outputs": [
        {
          "output_type": "execute_result",
          "data": {
            "text/plain": [
              "array([  0,   1,   4,   9,  16,  25,  36,  49,  64,  81, 100], dtype=int32)"
            ]
          },
          "metadata": {
            "tags": []
          },
          "execution_count": 8
        }
      ]
    },
    {
      "cell_type": "code",
      "metadata": {
        "id": "YPUUQYHWrNuX",
        "outputId": "7d7d8ad6-194a-43ed-dc65-f8d585aa2523"
      },
      "source": [
        "np.max(arr) #same as arr.max()"
      ],
      "execution_count": null,
      "outputs": [
        {
          "output_type": "execute_result",
          "data": {
            "text/plain": [
              "9"
            ]
          },
          "metadata": {
            "tags": []
          },
          "execution_count": 86
        }
      ]
    },
    {
      "cell_type": "code",
      "metadata": {
        "id": "mN_AzYqprNuY",
        "outputId": "aae17ea8-d98c-4411-bb68-c5ca1d0f4470"
      },
      "source": [
        "np.sin(arr)"
      ],
      "execution_count": null,
      "outputs": [
        {
          "output_type": "execute_result",
          "data": {
            "text/plain": [
              "array([ 0.        ,  0.84147098,  0.90929743,  0.14112001, -0.7568025 ,\n",
              "       -0.95892427, -0.2794155 ,  0.6569866 ,  0.98935825,  0.41211849])"
            ]
          },
          "metadata": {
            "tags": []
          },
          "execution_count": 87
        }
      ]
    },
    {
      "cell_type": "code",
      "metadata": {
        "id": "aKxKB-RPrNuY",
        "outputId": "35fc3a1e-4597-4871-c2ba-6733c1ffc4ce"
      },
      "source": [
        "np.log(arr)"
      ],
      "execution_count": null,
      "outputs": [
        {
          "output_type": "stream",
          "text": [
            "C:\\ProgramData\\Anaconda3\\lib\\site-packages\\ipykernel_launcher.py:1: RuntimeWarning: divide by zero encountered in log\n",
            "  \"\"\"Entry point for launching an IPython kernel.\n"
          ],
          "name": "stderr"
        },
        {
          "output_type": "execute_result",
          "data": {
            "text/plain": [
              "array([      -inf, 0.        , 0.69314718, 1.09861229, 1.38629436,\n",
              "       1.60943791, 1.79175947, 1.94591015, 2.07944154, 2.19722458])"
            ]
          },
          "metadata": {
            "tags": []
          },
          "execution_count": 88
        }
      ]
    },
    {
      "cell_type": "code",
      "metadata": {
        "id": "I3kpNoEJrNuY",
        "outputId": "86a2a4c8-2e74-4a8f-a117-97ced8b976ea"
      },
      "source": [
        "# Array element from first array (arr1) is raised to the power of element from second element (arr2)(all happens element-wise).\n",
        "# Both arr1 and arr2 must have same shape and each element in arr1 must be raised to corresponding +ve value from arr2.\n",
        "\n",
        "arr1 = [2, 2, 2, 2, 2] \n",
        "arr2 = [2, 3, 4, 5, 6] \n",
        "np.power(arr1, arr2) "
      ],
      "execution_count": null,
      "outputs": [
        {
          "output_type": "execute_result",
          "data": {
            "text/plain": [
              "array([ 4,  8, 16, 32, 64], dtype=int32)"
            ]
          },
          "metadata": {
            "tags": []
          },
          "execution_count": 10
        }
      ]
    },
    {
      "cell_type": "markdown",
      "metadata": {
        "id": "hujFn45SrNuZ"
      },
      "source": [
        "## More Methods\n",
        "[ONLINE LINK](https://www.geeksforgeeks.org/python-numpy/)"
      ]
    },
    {
      "cell_type": "markdown",
      "metadata": {
        "id": "Sd7LFspirNuZ"
      },
      "source": [
        "# NUMPY SESSION ENDS"
      ]
    }
  ]
}
