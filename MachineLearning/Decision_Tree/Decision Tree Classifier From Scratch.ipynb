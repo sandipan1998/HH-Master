{
 "cells": [
  {
   "cell_type": "markdown",
   "metadata": {},
   "source": [
    "<b>Sample dataset:</b> The dataset is specially created to understand decision tree. Here each row is a sample data and the last column is the label. The first two columns are features. \n",
    "\n",
    "<b>Suggestion:</b> Feel free to modify it by adding more features & examples.\n",
    "\n",
    "<b>Interesting note:</b> In the current dataset 2nd and 5th examples have the same features, but different labels. This will help you to understand the concept better.\n"
   ]
  },
  {
   "cell_type": "code",
   "execution_count": 34,
   "metadata": {},
   "outputs": [],
   "source": [
    "training_data = [['Green', 3, 'Mango'],['Yellow', 3, 'Mango'],['Red', 1, 'Grape'],['Red', 1, 'Grape'],['Yellow', 3, 'Lemon']]\n",
    "# Column labels.\n",
    "# These are used only to print the tree.\n",
    "header = [\"color\", \"diameter\", \"label\"]"
   ]
  },
  {
   "cell_type": "code",
   "execution_count": 37,
   "metadata": {},
   "outputs": [],
   "source": [
    "def unique_value(rows, col):\n",
    "    #Find unique values for a column in a dataset.\n",
    "    return set([row[col] for row in rows])"
   ]
  },
  {
   "cell_type": "markdown",
   "metadata": {},
   "source": [
    "Testing the function <b>unique_value</b> to find the unique values from a particular column"
   ]
  },
  {
   "cell_type": "code",
   "execution_count": 62,
   "metadata": {},
   "outputs": [
    {
     "name": "stdout",
     "output_type": "stream",
     "text": [
      "{'Green', 'Yellow', 'Red'} \n",
      " {1, 3} \n",
      " {'Mango', 'Grape', 'Lemon'}\n"
     ]
    }
   ],
   "source": [
    "a = unique_value(training_data, 0)\n",
    "b = unique_value(training_data, 1)\n",
    "c = unique_value(training_data, 2)\n",
    "print( a,\"\\n\",b ,\"\\n\",c)"
   ]
  },
  {
   "cell_type": "code",
   "execution_count": 90,
   "metadata": {},
   "outputs": [],
   "source": [
    "def count_class(rows):\n",
    "    #Counts the number of each type of example in a dataset.\n",
    "    counts = {}  # a dictionary of label -> count.\n",
    "    for row in rows:\n",
    "        # in our sample dataset, we have label as the last column\n",
    "        label = row[-1]\n",
    "        if label not in counts:\n",
    "            counts[label] = 0\n",
    "        counts[label] += 1\n",
    "    return counts"
   ]
  },
  {
   "cell_type": "markdown",
   "metadata": {},
   "source": [
    "Testing the function <b>count_class</b> to find the count of each fruit(class)"
   ]
  },
  {
   "cell_type": "code",
   "execution_count": 91,
   "metadata": {},
   "outputs": [
    {
     "data": {
      "text/plain": [
       "{'Mango': 2, 'Grape': 2, 'Lemon': 1}"
      ]
     },
     "execution_count": 91,
     "metadata": {},
     "output_type": "execute_result"
    }
   ],
   "source": [
    "count_class(training_data)"
   ]
  },
  {
   "cell_type": "code",
   "execution_count": 92,
   "metadata": {},
   "outputs": [],
   "source": [
    "def is_numeric(value):\n",
    "    #Test if a value is numeric.\n",
    "    return isinstance(value, int) or isinstance(value, float)"
   ]
  },
  {
   "cell_type": "markdown",
   "metadata": {},
   "source": [
    "Testing the function <b>is_numeric</b> to test wheather a value is numeric or not"
   ]
  },
  {
   "cell_type": "code",
   "execution_count": 93,
   "metadata": {},
   "outputs": [
    {
     "name": "stdout",
     "output_type": "stream",
     "text": [
      "True False\n"
     ]
    }
   ],
   "source": [
    "a = is_numeric(7)\n",
    "b = is_numeric('Red')\n",
    "print(a,b)"
   ]
  },
  {
   "cell_type": "code",
   "execution_count": 94,
   "metadata": {},
   "outputs": [],
   "source": [
    "class Question:# A Question is used to partition a dataset.\n",
    "\n",
    "#Question will take two parameters: column number(e.g., 0 for Color) & column value(e.g., Green).\n",
    "\n",
    "    #This __init__ function will allow passing the parameters to the class 'Question'\n",
    "    def __init__(self, column, value):\n",
    "        self.column = column\n",
    "        self.value = value\n",
    "\n",
    "    #The 'match' method is used to compare the feature value in an example to the feature value stored in the question.\n",
    "    def match(self, example):\n",
    "        # Compare the feature value in an example to the feature value in this question.\n",
    "        val = example[self.column]\n",
    "        if is_numeric(val):\n",
    "            return val >= self.value\n",
    "        else:\n",
    "            return val == self.value\n",
    "\n",
    "    def __repr__(self):\n",
    "        # This is just a helper method to print the question in a readable format.\n",
    "        condition = \"==\"\n",
    "        if is_numeric(self.value):\n",
    "            condition = \">=\"\n",
    "        return \"Is %s %s %s?\" % (header[self.column], condition, str(self.value))"
   ]
  },
  {
   "cell_type": "markdown",
   "metadata": {},
   "source": [
    "Testing the class <b>Question</b>"
   ]
  },
  {
   "cell_type": "code",
   "execution_count": 95,
   "metadata": {},
   "outputs": [
    {
     "name": "stdout",
     "output_type": "stream",
     "text": [
      "True\n",
      "False\n"
     ]
    }
   ],
   "source": [
    "q = Question(0, 'Green')\n",
    "example1 = training_data[0]\n",
    "example2 = training_data[1]\n",
    "print(q.match(example1))\n",
    "print(q.match(example2))"
   ]
  },
  {
   "cell_type": "code",
   "execution_count": 96,
   "metadata": {},
   "outputs": [],
   "source": [
    "#This function is used to partition the dataset on the basis of the question.\n",
    "# If the row in the dataset matches the question, add it to 'true rows' else 'false rows'\n",
    "def partition(rows, question):\n",
    "    true_rows, false_rows = [], []\n",
    "    for row in rows:\n",
    "        if question.match(row):\n",
    "            true_rows.append(row)\n",
    "        else:\n",
    "            false_rows.append(row)\n",
    "    return true_rows, false_rows"
   ]
  },
  {
   "cell_type": "markdown",
   "metadata": {},
   "source": [
    "Testing the function: <b>partition</b> and dividing the dataset on the basis of some Questions"
   ]
  },
  {
   "cell_type": "code",
   "execution_count": 97,
   "metadata": {},
   "outputs": [
    {
     "name": "stdout",
     "output_type": "stream",
     "text": [
      "When color is red: \n",
      " [['Red', 1, 'Grape'], ['Red', 1, 'Grape']]\n",
      "[['Green', 3, 'Mango'], ['Yellow', 3, 'Mango'], ['Yellow', 3, 'Lemon']] \n",
      "\n",
      "When color is yellow: \n",
      " [['Yellow', 3, 'Mango'], ['Yellow', 3, 'Lemon']]\n",
      "[['Green', 3, 'Mango'], ['Red', 1, 'Grape'], ['Red', 1, 'Grape']] \n",
      "\n",
      "When diameter is 3: \n",
      " [['Green', 3, 'Mango'], ['Yellow', 3, 'Mango'], ['Yellow', 3, 'Lemon']]\n",
      "[['Red', 1, 'Grape'], ['Red', 1, 'Grape']] \n",
      "\n"
     ]
    }
   ],
   "source": [
    "true_rows, false_rows = partition(training_data, Question(0, 'Red'))\n",
    "print(\"When color is red: \\n\", true_rows)\n",
    "print(false_rows,\"\\n\")\n",
    "\n",
    "true_rows, false_rows = partition(training_data, Question(0, 'Yellow'))\n",
    "print(\"When color is yellow: \\n\", true_rows)\n",
    "print(false_rows,\"\\n\")\n",
    "\n",
    "true_rows, false_rows = partition(training_data, Question(1, 3))\n",
    "print(\"When diameter is 3: \\n\", true_rows)\n",
    "print(false_rows,\"\\n\")"
   ]
  },
  {
   "cell_type": "code",
   "execution_count": 104,
   "metadata": {},
   "outputs": [],
   "source": [
    "def gini(rows):\n",
    "    counts = count_class(rows)\n",
    "    impurity = 1\n",
    "    for label in counts:\n",
    "        prob_of_label = counts[label] / float(len(rows))\n",
    "        impurity -= prob_of_label**2\n",
    "    return impurity"
   ]
  },
  {
   "cell_type": "markdown",
   "metadata": {},
   "source": [
    "Testing the <b>gini</b> function to calculate the gini impurity"
   ]
  },
  {
   "cell_type": "code",
   "execution_count": 102,
   "metadata": {},
   "outputs": [
    {
     "name": "stdout",
     "output_type": "stream",
     "text": [
      "Gini Index - No mixing:  0.0\n",
      "Gini Index - Some mixing:  0.5\n",
      "Gini Index - Lots of mixing:  0.7999999999999998\n"
     ]
    }
   ],
   "source": [
    "no_mixing = [['Mango'],['Mango']]\n",
    "print(\"Gini Index - No mixing: \",gini(no_mixing))\n",
    "\n",
    "\n",
    "some_mixing = [['Mango'],['Orange']]\n",
    "print(\"Gini Index - Some mixing: \", gini(some_mixing))\n",
    "\n",
    "\n",
    "lots_of_mixing = [['Banana'],['Orange'],['Grape'],['Apple'],['Mango']]\n",
    "print(\"Gini Index - Lots of mixing: \", gini(lots_of_mixing))"
   ]
  },
  {
   "cell_type": "code",
   "execution_count": 103,
   "metadata": {},
   "outputs": [],
   "source": [
    "# Uncertainty of the starting node -  Weighted impurity of two child nodes.\n",
    "def info_gain(left, right, current_uncertainty):\n",
    "   \n",
    "    p = float(len(left)) / (len(left) + len(right))\n",
    "    return current_uncertainty - p * gini(left) - (1 - p) * gini(right)"
   ]
  },
  {
   "cell_type": "markdown",
   "metadata": {},
   "source": [
    "<b>DryRun:</b> Testing the info_gain function to see how it works."
   ]
  },
  {
   "cell_type": "code",
   "execution_count": 109,
   "metadata": {},
   "outputs": [
    {
     "name": "stdout",
     "output_type": "stream",
     "text": [
      "How much information do we gain by partioning on 'Green'?\n",
      "0.1399999999999999\n",
      " \n",
      "What about if we partioned on 'Red' instead?\n",
      "0.37333333333333324\n",
      "\n",
      " It looks like we learned more using 'Red' (0.37), than 'Green' (0.14)\n",
      "Why? Look at the different splits that result, and see which one looks more 'unmixed' to you\n",
      "\n",
      " Here, the true_rows contain only 'Grapes'\n",
      "[['Red', 1, 'Grape'], ['Red', 1, 'Grape']]\n",
      "\n",
      " And the false rows contain two types of fruit. Not too bad\n",
      "[['Green', 3, 'Mango'], ['Yellow', 3, 'Mango'], ['Yellow', 3, 'Lemon']]\n",
      "\n",
      " On the other hand, partitioning by Green doesn't help so much\n",
      "\n",
      " We've isolated one apple in the true rows.\n",
      "[['Green', 3, 'Mango']]\n",
      "\n",
      " But, the false-rows are badly mixed up\n",
      "[['Yellow', 3, 'Mango'], ['Red', 1, 'Grape'], ['Red', 1, 'Grape'], ['Yellow', 3, 'Lemon']]\n"
     ]
    }
   ],
   "source": [
    "# Demo: Calculate the uncertainy of our training data.\n",
    "current_uncertainty = gini(training_data)\n",
    "print(\"How much information do we gain by partioning on 'Green'?\")\n",
    "true_rows, false_rows = partition(training_data, Question(0, 'Green'))\n",
    "print(info_gain(true_rows, false_rows, current_uncertainty))\n",
    "\n",
    "print(\" \\nWhat about if we partioned on 'Red' instead?\")\n",
    "true_rows, false_rows = partition(training_data, Question(0,'Red'))\n",
    "print(info_gain(true_rows, false_rows, current_uncertainty))\n",
    "\n",
    "print(\"\\n It looks like we learned more using 'Red' (0.37), than 'Green' (0.14)\")\n",
    "print(\"Why? Look at the different splits that result, and see which one looks more 'unmixed' to you\")\n",
    "\n",
    "true_rows, false_rows = partition(training_data, Question(0,'Red'))\n",
    "\n",
    "print(\"\\n Here, the true_rows contain only 'Grapes'\")\n",
    "print(true_rows)\n",
    "print(\"\\n And the false rows contain two types of fruit. Not too bad\")\n",
    "print(false_rows)\n",
    "\n",
    "print(\"\\n On the other hand, partitioning by Green doesn't help so much\")\n",
    "true_rows, false_rows = partition(training_data, Question(0,'Green'))\n",
    "\n",
    "print(\"\\n We've isolated one apple in the true rows.\")\n",
    "print(true_rows)\n",
    "\n",
    "print(\"\\n But, the false-rows are badly mixed up\")\n",
    "print(false_rows)"
   ]
  },
  {
   "cell_type": "code",
   "execution_count": 123,
   "metadata": {},
   "outputs": [],
   "source": [
    "def find_best_split(rows):\n",
    "    #Find the best question to ask by iterating over every feature / value and calculating the information gain.\n",
    "    best_gain = 0  # keep track of the best information gain\n",
    "    best_question = None  # keep train of the feature / value that produced it\n",
    "    current_uncertainty = gini(rows)\n",
    "    n_features = len(rows[0]) - 1  # number of columns\n",
    "\n",
    "    for col in range(n_features):  # for each feature\n",
    "\n",
    "        values = set([row[col] for row in rows])  # unique values in the column\n",
    "\n",
    "        for val in values:  # for each value\n",
    "\n",
    "            question = Question(col, val)\n",
    "\n",
    "            # try splitting the dataset\n",
    "            true_rows, false_rows = partition(rows, question)\n",
    "\n",
    "            # Skip this split if it doesn't divide the dataset.\n",
    "            if len(true_rows) == 0 or len(false_rows) == 0:\n",
    "                continue\n",
    "\n",
    "            # Calculate the information gain from this split\n",
    "            gain = info_gain(true_rows, false_rows, current_uncertainty)\n",
    "\n",
    "            if gain >=best_gain:\n",
    "                best_gain, best_question = gain, question\n",
    "\n",
    "    return best_gain, best_question"
   ]
  },
  {
   "cell_type": "code",
   "execution_count": 124,
   "metadata": {},
   "outputs": [
    {
     "name": "stdout",
     "output_type": "stream",
     "text": [
      "best_gain:  0.37333333333333324 \n",
      " best_question:  Is diameter >= 3?\n"
     ]
    }
   ],
   "source": [
    "# Demo: Find the best question to ask first from our sample dataset.\n",
    "best_gain, best_question = find_best_split(training_data)\n",
    "print(\"best_gain: \",best_gain,\"\\n\",\"best_question: \",best_question)"
   ]
  },
  {
   "cell_type": "code",
   "execution_count": 120,
   "metadata": {},
   "outputs": [],
   "source": [
    "def find_best_split(rows):\n",
    "    #Find the best question to ask by iterating over every feature / value and calculating the information gain.\n",
    "    best_gain = 0  # keep track of the best information gain\n",
    "    best_question = None  # keep train of the feature / value that produced it\n",
    "    current_uncertainty = gini(rows)\n",
    "    n_features = len(rows[0]) - 1  # number of columns\n",
    "\n",
    "    for col in range(n_features):  # for each feature\n",
    "\n",
    "        values = set([row[col] for row in rows])  # unique values in the column\n",
    "\n",
    "        for val in values:  # for each value\n",
    "\n",
    "            question = Question(col, val)\n",
    "\n",
    "            # try splitting the dataset\n",
    "            true_rows, false_rows = partition(rows, question)\n",
    "\n",
    "            # Skip this split if it doesn't divide the dataset.\n",
    "            if len(true_rows) == 0 or len(false_rows) == 0:\n",
    "                continue\n",
    "\n",
    "            # Calculate the information gain from this split\n",
    "            gain = info_gain(true_rows, false_rows, current_uncertainty)\n",
    "\n",
    "            # You actually can use '>' instead of '>=' here \n",
    "            \n",
    "            if gain >best_gain:\n",
    "                best_gain, best_question = gain, question\n",
    "\n",
    "    return best_gain, best_question"
   ]
  },
  {
   "cell_type": "code",
   "execution_count": 121,
   "metadata": {},
   "outputs": [
    {
     "name": "stdout",
     "output_type": "stream",
     "text": [
      "best_gain:  0.37333333333333324 \n",
      " best_question:  Is color == Red?\n"
     ]
    }
   ],
   "source": [
    "# Demo: Find the best question to ask first from our sample dataset.\n",
    "best_gain, best_question = find_best_split(training_data)\n",
    "print(\"best_gain: \",best_gain,\"\\n\",\"best_question: \",best_question)\n",
    "# FYI: 'is color == Red' is just as good."
   ]
  },
  {
   "cell_type": "code",
   "execution_count": 126,
   "metadata": {},
   "outputs": [],
   "source": [
    "class Leaf:\n",
    "    \"\"\"A Leaf node classifies data. \n",
    "    This holds a dictionary of class (e.g., \"Apple\") -> number of times\n",
    "    it appears in the rows from the training data that reach this leaf.\n",
    "    \"\"\"\n",
    "\n",
    "    def __init__(self, rows):\n",
    "        self.predictions = count_class(rows)\n",
    "\n",
    "\n",
    "class Decision_Node:\n",
    "    \"\"\"A Decision Node asks a question.\n",
    "    This holds a reference to the question, and to the two child nodes.\n",
    "    \"\"\"\n",
    "\n",
    "    def __init__(self,question,true_branch,false_branch):\n",
    "        self.question = question\n",
    "        self.true_branch = true_branch\n",
    "        self.false_branch = false_branch\n",
    "\n",
    "\n",
    "def build_tree(rows):\n",
    "     \n",
    "    # Try partitioing the dataset on each of the unique attribute,\n",
    "    # calculate the information gain, and return the question that produces the highest gain.\n",
    "    gain, question = find_best_split(rows)\n",
    "\n",
    "    # Base case: no further info gain\n",
    "    # Since we can ask no further questions,we'll return a leaf.\n",
    "    if gain == 0:\n",
    "        return Leaf(rows)\n",
    "\n",
    "    # If we reach here, we have found a useful feature / value to partition on.\n",
    "    true_rows, false_rows = partition(rows, question)\n",
    "\n",
    "    # Recursively build the true branch.\n",
    "    true_branch = build_tree(true_rows)\n",
    "\n",
    "    # Recursively build the false branch.\n",
    "    false_branch = build_tree(false_rows)\n",
    "\n",
    "    # Return a Question node.\n",
    "    # This records the best feature / value to ask at this point, as well as the branches to follow depending on the answer.\n",
    "    return Decision_Node(question, true_branch, false_branch)\n",
    "\n",
    "\n",
    "def print_tree(node, spacing=\"\"):\n",
    "   \n",
    "    # Base case: we've reached a leaf\n",
    "    if isinstance(node, Leaf):\n",
    "        print (spacing + \"Predict\", node.predictions)\n",
    "        return\n",
    "\n",
    "    # Print the question at this node\n",
    "    print (spacing + str(node.question))\n",
    "\n",
    "    # Call this function recursively on the true branch\n",
    "    print (spacing + '--> True:')\n",
    "    print_tree(node.true_branch, spacing + \"  \")\n",
    "\n",
    "    # Call this function recursively on the false branch\n",
    "    print (spacing + '--> False:')\n",
    "    print_tree(node.false_branch, spacing + \"  \")\n",
    "\n",
    "\n",
    "def classify(row, node):\n",
    "    \n",
    "    # Base case: we've reached a leaf\n",
    "    if isinstance(node, Leaf):\n",
    "        return node.predictions\n",
    "\n",
    "    # Decide whether to follow the true-branch or the false-branch.\n",
    "    # Compare the feature / value stored in the node, to the example we're refering to.\n",
    "    if node.question.match(row):\n",
    "        return classify(row, node.true_branch)\n",
    "    else:\n",
    "        return classify(row, node.false_branch)"
   ]
  },
  {
   "cell_type": "code",
   "execution_count": 136,
   "metadata": {},
   "outputs": [
    {
     "name": "stdout",
     "output_type": "stream",
     "text": [
      "{'Mango': 1} \n",
      "\n",
      "{'Mango': 1, 'Lemon': 1} \n",
      "\n",
      "{'Grape': 2} \n",
      "\n",
      "{'Grape': 2} \n",
      "\n",
      "{'Mango': 1, 'Lemon': 1} \n",
      "\n"
     ]
    }
   ],
   "source": [
    "# Demo: The tree predicts the 1st row of our training data is a mango with confidence 1.\n",
    "my_tree = build_tree(training_data)\n",
    "\n",
    "for i in range(len(training_data)):\n",
    "    print(classify(training_data[i], my_tree),\"\\n\")"
   ]
  },
  {
   "cell_type": "code",
   "execution_count": 138,
   "metadata": {},
   "outputs": [],
   "source": [
    "def print_leaf(counts):\n",
    "    # A nicer way to print the predictions at a leaf.\n",
    "    total = sum(counts.values()) * 1.0\n",
    "    probs = {}\n",
    "    for lbl in counts.keys():\n",
    "        probs[lbl] = str(int(counts[lbl] / total * 100)) + \"%\"\n",
    "    return probs"
   ]
  },
  {
   "cell_type": "code",
   "execution_count": 146,
   "metadata": {},
   "outputs": [
    {
     "name": "stdout",
     "output_type": "stream",
     "text": [
      "{'Mango': '100%'}\n",
      "{'Mango': '50%', 'Lemon': '50%'}\n",
      "{'Grape': '100%'}\n",
      "{'Grape': '100%'}\n",
      "{'Mango': '50%', 'Lemon': '50%'}\n"
     ]
    }
   ],
   "source": [
    "# Demo: Printing that a bit nicer\n",
    "print_leaf(classify(training_data[0], my_tree))\n",
    "for i in range(len(training_data)):\n",
    "    print(print_leaf(classify(training_data[i], my_tree)))"
   ]
  },
  {
   "cell_type": "code",
   "execution_count": 160,
   "metadata": {},
   "outputs": [
    {
     "name": "stdout",
     "output_type": "stream",
     "text": [
      "Is diameter >= 3?\n",
      "--> True:\n",
      "  Is color == Yellow?\n",
      "  --> True:\n",
      "    Predict {'Mango': 1, 'Lemon': 1}\n",
      "  --> False:\n",
      "    Predict {'Mango': 1}\n",
      "--> False:\n",
      "  Predict {'Grape': 2}\n",
      "Actual: Mango. Predicted: {'Mango': '100%'}\n",
      "Actual: Mango. Predicted: {'Mango': '50%', 'Lemon': '50%'}\n",
      "Actual: Grape. Predicted: {'Grape': '100%'}\n",
      "Actual: Grape. Predicted: {'Grape': '100%'}\n",
      "Actual: Lemon. Predicted: {'Mango': '50%', 'Lemon': '50%'}\n"
     ]
    }
   ],
   "source": [
    "my_tree = build_tree(training_data)\n",
    "\n",
    "print_tree(my_tree)\n",
    "\n",
    "# Evaluate\n",
    "testing_data = [\n",
    "        ['Green', 3, 'Mango'],\n",
    "        ['Yellow', 3, 'Mango'],\n",
    "        ['Red', 2, 'Grape'],\n",
    "        ['Red', 1, 'Grape'],\n",
    "        ['Yellow', 3, 'Lemon'],\n",
    "        ]\n",
    "\n",
    "for row in testing_data:\n",
    "        print (\"Actual: %s. Predicted: %s\" % (row[-1], print_leaf(classify(row, my_tree))))\n",
    "\n",
    "# What to do next\n",
    "# - add support for missing (or unseen) attributes\n",
    "# - prune the tree to prevent overfitting\n",
    "# - add support for regression\n"
   ]
  },
  {
   "cell_type": "code",
   "execution_count": 161,
   "metadata": {},
   "outputs": [
    {
     "name": "stdout",
     "output_type": "stream",
     "text": [
      "Is diameter >= 3?\n",
      "--> True:\n",
      "  Is color == Yellow?\n",
      "  --> True:\n",
      "    Predict {'Mango': 1, 'Lemon': 1}\n",
      "  --> False:\n",
      "    Predict {'Mango': 1}\n",
      "--> False:\n",
      "  Predict {'Grape': 2}\n",
      "Actual: Mango. Predicted: {'Mango': '100%'}\n",
      "Actual: Mango. Predicted: {'Mango': '50%', 'Lemon': '50%'}\n",
      "Actual: Grape. Predicted: {'Grape': '100%'}\n",
      "Actual: Grape. Predicted: {'Grape': '100%'}\n",
      "Actual: Lemon. Predicted: {'Mango': '50%', 'Lemon': '50%'}\n"
     ]
    }
   ],
   "source": [
    "my_tree = build_tree(training_data)\n",
    "\n",
    "print_tree(my_tree)\n",
    "\n",
    "# Evaluate\n",
    "testing_data = [\n",
    "        ['Green', 3, 'Mango'],\n",
    "        ['Yellow', 3, 'Mango'],\n",
    "        ['Red', 2, 'Grape'],\n",
    "        ['Red', 1, 'Grape'],\n",
    "        ['Yellow', 3, 'Lemon']]\n",
    "        \n",
    "\n",
    "for row in testing_data:\n",
    "        print (\"Actual: %s. Predicted: %s\" % (row[-1], print_leaf(classify(row, my_tree))))\n",
    "\n",
    "# What to do next\n",
    "# - add support for missing (or unseen) attributes\n",
    "# - prune the tree to prevent overfitting\n",
    "# - add support for regression\n"
   ]
  },
  {
   "cell_type": "code",
   "execution_count": null,
   "metadata": {},
   "outputs": [],
   "source": []
  }
 ],
 "metadata": {
  "kernelspec": {
   "display_name": "Python 3",
   "language": "python",
   "name": "python3"
  },
  "language_info": {
   "codemirror_mode": {
    "name": "ipython",
    "version": 3
   },
   "file_extension": ".py",
   "mimetype": "text/x-python",
   "name": "python",
   "nbconvert_exporter": "python",
   "pygments_lexer": "ipython3",
   "version": "3.8.8"
  }
 },
 "nbformat": 4,
 "nbformat_minor": 2
}
